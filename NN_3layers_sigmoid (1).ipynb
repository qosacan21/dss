{
 "cells": [
  {
   "cell_type": "code",
   "execution_count": 5,
   "metadata": {},
   "outputs": [
    {
     "name": "stderr",
     "output_type": "stream",
     "text": [
      "<frozen importlib._bootstrap>:219: RuntimeWarning: numpy.ufunc size changed, may indicate binary incompatibility. Expected 192 from C header, got 232 from PyObject\n"
     ]
    }
   ],
   "source": [
    "import numpy as np\n",
    "import pandas as pd\n",
    "import matplotlib.pyplot as plt\n",
    "from sklearn.datasets import load_breast_cancer"
   ]
  },
  {
   "cell_type": "code",
   "execution_count": 2,
   "metadata": {},
   "outputs": [],
   "source": [
    "X, y= load_breast_cancer().data, load_breast_cancer().target.reshape(-1,1)"
   ]
  },
  {
   "cell_type": "code",
   "execution_count": 3,
   "metadata": {},
   "outputs": [
    {
     "data": {
      "text/plain": [
       "((569, 30), (569, 1))"
      ]
     },
     "execution_count": 3,
     "metadata": {},
     "output_type": "execute_result"
    }
   ],
   "source": [
    "X.shape, y.shape"
   ]
  },
  {
   "cell_type": "code",
   "execution_count": 26,
   "metadata": {},
   "outputs": [],
   "source": [
    "class NN_Build(object):\n",
    "    def __init__(self, eta = 0.005, iterations = 1000, epsilon = 0.01, dims = [X.shape[1],50,50,1]):\n",
    "        self.eta = eta\n",
    "        self.iterations =  iterations\n",
    "        self.epsilon = epsilon\n",
    "        self.dims = dims\n",
    "        self.Layers = len(dims)\n",
    "        \n",
    "    def fit(self,X,y):\n",
    "        m_ = len(y)\n",
    "        y_ = y.T\n",
    "        X_ = X.T\n",
    "        A0 = X_\n",
    "        cost_ =[]\n",
    "        acc_ = []\n",
    "        i = 1\n",
    "        parameters = {}\n",
    "        \n",
    "        for l in range(1,self.Layers):\n",
    "            parameters['W'+str(l)] = np.random.randn(self.dims[l],self.dims[l-1]) * self.epsilon\n",
    "            parameters['b'+str(l)] = np.zeros((self.dims[l],1))\n",
    "        \n",
    "        while(i != self.iterations):\n",
    "            #fwrd prp\n",
    "            Z1 = np.dot(parameters['W1'],A0) + parameters['b1']\n",
    "            A1 = self.sigmoid(Z1)\n",
    "            Z2 = np.dot(parameters['W2'],A1) + parameters['b2']\n",
    "            A2 = self.sigmoid(Z2)\n",
    "            Z3 = np.dot(parameters['W3'],A2) + parameters['b3']\n",
    "            A3 = self.sigmoid(Z3)\n",
    "            #cost\n",
    "            cost = self.cost(m_,A3,y_)\n",
    "            cost_.append(cost)\n",
    "            acc = self.acc(y_,np.where(A3>0.5,1,0),m_)\n",
    "            acc_.append(acc)\n",
    "            #derivatives\n",
    "            dZ3 = A3 - y_\n",
    "            dW3 = (1/m_) *np.dot(dZ3, A2.T)\n",
    "            db3 = (1/m_) * np.sum(dZ3, axis= 1, keepdims= True)\n",
    "            dZ2 = np.dot(parameters['W3'].T,dZ3) * (A2 * (1-A2))\n",
    "            dW2 = (1/m_) *np.dot(dZ2, A1.T)\n",
    "            db2 = (1/m_) * np.sum(dZ2, axis= 1, keepdims= True)\n",
    "            dZ1 = np.dot(parameters['W2'].T,dZ2) * (A1 * (1-A1))\n",
    "            dW1 = (1/m_) *np.dot(dZ1, A0.T)\n",
    "            db1 = (1/m_) * np.sum(dZ1, axis= 1, keepdims= True)\n",
    "            #backprog\n",
    "            parameters['W3'] -= self.eta * dW3\n",
    "            parameters['W2'] -= self.eta * dW2\n",
    "            parameters['W1'] -= self.eta * dW1\n",
    "            parameters['b3'] -= self.eta * db3\n",
    "            parameters['b2'] -= self.eta * db2\n",
    "            parameters['b1'] -= self.eta * db1   \n",
    "            if i % 500 == 0:\n",
    "                print(f'epoch:{i}::cost:{cost}::acc:{acc}')\n",
    "            i += 1\n",
    "        plt.figure(figsize = (16,7))\n",
    "        history = pd.DataFrame(cost_, columns=['cost'])\n",
    "        history['acc'] = acc_\n",
    "        plt.subplot(1,2,1)\n",
    "        plt.plot(history.acc)\n",
    "        plt.ylim(0,1)\n",
    "        plt.subplot(1,2,2)\n",
    "        plt.plot(history.cost)\n",
    "        plt.show()      \n",
    "        \n",
    "        return parameters\n",
    "    \n",
    "    def sigmoid(self,z):\n",
    "        return 1 / (1 + np.exp(-z))\n",
    "    \n",
    "    def cost(self,m_,A3,y_):\n",
    "        return -(1/m_) * np.sum( y_ * np.log(A3) + (1-y_) * np.log(1-A3))\n",
    "    \n",
    "    \n",
    "    def acc(self,y_true,y_pred,m_):\n",
    "        return np.sum(y_true == y_pred)/ m_"
   ]
  },
  {
   "cell_type": "code",
   "execution_count": 27,
   "metadata": {
    "scrolled": true
   },
   "outputs": [
    {
     "name": "stdout",
     "output_type": "stream",
     "text": [
      "epoch:500::cost:0.6597918470616164::acc:0.6274165202108963\n",
      "epoch:1000::cost:0.659293403763582::acc:0.6274165202108963\n",
      "epoch:1500::cost:0.6585404723102198::acc:0.6274165202108963\n",
      "epoch:2000::cost:0.6572886940623858::acc:0.6274165202108963\n",
      "epoch:2500::cost:0.6552167579965781::acc:0.6274165202108963\n",
      "epoch:3000::cost:0.6513818244819555::acc:0.6274165202108963\n",
      "epoch:3500::cost:0.6437228895894879::acc:0.6274165202108963\n",
      "epoch:4000::cost:0.6268349430021315::acc:0.6274165202108963\n",
      "epoch:4500::cost:0.5886241610888003::acc:0.6274165202108963\n",
      "epoch:5000::cost:0.5125349787896196::acc:0.6274165202108963\n",
      "epoch:5500::cost:0.4051934789459924::acc:0.9209138840070299\n",
      "epoch:6000::cost:0.35977012608731096::acc:0.8963093145869947\n",
      "epoch:6500::cost:0.278997425851451::acc:0.9191564147627417\n",
      "epoch:7000::cost:0.25521210381461573::acc:0.9173989455184535\n",
      "epoch:7500::cost:0.23811347719735418::acc:0.9226713532513181\n",
      "epoch:8000::cost:0.22769871867803795::acc:0.9226713532513181\n",
      "epoch:8500::cost:0.21938124702183961::acc:0.9244288224956063\n",
      "epoch:9000::cost:0.20919039764860348::acc:0.929701230228471\n",
      "epoch:9500::cost:0.20071417324268187::acc:0.929701230228471\n",
      "epoch:10000::cost:0.19509991061354842::acc:0.929701230228471\n",
      "epoch:10500::cost:0.19007760514164704::acc:0.9314586994727593\n",
      "epoch:11000::cost:0.18670699881728034::acc:0.9314586994727593\n",
      "epoch:11500::cost:0.1903846481512326::acc:0.929701230228471\n",
      "epoch:12000::cost:0.18256795301459494::acc:0.9314586994727593\n",
      "epoch:12500::cost:0.17685457971282317::acc:0.9367311072056239\n",
      "epoch:13000::cost:0.17558512564039633::acc:0.9367311072056239\n",
      "epoch:13500::cost:0.17149722644841292::acc:0.9384885764499121\n",
      "epoch:14000::cost:0.17622569418460776::acc:0.9349736379613357\n",
      "epoch:14500::cost:0.17167953786728007::acc:0.9367311072056239\n",
      "epoch:15000::cost:0.170445791860627::acc:0.9367311072056239\n",
      "epoch:15500::cost:0.1665363167627012::acc:0.9367311072056239\n",
      "epoch:16000::cost:0.1647409828326944::acc:0.9384885764499121\n",
      "epoch:16500::cost:0.16166050482508232::acc:0.9384885764499121\n",
      "epoch:17000::cost:0.1708281897224714::acc:0.9349736379613357\n",
      "epoch:17500::cost:0.16680855793680072::acc:0.9367311072056239\n",
      "epoch:18000::cost:0.1594669037779129::acc:0.9402460456942003\n",
      "epoch:18500::cost:0.16272253389406116::acc:0.9384885764499121\n",
      "epoch:19000::cost:0.16897460625586289::acc:0.9279437609841827\n",
      "epoch:19500::cost:0.15626271380680645::acc:0.9402460456942003\n"
     ]
    },
    {
     "data": {
      "image/png": "[encoded data removed]",
      "text/plain": [
       "<Figure size 1152x504 with 2 Axes>"
      ]
     },
     "metadata": {
      "needs_background": "light"
     },
     "output_type": "display_data"
    }
   ],
   "source": [
    "parameters = NN_Build(eta = 0.005, iterations= 20000, epsilon= 0.01).fit(X,y)"
   ]
  },
  {
   "cell_type": "code",
   "execution_count": null,
   "metadata": {},
   "outputs": [],
   "source": []
  }
 ],
 "metadata": {
  "kernelspec": {
   "display_name": "Python 3",
   "language": "python",
   "name": "python3"
  },
  "language_info": {
   "codemirror_mode": {
    "name": "ipython",
    "version": 3
   },
   "file_extension": ".py",
   "mimetype": "text/x-python",
   "name": "python",
   "nbconvert_exporter": "python",
   "pygments_lexer": "ipython3",
   "version": "3.8.3"
  }
 },
 "nbformat": 4,
 "nbformat_minor": 4
}
