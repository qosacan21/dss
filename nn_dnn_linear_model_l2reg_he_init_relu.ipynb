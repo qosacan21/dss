{
 "cells": [
  {
   "cell_type": "code",
   "execution_count": 1,
   "metadata": {},
   "outputs": [
    {
     "name": "stderr",
     "output_type": "stream",
     "text": [
      "<frozen importlib._bootstrap>:219: RuntimeWarning: numpy.ufunc size changed, may indicate binary incompatibility. Expected 216 from C header, got 232 from PyObject\n"
     ]
    }
   ],
   "source": [
    "import numpy as np\n",
    "import pandas as pd\n",
    "import matplotlib.pyplot as plt\n",
    "from sklearn.datasets import load_boston"
   ]
  },
  {
   "cell_type": "code",
   "execution_count": 2,
   "metadata": {},
   "outputs": [],
   "source": [
    "X, y = load_boston().data, load_boston().target.reshape(-1,1)"
   ]
  },
  {
   "cell_type": "code",
   "execution_count": 3,
   "metadata": {},
   "outputs": [
    {
     "data": {
      "text/plain": [
       "((506, 13), (506, 1))"
      ]
     },
     "execution_count": 3,
     "metadata": {},
     "output_type": "execute_result"
    }
   ],
   "source": [
    "X.shape, y.shape"
   ]
  },
  {
   "cell_type": "code",
   "execution_count": 44,
   "metadata": {},
   "outputs": [],
   "source": [
    "class NN_build(object):\n",
    "    def __init__(self, eta = 0.005, iterations = 1000, dims = [X.shape[1],50,50,1], lamb_ = 0.9, activation = 'relu'):\n",
    "        self.eta = eta\n",
    "        self.iterations = iterations\n",
    "        self.dims = dims\n",
    "        self.layers = len(dims)\n",
    "        self.lamb_ = lamb_\n",
    "        self.activation = activation\n",
    "    \n",
    "    def fit(self,X,y):\n",
    "        X_ = X.T\n",
    "        y_ = y.T\n",
    "        A0 = X_\n",
    "        m_ = len(y)\n",
    "        i = 1\n",
    "        cost_ =[]\n",
    "        cost_mae_ = []\n",
    "        parameters = {}\n",
    "        \n",
    "        for l in range(1,self.layers):  #he_init\n",
    "            parameters['W'+str(l)] = np.random.randn(self.dims[l],self.dims[l-1]) * np.sqrt(2/self.dims[l-1])\n",
    "            parameters['b'+str(l)] = np.zeros((self.dims[l],1))\n",
    "            \n",
    "            \n",
    "        while(i != self.iterations+1):\n",
    "            #forward prop\n",
    "            Z1 =  np.dot(parameters['W1'],A0) + parameters['b1']\n",
    "            if self.activation == 'relu':\n",
    "                A1 =  self.relu(Z1)\n",
    "            else:\n",
    "                A1 = self.sigmoid(Z1)\n",
    "            Z2 =  np.dot(parameters['W2'],A1) + parameters['b2']\n",
    "            if self.activation == \"relu\":\n",
    "                A2 =  self.relu(Z2)\n",
    "            else:\n",
    "                A2 = self.sigmoid(Z2)\n",
    "            Z3 =  np.dot(parameters['W3'],A2) + parameters['b3']\n",
    "            A3 =  Z3\n",
    "            #cost\n",
    "            l2_reg = (self.lamb_/(m_*2)) * (np.sum(np.square(parameters['W1'])) +  np.sum(np.square(parameters['W2'])) + np.sum(np.square(parameters['W3'])) )\n",
    "            cost = self.MSE(y_,A3,m_) + l2_reg\n",
    "            cost_.append(cost)\n",
    "            mae = self.MAE(y_,A3,m_) + l2_reg\n",
    "            cost_mae_.append(mae) \n",
    "            #derivative\n",
    "            dZ3 = A3 - y_\n",
    "            dW3 = (1/m_) * np.dot(dZ3, A2.T) + (self.lamb_/m_) * parameters['W3']\n",
    "            db3 = (1/m_) * np.sum(dZ3, axis = 1, keepdims= True)\n",
    "            if self.activation == 'relu':\n",
    "                dZ2 = np.dot(parameters['W3'].T,dZ3) * np.where(A2>=0,1,0)  #(A2 * (1-A2))\n",
    "            else:\n",
    "                dZ2 = np.dot(parameters['W3'].T,dZ3) * (A2 * (1-A2))\n",
    "            dW2 = (1/m_) * np.dot(dZ2, A1.T) + (self.lamb_/m_) * parameters['W2']\n",
    "            db2 = (1/m_) * np.sum(dZ2, axis = 1, keepdims= True)\n",
    "            if self.activation == 'relu':\n",
    "                dZ1 = np.dot(parameters['W2'].T,dZ2) * np.where(A1>=0,1,0) # (A1 * (1-A1))\n",
    "            else:\n",
    "                dZ1 = np.dot(parameters['W2'].T,dZ2) *  (A1 * (1-A1))\n",
    "            dW1 = (1/m_) * np.dot(dZ1, A0.T) + (self.lamb_/m_) * parameters['W1']\n",
    "            db1 = (1/m_) * np.sum(dZ1, axis = 1, keepdims= True)          \n",
    "            #updates\n",
    "            parameters['W1'] -= self.eta * dW1\n",
    "            parameters['W2'] -= self.eta * dW2\n",
    "            parameters['W3'] -= self.eta * dW3\n",
    "            parameters['b1'] -= self.eta * db1\n",
    "            parameters['b2'] -= self.eta * db2\n",
    "            parameters['b3'] -= self.eta * db3\n",
    "            if i % 500 ==0:\n",
    "                print('Epoch:{}: cost:{} MAE:{}'.format(i,cost,mae))\n",
    "            \n",
    "            i += 1\n",
    "        history = pd.DataFrame(cost_, columns= ['cost'])\n",
    "        history['mae'] = cost_mae_\n",
    "        plt.figure(figsize = (14,4))\n",
    "        plt.subplot(1,2,1)\n",
    "        plt.plot(history.cost)\n",
    "        plt.subplot(1,2,2)\n",
    "        plt.plot(history.mae)\n",
    "        plt.show()\n",
    "        return parameters\n",
    "    \n",
    "    \n",
    "    def MAE(self,y_true,y_pred,m_):\n",
    "        return (1/m_) * np.sum(np.abs(y_true - y_pred))\n",
    "    \n",
    "    def MSE(self,y_true,y_pred,m_):\n",
    "        return (1/m_) * np.sum(np.square(y_true - y_pred))\n",
    "    \n",
    "    def sigmoid(self,z):\n",
    "        return 1 / (1+ np.exp(-z))\n",
    "    \n",
    "    def relu(self,z):\n",
    "        return z * (z>0).astype(int)\n",
    "        \n",
    "    "
   ]
  },
  {
   "cell_type": "code",
   "execution_count": 50,
   "metadata": {},
   "outputs": [
    {
     "name": "stdout",
     "output_type": "stream",
     "text": [
      "Epoch:500: cost:103.21226073686799 MAE:8.081089888702598\n",
      "Epoch:1000: cost:85.93181070104046 MAE:7.240997258902516\n",
      "Epoch:1500: cost:80.08990918653593 MAE:6.925056641233189\n",
      "Epoch:2000: cost:75.649795132363 MAE:6.690685352930299\n",
      "Epoch:2500: cost:72.0490242597136 MAE:6.5022798003485835\n",
      "Epoch:3000: cost:69.04135460830337 MAE:6.34123813531709\n",
      "Epoch:3500: cost:66.43921687908372 MAE:6.203073387827905\n",
      "Epoch:4000: cost:64.11195822528983 MAE:6.084764488331626\n",
      "Epoch:4500: cost:62.04303788078639 MAE:5.9808061084296655\n",
      "Epoch:5000: cost:60.18238768441132 MAE:5.886537683920138\n"
     ]
    },
    {
     "data": {
      "image/png": "[encoded data removed]",
      "text/plain": [
       "<Figure size 1008x288 with 2 Axes>"
      ]
     },
     "metadata": {
      "needs_background": "light"
     },
     "output_type": "display_data"
    }
   ],
   "source": [
    "parameters = NN_build(eta = 0.0000005, iterations = 5000, dims = [X.shape[1],50,50,1], lamb_ = 0.9, activation='relu').fit(X,y)"
   ]
  },
  {
   "cell_type": "code",
   "execution_count": 47,
   "metadata": {},
   "outputs": [
    {
     "name": "stderr",
     "output_type": "stream",
     "text": [
      "<ipython-input-44-1f7a721e0327>:90: RuntimeWarning: overflow encountered in exp\n",
      "  return 1 / (1+ np.exp(-z))\n"
     ]
    },
    {
     "name": "stdout",
     "output_type": "stream",
     "text": [
      "Epoch:500: cost:78.54151258615826 MAE:6.5794281490115365\n",
      "Epoch:1000: cost:73.00224928489997 MAE:6.3014146373966815\n",
      "Epoch:1500: cost:68.63753633471347 MAE:6.070552128790162\n",
      "Epoch:2000: cost:65.44816920752451 MAE:5.8685756123189705\n",
      "Epoch:2500: cost:62.47348105415073 MAE:5.798701467242342\n",
      "Epoch:3000: cost:60.426513434647525 MAE:5.702818103370649\n",
      "Epoch:3500: cost:58.889418455493654 MAE:5.652047091766613\n",
      "Epoch:4000: cost:58.77565471012792 MAE:5.5838562819603\n",
      "Epoch:4500: cost:58.750697707294314 MAE:5.73985881212914\n",
      "Epoch:5000: cost:55.395372491828596 MAE:5.359457733791965\n"
     ]
    },
    {
     "data": {
      "image/png": "[encoded data removed]",
      "text/plain": [
       "<Figure size 1008x288 with 2 Axes>"
      ]
     },
     "metadata": {
      "needs_background": "light"
     },
     "output_type": "display_data"
    }
   ],
   "source": [
    "parameters = NN_build(eta = 0.0005, iterations = 5000, dims = [X.shape[1],50,50,1], lamb_ = 0.9, activation='sigmoid').fit(X,y)"
   ]
  },
  {
   "cell_type": "code",
   "execution_count": 33,
   "metadata": {},
   "outputs": [
    {
     "data": {
      "text/plain": [
       "array([[ 2, -1],\n",
       "       [ 0,  1]])"
      ]
     },
     "execution_count": 33,
     "metadata": {},
     "output_type": "execute_result"
    }
   ],
   "source": [
    "b2 = np.array([[2,-1],[0,1]])\n",
    "b2"
   ]
  },
  {
   "cell_type": "code",
   "execution_count": 35,
   "metadata": {},
   "outputs": [
    {
     "data": {
      "text/plain": [
       "array([[1, 0],\n",
       "       [1, 1]])"
      ]
     },
     "execution_count": 35,
     "metadata": {},
     "output_type": "execute_result"
    }
   ],
   "source": [
    "np.where(b2>=0,1,0)"
   ]
  },
  {
   "cell_type": "code",
   "execution_count": null,
   "metadata": {},
   "outputs": [],
   "source": []
  }
 ],
 "metadata": {
  "kernelspec": {
   "display_name": "Python 3",
   "language": "python",
   "name": "python3"
  },
  "language_info": {
   "codemirror_mode": {
    "name": "ipython",
    "version": 3
   },
   "file_extension": ".py",
   "mimetype": "text/x-python",
   "name": "python",
   "nbconvert_exporter": "python",
   "pygments_lexer": "ipython3",
   "version": "3.8.5"
  }
 },
 "nbformat": 4,
 "nbformat_minor": 4
}
