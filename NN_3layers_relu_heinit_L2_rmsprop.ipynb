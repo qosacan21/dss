{
 "cells": [
  {
   "cell_type": "code",
   "execution_count": 1,
   "metadata": {},
   "outputs": [],
   "source": [
    "import numpy as np\n",
    "import pandas as pd\n",
    "from sklearn.datasets import load_boston\n",
    "import matplotlib.pyplot as plt"
   ]
  },
  {
   "cell_type": "code",
   "execution_count": 2,
   "metadata": {},
   "outputs": [],
   "source": [
    "X, y = load_boston().data, load_boston().target.reshape(-1,1)"
   ]
  },
  {
   "cell_type": "code",
   "execution_count": 3,
   "metadata": {},
   "outputs": [
    {
     "data": {
      "text/plain": [
       "((506, 13), (506, 1))"
      ]
     },
     "execution_count": 3,
     "metadata": {},
     "output_type": "execute_result"
    }
   ],
   "source": [
    "X.shape, y.shape"
   ]
  },
  {
   "cell_type": "code",
   "execution_count": 4,
   "metadata": {},
   "outputs": [],
   "source": [
    "class NN_Build(object):\n",
    "    def __init__(self, eta = 0.0005, iterations = 1000, activation = \"relu\", epsilon = 0.01, kernel_init = 'he_init', \n",
    "                 dims = [X.shape[1],30,5,1], lam = 0.9, beta = 0.9, epsilon_beta = 0.0000000001):\n",
    "        self.eta = eta\n",
    "        self.iterations = iterations\n",
    "        self.activation = activation\n",
    "        self.epsilon = epsilon\n",
    "        self.kernel_init = kernel_init\n",
    "        self.dims = dims\n",
    "        self.layer = len(dims)\n",
    "        self.lam = lam\n",
    "        self.beta = beta\n",
    "        self.epsilon_beta = epsilon_beta\n",
    "        \n",
    "    def fit(self,X,y):\n",
    "        X_ = X.T\n",
    "        y_ = y.T\n",
    "        A0 = X_\n",
    "        i = 1\n",
    "        m_ = len(y)\n",
    "        parameters = {}\n",
    "        cost_ = []\n",
    "        cost_mae_ = []\n",
    "        sdW3 = 0\n",
    "        sdb3 = 0\n",
    "        sdW2 = 0\n",
    "        sdb2 = 0\n",
    "        sdW1 = 0\n",
    "        sdb1 = 0\n",
    "        \n",
    "        if self.kernel_init == \"he_init\":\n",
    "            for l in range(1,self.layer):\n",
    "                parameters['W'+str(l)] = np.random.randn(self.dims[l],self.dims[l-1])  * np.sqrt(2/self.dims[l-1]) \n",
    "                parameters['b' + str(l)] = np.zeros((self.dims[l],1)) \n",
    "            print('kernel_init is he_init')\n",
    "        else:\n",
    "            for l in range(1,self.layer):\n",
    "                parameters['W'+str(l)] = np.random.randn(self.dims[l],self.dims[l-1])  * self.epsilon\n",
    "                parameters['b' + str(l)] = np.zeros((self.dims[l],1)) \n",
    "            print('kernel_init is random nd')\n",
    "        \n",
    "        while(i !=self.iterations+1):\n",
    "            #forward prop\n",
    "            Z1 = np.dot(parameters['W1'],A0) + parameters['b1']\n",
    "            if self.activation == \"relu\":\n",
    "                A1 = self.relu(Z1)\n",
    "            else:\n",
    "                A1 = self.sigmoid(Z1)\n",
    "            Z2= np.dot(parameters['W2'],A1) + parameters['b2']\n",
    "            if self.activation == \"relu\":\n",
    "                A2 = self.relu(Z2)\n",
    "            else:\n",
    "                A2 = self.sigmoid(Z2)\n",
    "            Z3 = np.dot(parameters['W3'],A2) + parameters['b3']\n",
    "            A3 = Z3            \n",
    "            #cost\n",
    "            l2_reg = (self.lam/(2*m_)) * (np.sum(np.square(parameters['W1']))+np.sum(np.square(parameters['W2']))+np.sum(np.square(parameters['W3'])))\n",
    "            cost = self.MSE(y_true = y_, y_pred = A3 , n = m_) + l2_reg\n",
    "            cost_.append(cost)\n",
    "            cost_mae = self.MAE(y_true = y_, y_pred = A3 , n = m_) + l2_reg\n",
    "            cost_mae_.append(cost_mae)           \n",
    "            #derivative\n",
    "            dZ3 = A3 - y_\n",
    "            dW3 = (1/m_) * np.dot(dZ3,A2.T) + (self.lam/m_) * parameters['W3']\n",
    "            db3 = (1/m_) * np.sum(dZ3, axis = 1, keepdims= True)\n",
    "            if self.activation == 'relu':\n",
    "                dZ2 = np.dot(parameters['W3'].T,dZ3) * (np.where(A2>=0,1,0))\n",
    "            else:\n",
    "                dZ2 = np.dot(parameters['W3'].T,dZ3) * (A2 * (1-A2))\n",
    "            dW2 = (1/m_) * np.dot(dZ2,A1.T) + (self.lam/m_) * parameters['W2']\n",
    "            db2 = (1/m_) * np.sum(dZ2, axis = 1, keepdims= True)\n",
    "            if self.activation == 'relu':\n",
    "                dZ1 = np.dot(parameters['W2'].T,dZ2) * (np.where(A1>=0,1,0))\n",
    "            else:\n",
    "                dZ1 = np.dot(parameters['W2'].T,dZ2) * (A1 * (1-A1))\n",
    "            dW1 = (1/m_) * np.dot(dZ1,A0.T) + (self.lam/m_) * parameters['W1']\n",
    "            db1 = (1/m_) * np.sum(dZ1, axis = 1, keepdims= True)\n",
    "            #sdwb\n",
    "            sdW3 = self.beta * sdW3 + (1- self.beta) * dW3 **2\n",
    "            sdb3 = self.beta * sdb3 + (1- self.beta) * db3 **2\n",
    "            sdW2 = self.beta * sdW2 + (1- self.beta) * dW2 **2\n",
    "            sdb2 = self.beta * sdb2 + (1- self.beta) * db2 **2\n",
    "            sdW1 = self.beta * sdW1 + (1- self.beta) * dW1 **2\n",
    "            sdb1 = self.beta * sdb1 + (1- self.beta) * db1 **2\n",
    "            #update\n",
    "            parameters['W3'] -= self.eta * dW3 / np.sqrt(sdW3 + self.epsilon_beta)\n",
    "            parameters['W2'] -= self.eta * dW2 / np.sqrt(sdW2+ self.epsilon_beta)\n",
    "            parameters['W1'] -= self.eta * dW1 / np.sqrt(sdW1+ self.epsilon_beta)\n",
    "            parameters['b3'] -= self.eta * db3 / np.sqrt(sdb3+ self.epsilon_beta)\n",
    "            parameters['b2'] -= self.eta * db2 / np.sqrt(sdb2+ self.epsilon_beta)\n",
    "            parameters['b1'] -= self.eta * db1 / np.sqrt(sdb1+ self.epsilon_beta)\n",
    "            #inform\n",
    "            if i % 200 == 0:\n",
    "                print('epoch_{} cost: {}  mae: {}'.format(i,cost,cost_mae))\n",
    "            \n",
    "            i += 1\n",
    "            \n",
    "        history = pd.DataFrame(cost_, columns = ['cost'])\n",
    "        history['mae'] = cost_mae_\n",
    "        plt.figure(figsize = (14,4))\n",
    "        plt.subplot(1,2,1)\n",
    "        plt.plot(history.cost)\n",
    "        plt.subplot(1,2,2)\n",
    "        plt.plot(history.mae)\n",
    "        return parameters,A3,A2\n",
    "    \n",
    "    def sigmoid(self,z):\n",
    "        return 1 / (1+ np.exp(-z))\n",
    "    \n",
    "    def relu(self,z):\n",
    "        return np.where(z>=0,z,0)\n",
    "    \n",
    "    def MSE(self,y_true,y_pred,n):\n",
    "        return (1/n) * np.sum(np.square(y_true-y_pred))\n",
    "    \n",
    "    def MAE(self,y_true,y_pred,n):\n",
    "        return (1/n) * np.sum(np.abs(y_true-y_pred))\n",
    "        \n",
    "        "
   ]
  },
  {
   "cell_type": "code",
   "execution_count": 5,
   "metadata": {},
   "outputs": [
    {
     "name": "stdout",
     "output_type": "stream",
     "text": [
      "kernel_init is he_init\n",
      "epoch_200 cost: 55867.5168147267  mae: 225.2931735305751\n",
      "epoch_400 cost: 26011.803191938954  mae: 154.22705807513253\n",
      "epoch_600 cost: 6585.451141240176  mae: 75.79941785170074\n",
      "epoch_800 cost: 489.1545580565601  mae: 17.5617323798967\n",
      "epoch_1000 cost: 350.3631061926704  mae: 14.886052366158895\n",
      "epoch_1200 cost: 263.7174188636548  mae: 12.58111115632829\n",
      "epoch_1400 cost: 204.53499225084815  mae: 10.778899721586976\n",
      "epoch_1600 cost: 167.17646422971  mae: 9.567717551011777\n",
      "epoch_1800 cost: 143.50309437810225  mae: 8.742666291876132\n",
      "epoch_2000 cost: 126.23653309692588  mae: 8.116388532233977\n",
      "epoch_2200 cost: 112.92998465419461  mae: 7.600803064987415\n",
      "epoch_2400 cost: 102.39061024416937  mae: 7.182646901000453\n",
      "epoch_2600 cost: 93.92946311625924  mae: 6.856699084658441\n",
      "epoch_2800 cost: 86.71140302426639  mae: 6.563108379146256\n",
      "epoch_3000 cost: 80.21822907280621  mae: 6.293350323678439\n",
      "epoch_3200 cost: 74.29986284090927  mae: 6.044948266755206\n",
      "epoch_3400 cost: 68.84649968172357  mae: 5.81803688370373\n",
      "epoch_3600 cost: 63.821615213033326  mae: 5.5954501390158455\n",
      "epoch_3800 cost: 59.1991832656971  mae: 5.385368025660265\n",
      "epoch_4000 cost: 55.00930375330112  mae: 5.1805750024343675\n",
      "epoch_4200 cost: 51.29378443941211  mae: 4.992633492551877\n",
      "epoch_4400 cost: 48.11530139356271  mae: 4.83129689566072\n",
      "epoch_4600 cost: 45.46346005353494  mae: 4.703662641973251\n",
      "epoch_4800 cost: 43.301329040170906  mae: 4.615346798122165\n",
      "epoch_5000 cost: 41.517505581770145  mae: 4.546126468750622\n",
      "epoch_5200 cost: 40.05714772499638  mae: 4.488144455687458\n",
      "epoch_5400 cost: 38.88939930232738  mae: 4.444727295929314\n",
      "epoch_5600 cost: 37.980377404503834  mae: 4.418950357877905\n",
      "epoch_5800 cost: 37.28700637897706  mae: 4.400400275250605\n",
      "epoch_6000 cost: 36.75866737625161  mae: 4.385347604421869\n",
      "epoch_6200 cost: 36.34477124539349  mae: 4.372645260279342\n",
      "epoch_6400 cost: 36.001602250391734  mae: 4.359276211461229\n",
      "epoch_6600 cost: 35.69885666005635  mae: 4.345978084695051\n",
      "epoch_6800 cost: 35.42523902423768  mae: 4.333786118121185\n",
      "epoch_7000 cost: 35.17086742497029  mae: 4.3213604835595705\n",
      "epoch_7200 cost: 34.929499221083866  mae: 4.3084417779460455\n",
      "epoch_7400 cost: 34.69648364226474  mae: 4.294715308956439\n",
      "epoch_7600 cost: 34.47186562609792  mae: 4.28107963614047\n",
      "epoch_7800 cost: 34.253607300882535  mae: 4.267297123304598\n",
      "epoch_8000 cost: 34.04138299178677  mae: 4.2533888285036445\n",
      "epoch_8200 cost: 33.83299022965936  mae: 4.2394735332192335\n",
      "epoch_8400 cost: 33.6267528969587  mae: 4.225547394742387\n",
      "epoch_8600 cost: 33.42223261246642  mae: 4.2116434477925315\n",
      "epoch_8800 cost: 33.22243961473509  mae: 4.197918493291878\n",
      "epoch_9000 cost: 33.02693612560094  mae: 4.184380216501164\n",
      "epoch_9200 cost: 32.83532333073205  mae: 4.170949241450479\n",
      "epoch_9400 cost: 32.64733366769512  mae: 4.15766115520121\n",
      "epoch_9600 cost: 32.4623728582413  mae: 4.144644562623358\n",
      "epoch_9800 cost: 32.28066891003943  mae: 4.131804538054316\n",
      "epoch_10000 cost: 32.10245691478577  mae: 4.119009754925825\n"
     ]
    },
    {
     "data": {
      "image/png": "[encoded data removed]",
      "text/plain": [
       "<Figure size 1008x288 with 2 Axes>"
      ]
     },
     "metadata": {
      "needs_background": "light"
     },
     "output_type": "display_data"
    }
   ],
   "source": [
    "parameters, A3, A2 = NN_Build(eta=0.00005,\n",
    "    iterations=10000,\n",
    "    activation='relu',\n",
    "    epsilon=0.01,\n",
    "    kernel_init='he_init',\n",
    "    dims=[13, 30, 10, 1],\n",
    "    lam = 0.9).fit(X,y)"
   ]
  },
  {
   "cell_type": "code",
   "execution_count": 6,
   "metadata": {},
   "outputs": [
    {
     "data": {
      "text/plain": [
       "(10, 506)"
      ]
     },
     "execution_count": 6,
     "metadata": {},
     "output_type": "execute_result"
    }
   ],
   "source": [
    "A2.shape"
   ]
  },
  {
   "cell_type": "code",
   "execution_count": 7,
   "metadata": {},
   "outputs": [
    {
     "data": {
      "text/plain": [
       "(1, 506)"
      ]
     },
     "execution_count": 7,
     "metadata": {},
     "output_type": "execute_result"
    }
   ],
   "source": [
    "A3.shape"
   ]
  },
  {
   "cell_type": "code",
   "execution_count": 8,
   "metadata": {},
   "outputs": [
    {
     "data": {
      "text/plain": [
       "array([[  0.        ,  78.6527519 ,  41.14931445, ...,   0.        ,\n",
       "        114.14481339,  32.38011124],\n",
       "       [  0.        ,  65.19630197,  21.44681372, ...,   0.        ,\n",
       "        147.37739183,  21.19504938],\n",
       "       [  0.        ,  61.51487306,  20.00951356, ...,   0.        ,\n",
       "        142.90120927,  15.94411237],\n",
       "       ...,\n",
       "       [  0.        ,  78.21442029,  32.70146631, ...,   0.        ,\n",
       "        139.56991062,  32.90333726],\n",
       "       [  0.        ,  77.44620223,  33.1030791 , ...,   0.        ,\n",
       "        136.60257693,  34.42912113],\n",
       "       [  0.        ,  73.83352908,  30.21895582, ...,   0.        ,\n",
       "        136.3783221 ,  34.94358333]])"
      ]
     },
     "execution_count": 8,
     "metadata": {},
     "output_type": "execute_result"
    }
   ],
   "source": [
    "A2.T"
   ]
  },
  {
   "cell_type": "code",
   "execution_count": 9,
   "metadata": {},
   "outputs": [
    {
     "data": {
      "text/plain": [
       "(-1.0, 1.0)"
      ]
     },
     "execution_count": 9,
     "metadata": {},
     "output_type": "execute_result"
    },
    {
     "data": {
      "image/png": "[encoded data removed]",
      "text/plain": [
       "<Figure size 432x288 with 1 Axes>"
      ]
     },
     "metadata": {
      "needs_background": "light"
     },
     "output_type": "display_data"
    }
   ],
   "source": [
    "pd.DataFrame(np.hstack([A2.T,y])).corr().fillna(0).iloc[10,:10].plot(kind = 'bar')\n",
    "plt.ylim(-1,1)"
   ]
  },
  {
   "cell_type": "code",
   "execution_count": 10,
   "metadata": {},
   "outputs": [],
   "source": [
    "b = np.array([[3,4],[1,2]])"
   ]
  },
  {
   "cell_type": "code",
   "execution_count": 11,
   "metadata": {},
   "outputs": [
    {
     "data": {
      "text/plain": [
       "array([[ 9, 16],\n",
       "       [ 1,  4]])"
      ]
     },
     "execution_count": 11,
     "metadata": {},
     "output_type": "execute_result"
    }
   ],
   "source": [
    "b ** 2"
   ]
  },
  {
   "cell_type": "code",
   "execution_count": null,
   "metadata": {},
   "outputs": [],
   "source": []
  }
 ],
 "metadata": {
  "kernelspec": {
   "display_name": "Python 3",
   "language": "python",
   "name": "python3"
  },
  "language_info": {
   "codemirror_mode": {
    "name": "ipython",
    "version": 3
   },
   "file_extension": ".py",
   "mimetype": "text/x-python",
   "name": "python",
   "nbconvert_exporter": "python",
   "pygments_lexer": "ipython3",
   "version": "3.8.5"
  }
 },
 "nbformat": 4,
 "nbformat_minor": 4
}
