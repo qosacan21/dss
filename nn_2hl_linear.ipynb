{
 "cells": [
  {
   "cell_type": "code",
   "execution_count": 1,
   "metadata": {},
   "outputs": [
    {
     "name": "stderr",
     "output_type": "stream",
     "text": [
      "<frozen importlib._bootstrap>:219: RuntimeWarning: numpy.ufunc size changed, may indicate binary incompatibility. Expected 192 from C header, got 232 from PyObject\n"
     ]
    }
   ],
   "source": [
    "import numpy as np\n",
    "import pandas as pd\n",
    "import matplotlib.pyplot as plt\n",
    "from sklearn.datasets import load_boston"
   ]
  },
  {
   "cell_type": "code",
   "execution_count": 2,
   "metadata": {},
   "outputs": [],
   "source": [
    "X, y = load_boston().data, load_boston().target.reshape(-1,1)"
   ]
  },
  {
   "cell_type": "code",
   "execution_count": 3,
   "metadata": {},
   "outputs": [
    {
     "data": {
      "text/plain": [
       "((506, 13), (506, 1))"
      ]
     },
     "execution_count": 3,
     "metadata": {},
     "output_type": "execute_result"
    }
   ],
   "source": [
    "X.shape, y.shape"
   ]
  },
  {
   "cell_type": "code",
   "execution_count": 30,
   "metadata": {},
   "outputs": [],
   "source": [
    "class nn_regression(object):\n",
    "    def __init__(self, eta = 0.005, iterations = 1000, layer_dims = [13,50,50,1], epsilon = 0.01):\n",
    "        self.eta = eta\n",
    "        self.iterations = iterations\n",
    "        self.layer_dims = layer_dims\n",
    "        self.layers = len(layer_dims)\n",
    "        self.epsilon = epsilon\n",
    "        \n",
    "    def fit(self,X,y):\n",
    "        X_ = X.T\n",
    "        y_ = y.T\n",
    "        A0 = X_\n",
    "        cost_ = []\n",
    "        parameters = {}\n",
    "        derivatives = {}\n",
    "        m_ = len(y_)\n",
    "        \n",
    "        for l in range(1,self.layers):\n",
    "            parameters['W'+str(l)] = np.random.randn(self.layer_dims[l],self.layer_dims[l-1]) * self.epsilon\n",
    "            parameters['b'+str(l)] = np.zeros((self.layer_dims[l],1))\n",
    "            \n",
    "            \n",
    "        i = 1\n",
    "        while(i != self.iterations):\n",
    "            #frw.prop\n",
    "            Z1 = np.dot(parameters['W1'],A0) + parameters['b1']\n",
    "            A1 = self.sigmoid(Z1)\n",
    "            Z2 = np.dot(parameters['W2'],A1) + parameters['b2']\n",
    "            A2 = self.sigmoid(Z2)\n",
    "            Z3 = np.dot(parameters['W3'],A2) + parameters['b3']\n",
    "            A3 = Z3\n",
    "            ## cost\n",
    "            cost = self.mae(y_,A3,m_)\n",
    "            cost_.append(cost)\n",
    "            # derivatives\n",
    "            dZ3 = A3 - y_\n",
    "            dW3 = (1/m_)*np.dot(dZ3,A2.T) \n",
    "            db3 = (1/m_)*np.sum(dZ3, axis = 1 , keepdims= True)\n",
    "            dZ2 = np.dot(parameters['W3'].T,dZ3) * (A2 * (1- A2))\n",
    "            dW2 = (1/m_)*np.dot(dZ2,A1.T) \n",
    "            db2 = (1/m_)*np.sum(dZ2, axis = 1 , keepdims= True)\n",
    "            dZ1 = np.dot(parameters['W2'].T,dZ2) * (A1 * (1- A1))\n",
    "            dW1 = (1/m_)*np.dot(dZ1,A0.T) \n",
    "            db1 = (1/m_)*np.sum(dZ1, axis = 1 , keepdims= True)\n",
    "            #updates\n",
    "            parameters['W3'] -= self.eta * dW3\n",
    "            parameters['b3'] -= self.eta * db3\n",
    "            parameters['W2'] -= self.eta * dW2\n",
    "            parameters['b2'] -= self.eta * db2\n",
    "            parameters['W1'] -= self.eta * dW1\n",
    "            parameters['b1'] -= self.eta * db1\n",
    "            #print\n",
    "            if i % 100 ==0:\n",
    "                print(f'epoch:{i} cost:{cost}')\n",
    "            if i == 1000:\n",
    "                history = pd.DataFrame(cost_, columns =['cost'])\n",
    "                plt.figure(figsize =(14,4))\n",
    "                plt.subplot(1,2,1)\n",
    "                plt.plot(history.cost[:1000], 'b')\n",
    "                plt.plot(history.cost[1000:], 'r')\n",
    "                plt.show()\n",
    "                q1 = input('do you wanna change learning rate) y/n')\n",
    "                if q1.lower() == 'y':\n",
    "                    self.eta = float(input('please insert new learning rate'))\n",
    "            i += 1\n",
    "        history = pd.DataFrame(cost_, columns=['cost'])\n",
    "        plt.figure(figsize =(14,4))\n",
    "        plt.subplot(1,2,1)\n",
    "        plt.plot(history.cost[:1000], 'b')\n",
    "        plt.plot(history.cost[1000:], 'r')\n",
    "        plt.subplot(1,2,2)\n",
    "        plt.plot(history.cost[1000:], 'g')\n",
    "        plt.show()\n",
    "        return parameters\n",
    "    \n",
    "    def sigmoid(self,z):\n",
    "        return 1/ (1+ np.exp(-z))\n",
    "    \n",
    "    def mae(self,y_true,y_pred,m_):\n",
    "        return np.sum(np.abs(y_true - y_pred))/m_"
   ]
  },
  {
   "cell_type": "code",
   "execution_count": 31,
   "metadata": {},
   "outputs": [
    {
     "name": "stderr",
     "output_type": "stream",
     "text": [
      "<ipython-input-30-99a9ca92c7c2>:77: RuntimeWarning: overflow encountered in exp\n",
      "  return 1/ (1+ np.exp(-z))\n"
     ]
    },
    {
     "name": "stdout",
     "output_type": "stream",
     "text": [
      "epoch:100 cost:3280.8738063368137\n",
      "epoch:200 cost:3249.5076367625174\n",
      "epoch:300 cost:3211.308451542173\n",
      "epoch:400 cost:3187.6754303648204\n",
      "epoch:500 cost:3176.745608322913\n",
      "epoch:600 cost:3173.521912317384\n",
      "epoch:700 cost:3178.96219487484\n",
      "epoch:800 cost:3173.053184075164\n",
      "epoch:900 cost:3173.9274831872754\n",
      "epoch:1000 cost:3174.6484696751477\n"
     ]
    },
    {
     "data": {
      "image/png": "[encoded data removed]",
      "text/plain": [
       "<Figure size 1008x288 with 1 Axes>"
      ]
     },
     "metadata": {
      "needs_background": "light"
     },
     "output_type": "display_data"
    },
    {
     "name": "stdout",
     "output_type": "stream",
     "text": [
      "do you wanna change learning rate) y/ny\n",
      "please insert new learning rate0.00001\n",
      "epoch:1100 cost:3174.7670449398397\n",
      "epoch:1200 cost:3174.8706505178634\n",
      "epoch:1300 cost:3174.966318984099\n",
      "epoch:1400 cost:3175.0546735239423\n",
      "epoch:1500 cost:3175.136274724401\n",
      "epoch:1600 cost:3175.211598073173\n",
      "epoch:1700 cost:3175.2807673480056\n",
      "epoch:1800 cost:3170.8624876849517\n",
      "epoch:1900 cost:3075.1738133822532\n"
     ]
    },
    {
     "data": {
      "image/png": "[encoded data removed]",
      "text/plain": [
       "<Figure size 1008x288 with 2 Axes>"
      ]
     },
     "metadata": {
      "needs_background": "light"
     },
     "output_type": "display_data"
    }
   ],
   "source": [
    "parameters = nn_regression(eta = 0.00005, iterations= 2000, epsilon= 0.01 , layer_dims = [13,100,100,1]).fit(X,y)"
   ]
  },
  {
   "cell_type": "code",
   "execution_count": null,
   "metadata": {},
   "outputs": [],
   "source": []
  }
 ],
 "metadata": {
  "kernelspec": {
   "display_name": "Python 3",
   "language": "python",
   "name": "python3"
  },
  "language_info": {
   "codemirror_mode": {
    "name": "ipython",
    "version": 3
   },
   "file_extension": ".py",
   "mimetype": "text/x-python",
   "name": "python",
   "nbconvert_exporter": "python",
   "pygments_lexer": "ipython3",
   "version": "3.8.3"
  }
 },
 "nbformat": 4,
 "nbformat_minor": 4
}
