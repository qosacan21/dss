{
 "cells": [
  {
   "cell_type": "code",
   "execution_count": 1,
   "metadata": {},
   "outputs": [],
   "source": [
    "import numpy as np\n",
    "import pandas as pd\n",
    "import matplotlib.pyplot as plt\n",
    "from sklearn.datasets import load_boston"
   ]
  },
  {
   "cell_type": "code",
   "execution_count": 2,
   "metadata": {},
   "outputs": [],
   "source": [
    "X, y = load_boston().data, load_boston().target.reshape(-1,1)"
   ]
  },
  {
   "cell_type": "code",
   "execution_count": 3,
   "metadata": {},
   "outputs": [
    {
     "data": {
      "text/plain": [
       "((506, 13), (506, 1))"
      ]
     },
     "execution_count": 3,
     "metadata": {},
     "output_type": "execute_result"
    }
   ],
   "source": [
    "X.shape, y.shape"
   ]
  },
  {
   "cell_type": "code",
   "execution_count": 4,
   "metadata": {},
   "outputs": [],
   "source": [
    "class nn_regression(object):\n",
    "    def __init__(self, eta = 0.005, iterations = 1000, layer_dims = [13,50,50,1], epsilon = 0.01, control = 0.5):\n",
    "        self.eta = eta\n",
    "        self.iterations = iterations\n",
    "        self.layer_dims = layer_dims\n",
    "        self.layers = len(layer_dims)\n",
    "        self.epsilon = epsilon\n",
    "        self.control = int(iterations * control)\n",
    "        \n",
    "    def fit(self,X,y):\n",
    "        X_ = X.T\n",
    "        y_ = y.T\n",
    "        A0 = X_\n",
    "        cost_ = []\n",
    "        parameters = {}\n",
    "        derivatives = {}\n",
    "        m_ = len(y_)\n",
    "        \n",
    "        for l in range(1,self.layers):\n",
    "            parameters['W'+str(l)] = np.random.randn(self.layer_dims[l],self.layer_dims[l-1]) * self.epsilon\n",
    "            parameters['b'+str(l)] = np.zeros((self.layer_dims[l],1))\n",
    "            \n",
    "            \n",
    "        i = 1\n",
    "        while(i != self.iterations):\n",
    "            #frw.prop\n",
    "            Z1 = np.dot(parameters['W1'],A0) + parameters['b1']\n",
    "            A1 = self.tanh(Z1)\n",
    "            Z2 = np.dot(parameters['W2'],A1) + parameters['b2']\n",
    "            A2 = self.tanh(Z2)\n",
    "            Z3 = np.dot(parameters['W3'],A2) + parameters['b3']\n",
    "            A3 = Z3\n",
    "            ## cost\n",
    "            cost = self.mae(y_,A3,m_)\n",
    "            cost_.append(cost)\n",
    "            # derivatives\n",
    "            dZ3 = A3 - y_\n",
    "            dW3 = (1/m_)*np.dot(dZ3,A2.T) \n",
    "            db3 = (1/m_)*np.sum(dZ3, axis = 1 , keepdims= True)\n",
    "            dZ2 = np.dot(parameters['W3'].T,dZ3) * (1 - np.power(A2,2))  #(A2 * (1- A2))\n",
    "            dW2 = (1/m_)*np.dot(dZ2,A1.T) \n",
    "            db2 = (1/m_)*np.sum(dZ2, axis = 1 , keepdims= True)\n",
    "            dZ1 = np.dot(parameters['W2'].T,dZ2) * (1 - np.power(A1,2)) #(A1 * (1- A1))\n",
    "            dW1 = (1/m_)*np.dot(dZ1,A0.T) \n",
    "            db1 = (1/m_)*np.sum(dZ1, axis = 1 , keepdims= True)\n",
    "            #updates\n",
    "            parameters['W3'] -= self.eta * dW3\n",
    "            parameters['b3'] -= self.eta * db3\n",
    "            parameters['W2'] -= self.eta * dW2\n",
    "            parameters['b2'] -= self.eta * db2\n",
    "            parameters['W1'] -= self.eta * dW1\n",
    "            parameters['b1'] -= self.eta * db1\n",
    "            #print\n",
    "            if i % 100 ==0:\n",
    "                print(f'epoch:{i} cost:{cost}')\n",
    "            if i == self.control:\n",
    "                history = pd.DataFrame(cost_, columns =['cost'])\n",
    "                plt.figure(figsize =(14,4))\n",
    "                plt.subplot(1,2,1)\n",
    "                plt.plot(history.cost[:self.control], 'b')\n",
    "                plt.plot(history.cost[self.control:], 'r')\n",
    "                plt.show()\n",
    "                q1 = input('do you wanna change learning rate) y/n')\n",
    "                if q1.lower() == 'y':\n",
    "                    self.eta = float(input('please insert new learning rate'))\n",
    "            i += 1\n",
    "        history = pd.DataFrame(cost_, columns=['cost'])\n",
    "        plt.figure(figsize =(14,4))\n",
    "        plt.subplot(1,2,1)\n",
    "        plt.plot(history.cost[:self.control], 'b')\n",
    "        plt.plot(history.cost[self.control:], 'r')\n",
    "        plt.subplot(1,2,2)\n",
    "        plt.plot(history.cost[self.control:], 'g')\n",
    "        plt.show()\n",
    "        return parameters,A3\n",
    "    \n",
    "    def sigmoid(self,z):\n",
    "        return 1/ (1+ np.exp(-z))\n",
    "    \n",
    "    def tanh(self,z):\n",
    "        return (np.exp(z)-np.exp(-z))/(np.exp(z)+np.exp(-z))\n",
    "    \n",
    "    def mae(self,y_true,y_pred,m_):\n",
    "        return np.sum(np.abs(y_true - y_pred))/m_"
   ]
  },
  {
   "cell_type": "code",
   "execution_count": 7,
   "metadata": {
    "scrolled": false
   },
   "outputs": [
    {
     "name": "stderr",
     "output_type": "stream",
     "text": [
      "<ipython-input-4-6c1477406ad7>:81: RuntimeWarning: overflow encountered in exp\n",
      "  return (np.exp(z)-np.exp(-z))/(np.exp(z)+np.exp(-z))\n",
      "<ipython-input-4-6c1477406ad7>:81: RuntimeWarning: invalid value encountered in divide\n",
      "  return (np.exp(z)-np.exp(-z))/(np.exp(z)+np.exp(-z))\n"
     ]
    },
    {
     "name": "stdout",
     "output_type": "stream",
     "text": [
      "epoch:100 cost:nan\n",
      "epoch:200 cost:nan\n",
      "epoch:300 cost:nan\n",
      "epoch:400 cost:nan\n",
      "epoch:500 cost:nan\n",
      "epoch:600 cost:nan\n",
      "epoch:700 cost:nan\n",
      "epoch:800 cost:nan\n",
      "epoch:900 cost:nan\n",
      "epoch:1000 cost:nan\n",
      "epoch:1100 cost:nan\n",
      "epoch:1200 cost:nan\n",
      "epoch:1300 cost:nan\n",
      "epoch:1400 cost:nan\n",
      "epoch:1500 cost:nan\n",
      "epoch:1600 cost:nan\n",
      "epoch:1700 cost:nan\n",
      "epoch:1800 cost:nan\n",
      "epoch:1900 cost:nan\n",
      "epoch:2000 cost:nan\n",
      "epoch:2100 cost:nan\n",
      "epoch:2200 cost:nan\n",
      "epoch:2300 cost:nan\n",
      "epoch:2400 cost:nan\n",
      "epoch:2500 cost:nan\n",
      "epoch:2600 cost:nan\n",
      "epoch:2700 cost:nan\n",
      "epoch:2800 cost:nan\n",
      "epoch:2900 cost:nan\n",
      "epoch:3000 cost:nan\n",
      "epoch:3100 cost:nan\n",
      "epoch:3200 cost:nan\n",
      "epoch:3300 cost:nan\n",
      "epoch:3400 cost:nan\n",
      "epoch:3500 cost:nan\n",
      "epoch:3600 cost:nan\n",
      "epoch:3700 cost:nan\n",
      "epoch:3800 cost:nan\n",
      "epoch:3900 cost:nan\n",
      "epoch:4000 cost:nan\n",
      "epoch:4100 cost:nan\n",
      "epoch:4200 cost:nan\n",
      "epoch:4300 cost:nan\n",
      "epoch:4400 cost:nan\n",
      "epoch:4500 cost:nan\n",
      "epoch:4600 cost:nan\n",
      "epoch:4700 cost:nan\n",
      "epoch:4800 cost:nan\n",
      "epoch:4900 cost:nan\n",
      "epoch:5000 cost:nan\n"
     ]
    },
    {
     "data": {
      "image/png": "[encoded data removed]",
      "text/plain": [
       "<Figure size 1008x288 with 1 Axes>"
      ]
     },
     "metadata": {
      "needs_background": "light"
     },
     "output_type": "display_data"
    },
    {
     "name": "stdout",
     "output_type": "stream",
     "text": [
      "do you wanna change learning rate) y/nn\n",
      "epoch:5100 cost:nan\n",
      "epoch:5200 cost:nan\n",
      "epoch:5300 cost:nan\n",
      "epoch:5400 cost:nan\n",
      "epoch:5500 cost:nan\n",
      "epoch:5600 cost:nan\n",
      "epoch:5700 cost:nan\n",
      "epoch:5800 cost:nan\n",
      "epoch:5900 cost:nan\n",
      "epoch:6000 cost:nan\n",
      "epoch:6100 cost:nan\n",
      "epoch:6200 cost:nan\n",
      "epoch:6300 cost:nan\n",
      "epoch:6400 cost:nan\n",
      "epoch:6500 cost:nan\n",
      "epoch:6600 cost:nan\n",
      "epoch:6700 cost:nan\n",
      "epoch:6800 cost:nan\n",
      "epoch:6900 cost:nan\n",
      "epoch:7000 cost:nan\n",
      "epoch:7100 cost:nan\n",
      "epoch:7200 cost:nan\n",
      "epoch:7300 cost:nan\n",
      "epoch:7400 cost:nan\n",
      "epoch:7500 cost:nan\n",
      "epoch:7600 cost:nan\n",
      "epoch:7700 cost:nan\n",
      "epoch:7800 cost:nan\n",
      "epoch:7900 cost:nan\n",
      "epoch:8000 cost:nan\n",
      "epoch:8100 cost:nan\n",
      "epoch:8200 cost:nan\n",
      "epoch:8300 cost:nan\n",
      "epoch:8400 cost:nan\n",
      "epoch:8500 cost:nan\n",
      "epoch:8600 cost:nan\n",
      "epoch:8700 cost:nan\n",
      "epoch:8800 cost:nan\n",
      "epoch:8900 cost:nan\n",
      "epoch:9000 cost:nan\n",
      "epoch:9100 cost:nan\n",
      "epoch:9200 cost:nan\n",
      "epoch:9300 cost:nan\n",
      "epoch:9400 cost:nan\n",
      "epoch:9500 cost:nan\n",
      "epoch:9600 cost:nan\n",
      "epoch:9700 cost:nan\n",
      "epoch:9800 cost:nan\n",
      "epoch:9900 cost:nan\n"
     ]
    },
    {
     "data": {
      "image/png": "[encoded data removed]",
      "text/plain": [
       "<Figure size 1008x288 with 2 Axes>"
      ]
     },
     "metadata": {
      "needs_background": "light"
     },
     "output_type": "display_data"
    }
   ],
   "source": [
    "parameters, y_pred  = nn_regression(eta = 0.0005, iterations= 10000, epsilon= 0.01, layer_dims= [13,50,60,1]).fit(X,y)"
   ]
  },
  {
   "cell_type": "code",
   "execution_count": null,
   "metadata": {},
   "outputs": [],
   "source": [
    "np.mean(y)"
   ]
  },
  {
   "cell_type": "code",
   "execution_count": null,
   "metadata": {},
   "outputs": [],
   "source": [
    "y"
   ]
  },
  {
   "cell_type": "code",
   "execution_count": null,
   "metadata": {},
   "outputs": [],
   "source": [
    "y_pred"
   ]
  },
  {
   "cell_type": "code",
   "execution_count": null,
   "metadata": {},
   "outputs": [],
   "source": [
    "parameters"
   ]
  },
  {
   "cell_type": "code",
   "execution_count": 12,
   "metadata": {},
   "outputs": [],
   "source": [
    "class nn_2layers_regression(object):\n",
    "    def __init__(self, eta = 0.005, iteration = 1000, epsilon = 0.01, layer_dims =[13,40,40,1]):\n",
    "        self.eta = eta\n",
    "        self.iteration = iteration\n",
    "        self.epsilon = epsilon\n",
    "        self.layer_dims = layer_dims\n",
    "        self.layer = len(layer_dims)\n",
    "        \n",
    "    def fit(self,X,y):\n",
    "        X_ = X.T\n",
    "        y_ = y.T\n",
    "        m_ = len(y)\n",
    "        A0 = X_\n",
    "        cost_ = []\n",
    "        i = 1\n",
    "        parameters = {}\n",
    "        for l in range(1,self.layer):\n",
    "            parameters['W'+str(l)] = np.random.randn(self.layer_dims[l],self.layer_dims[l-1]) * self.epsilon\n",
    "            parameters['b'+str(l)] = np.zeros((self.layer_dims[l],1))\n",
    "            \n",
    "        while(i != self.iteration):\n",
    "            #forward prop.\n",
    "            Z1 =  np.dot(parameters['W1'],A0) + parameters['b1']\n",
    "            A1 =  self.tanh(Z1)\n",
    "            Z2 =  np.dot(parameters['W2'],A1) + parameters['b2']\n",
    "            A2 =  self.tanh(Z2)\n",
    "            Z3 =  np.dot(parameters['W3'],A2) + parameters['b3']\n",
    "            A3 =  Z3\n",
    "            #cost \n",
    "            cost = self.mae(y_, A3, m_)\n",
    "            cost_.append(cost)\n",
    "            #derivatives\n",
    "            dZ3 =  A3 - y_\n",
    "            dW3 =  (1/m_) * np.dot(dZ3,A2.T)\n",
    "            db3 =  (1/m_) * np.sum(dZ3, axis = 1, keepdims= True)\n",
    "            dZ2 =  np.dot(parameters['W3'].T,dZ3) * (1 - np.power(A2,2)) #(A2 * (1-A2))\n",
    "            dW2 =  (1/m_) * np.dot(dZ2,A1.T)\n",
    "            db2 =  (1/m_) * np.sum(dZ2, axis = 1, keepdims= True)\n",
    "            dZ1 =  np.dot(parameters['W2'].T,dZ2)  * (1 - np.power(A1,2)) # (A1 * (1-A1))\n",
    "            dW1 =  (1/m_) * np.dot(dZ1,A0.T)\n",
    "            db1 =  (1/m_) * np.sum(dZ1, axis = 1, keepdims= True)\n",
    "            #backprog\n",
    "            parameters['W3'] -= self.eta * dW3\n",
    "            parameters['b3'] -= self.eta * db3\n",
    "            parameters['W2'] -= self.eta * dW2\n",
    "            parameters['b2'] -= self.eta * db2\n",
    "            parameters['W1'] -= self.eta * dW1\n",
    "            parameters['b1'] -= self.eta * db1\n",
    "            if i % 100 ==0:\n",
    "                print(f'epoch:{i}: cost:{cost}:')\n",
    "            i += 1\n",
    "        history = pd.DataFrame(cost_, columns = ['cost'])\n",
    "        plt.figure(figsize = (14,4))\n",
    "        plt.subplot(1,1,1)\n",
    "        plt.plot(history.cost)\n",
    "        plt.show()\n",
    "        return parameters\n",
    "    \n",
    "    def sigmoid(self,z):\n",
    "        return 1 / (1 + np.exp(-z))\n",
    "    \n",
    "    def mae(self,y_true,y_pred,m_):\n",
    "        return np.sum(np.abs(y_true - y_pred))/m_\n",
    "    \n",
    "    def tanh(self,z):\n",
    "        return (np.exp(z)-np.exp(-z))/(np.exp(z)+np.exp(-z))"
   ]
  },
  {
   "cell_type": "code",
   "execution_count": 13,
   "metadata": {},
   "outputs": [
    {
     "name": "stdout",
     "output_type": "stream",
     "text": [
      "epoch:100: cost:7.122199676483257:\n",
      "epoch:200: cost:5.61069146692803:\n",
      "epoch:300: cost:6.111448784454868:\n",
      "epoch:400: cost:5.764359471659374:\n",
      "epoch:500: cost:5.440570642623843:\n",
      "epoch:600: cost:5.895493527799837:\n",
      "epoch:700: cost:5.787164209592133:\n",
      "epoch:800: cost:5.75987827552835:\n",
      "epoch:900: cost:5.41323762978558:\n",
      "epoch:1000: cost:5.901208814037393:\n",
      "epoch:1100: cost:5.415608397597116:\n",
      "epoch:1200: cost:5.474974691081364:\n",
      "epoch:1300: cost:5.244645845877114:\n",
      "epoch:1400: cost:5.785021159846536:\n",
      "epoch:1500: cost:5.633605339399854:\n",
      "epoch:1600: cost:5.713879838108767:\n",
      "epoch:1700: cost:5.424526605282764:\n",
      "epoch:1800: cost:5.5248110059359234:\n",
      "epoch:1900: cost:5.694610657430633:\n",
      "epoch:2000: cost:5.212334404076228:\n",
      "epoch:2100: cost:5.411525378480587:\n",
      "epoch:2200: cost:5.319484842595307:\n",
      "epoch:2300: cost:5.459069100362404:\n",
      "epoch:2400: cost:5.824722275655625:\n",
      "epoch:2500: cost:5.668778600644112:\n",
      "epoch:2600: cost:5.782755935446524:\n",
      "epoch:2700: cost:5.33508826247398:\n",
      "epoch:2800: cost:5.344386268654828:\n",
      "epoch:2900: cost:5.358804463324484:\n",
      "epoch:3000: cost:5.405433382532563:\n",
      "epoch:3100: cost:5.4683488966637235:\n",
      "epoch:3200: cost:5.667316864278963:\n",
      "epoch:3300: cost:5.267999494549899:\n",
      "epoch:3400: cost:5.155270671836035:\n",
      "epoch:3500: cost:5.278026679472036:\n",
      "epoch:3600: cost:5.264387213547895:\n",
      "epoch:3700: cost:5.154142511432502:\n",
      "epoch:3800: cost:5.197716720662363:\n",
      "epoch:3900: cost:5.48842376462734:\n",
      "epoch:4000: cost:5.231955588570667:\n",
      "epoch:4100: cost:5.4959057070630655:\n",
      "epoch:4200: cost:5.450816144483372:\n",
      "epoch:4300: cost:5.69421035372089:\n",
      "epoch:4400: cost:5.327166857740782:\n",
      "epoch:4500: cost:5.267197008602804:\n",
      "epoch:4600: cost:5.222763441747589:\n",
      "epoch:4700: cost:5.2744647724993365:\n",
      "epoch:4800: cost:5.545150941201001:\n",
      "epoch:4900: cost:5.546721035525815:\n",
      "epoch:5000: cost:5.541902794694967:\n",
      "epoch:5100: cost:5.53511055147682:\n",
      "epoch:5200: cost:5.52010992155163:\n",
      "epoch:5300: cost:5.420155029768701:\n",
      "epoch:5400: cost:5.245659666255671:\n",
      "epoch:5500: cost:5.532196236288325:\n",
      "epoch:5600: cost:5.209937785671257:\n",
      "epoch:5700: cost:5.487183617087812:\n",
      "epoch:5800: cost:5.3618070479146915:\n",
      "epoch:5900: cost:5.3193919340777684:\n",
      "epoch:6000: cost:6.246278480170755:\n",
      "epoch:6100: cost:6.234686440753275:\n",
      "epoch:6200: cost:5.499462364206717:\n",
      "epoch:6300: cost:5.955466711923154:\n",
      "epoch:6400: cost:5.853224240252659:\n",
      "epoch:6500: cost:5.936361067231784:\n",
      "epoch:6600: cost:5.393793928002433:\n",
      "epoch:6700: cost:5.632015586346395:\n",
      "epoch:6800: cost:5.6682730139797775:\n",
      "epoch:6900: cost:5.521080767351182:\n",
      "epoch:7000: cost:5.682675116360754:\n",
      "epoch:7100: cost:5.399006050954411:\n",
      "epoch:7200: cost:5.67591305429432:\n",
      "epoch:7300: cost:5.347520081421633:\n",
      "epoch:7400: cost:5.674704564199074:\n",
      "epoch:7500: cost:5.680280126723148:\n",
      "epoch:7600: cost:5.691734916945807:\n",
      "epoch:7700: cost:5.699632135950651:\n",
      "epoch:7800: cost:5.696645810170517:\n",
      "epoch:7900: cost:6.156655491615149:\n",
      "epoch:8000: cost:5.48915351728315:\n",
      "epoch:8100: cost:5.122720040818174:\n",
      "epoch:8200: cost:5.531722488890447:\n",
      "epoch:8300: cost:5.590439162396902:\n",
      "epoch:8400: cost:5.311045306335575:\n",
      "epoch:8500: cost:5.687138953995624:\n",
      "epoch:8600: cost:5.562715603775592:\n",
      "epoch:8700: cost:5.558006634068418:\n",
      "epoch:8800: cost:5.552350403191409:\n",
      "epoch:8900: cost:5.543899254408043:\n",
      "epoch:9000: cost:5.544436071049093:\n",
      "epoch:9100: cost:5.551905101118569:\n",
      "epoch:9200: cost:5.550459767795076:\n",
      "epoch:9300: cost:5.54660169016299:\n",
      "epoch:9400: cost:5.69069413440091:\n",
      "epoch:9500: cost:5.294954804474139:\n",
      "epoch:9600: cost:5.243852136006109:\n",
      "epoch:9700: cost:5.658960399138839:\n",
      "epoch:9800: cost:5.650763219850914:\n",
      "epoch:9900: cost:5.6559346720584935:\n"
     ]
    },
    {
     "data": {
      "image/png": "[encoded data removed]",
      "text/plain": [
       "<Figure size 1008x288 with 1 Axes>"
      ]
     },
     "metadata": {
      "needs_background": "light"
     },
     "output_type": "display_data"
    }
   ],
   "source": [
    "parameters = nn_2layers_regression(eta = 0.0005, iteration= 10000, epsilon= 0.01, layer_dims= [13,50,60,1]).fit(X,y)"
   ]
  },
  {
   "cell_type": "code",
   "execution_count": null,
   "metadata": {},
   "outputs": [],
   "source": []
  }
 ],
 "metadata": {
  "kernelspec": {
   "display_name": "Python 3",
   "language": "python",
   "name": "python3"
  },
  "language_info": {
   "codemirror_mode": {
    "name": "ipython",
    "version": 3
   },
   "file_extension": ".py",
   "mimetype": "text/x-python",
   "name": "python",
   "nbconvert_exporter": "python",
   "pygments_lexer": "ipython3",
   "version": "3.8.3"
  }
 },
 "nbformat": 4,
 "nbformat_minor": 4
}
