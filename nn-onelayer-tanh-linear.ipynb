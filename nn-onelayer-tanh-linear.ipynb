{
 "cells": [
  {
   "cell_type": "code",
   "execution_count": 1,
   "metadata": {},
   "outputs": [],
   "source": [
    "import numpy as np\n",
    "import pandas as pd\n",
    "import matplotlib.pyplot as plt\n",
    "from sklearn.datasets import load_boston"
   ]
  },
  {
   "cell_type": "code",
   "execution_count": 2,
   "metadata": {},
   "outputs": [],
   "source": [
    "X, y = load_boston().data, load_boston().target.reshape(-1,1)"
   ]
  },
  {
   "cell_type": "code",
   "execution_count": 3,
   "metadata": {},
   "outputs": [],
   "source": [
    "class nn_regression(object):\n",
    "    def __init__(self, eta = 0.0005, iterations = 1000):\n",
    "        self.eta = eta\n",
    "        self.iterations = iterations\n",
    "    \n",
    "    def fit(self,X,y):\n",
    "        w_ = np.random.randn(X.shape[1],1)\n",
    "        b_ = 0.0\n",
    "        cost_ = []\n",
    "        m_ = len(y)\n",
    "        i = 1\n",
    "        print('estimation starts now')\n",
    "        while(i != self.iterations):\n",
    "            Z = np.dot(X,w_) + b_\n",
    "            #print(Z.shape)\n",
    "            mse_ = self.mse(Z,y,m_)\n",
    "            cost_.append(mse_)\n",
    "            ## derivatives\n",
    "            dZ = (Z-y) \n",
    "            dW = (2/m_) * np.dot(X.T,dZ) #500x 5  500x1\n",
    "            db = (2/m_) * np.sum(dZ)\n",
    "            ## updates\n",
    "            w_ -= self.eta* dW\n",
    "            b_ -= self.eta *db\n",
    "            if i % 50 ==0:\n",
    "                print(f'epoch:{i}__cost:{mse_}')     \n",
    "            i += 1\n",
    "        history = pd.DataFrame(cost_, columns=['cost'])\n",
    "        history.plot(figsize = (14,5))\n",
    "        return w_,b_\n",
    "    \n",
    "    def mse(self,y_true, y_pred,m):\n",
    "        return np.sum(np.abs(y_pred-y_true))/m"
   ]
  },
  {
   "cell_type": "code",
   "execution_count": 4,
   "metadata": {},
   "outputs": [
    {
     "name": "stdout",
     "output_type": "stream",
     "text": [
      "estimation starts now\n",
      "epoch:50__cost:47.9632050970788\n",
      "epoch:100__cost:47.52554438221889\n",
      "epoch:150__cost:47.09181441578906\n",
      "epoch:200__cost:46.66271193339532\n",
      "epoch:250__cost:46.238819984248615\n",
      "epoch:300__cost:45.81915097705518\n",
      "epoch:350__cost:45.40374219389952\n",
      "epoch:400__cost:44.99270144011627\n",
      "epoch:450__cost:44.58734103947087\n",
      "epoch:500__cost:44.188583384432974\n",
      "epoch:550__cost:43.794625630753686\n",
      "epoch:600__cost:43.40809143633059\n",
      "epoch:650__cost:43.03243534665339\n",
      "epoch:700__cost:42.6632823971717\n",
      "epoch:750__cost:42.30021990591322\n",
      "epoch:800__cost:41.94371164854544\n",
      "epoch:850__cost:41.59463558604833\n",
      "epoch:900__cost:41.25024157066562\n",
      "epoch:950__cost:40.911149393183806\n",
      "epoch:1000__cost:40.57711006070807\n",
      "epoch:1050__cost:40.24998585429422\n",
      "epoch:1100__cost:39.92872972846462\n",
      "epoch:1150__cost:39.613211613506856\n",
      "epoch:1200__cost:39.30190311529143\n",
      "epoch:1250__cost:38.99650042771909\n",
      "epoch:1300__cost:38.697408231615036\n",
      "epoch:1350__cost:38.40363000704376\n",
      "epoch:1400__cost:38.11476643328719\n",
      "epoch:1450__cost:37.83071552378371\n",
      "epoch:1500__cost:37.550821181320906\n",
      "epoch:1550__cost:37.27566912282611\n",
      "epoch:1600__cost:37.00641402203579\n",
      "epoch:1650__cost:36.741972186366404\n",
      "epoch:1700__cost:36.48073612973539\n",
      "epoch:1750__cost:36.222531217530104\n",
      "epoch:1800__cost:35.96797557486367\n",
      "epoch:1850__cost:35.71734690992503\n",
      "epoch:1900__cost:35.47072359031097\n",
      "epoch:1950__cost:35.2278197202318\n",
      "epoch:2000__cost:34.98842163913767\n",
      "epoch:2050__cost:34.75373931388251\n",
      "epoch:2100__cost:34.52417769391708\n",
      "epoch:2150__cost:34.297667309223094\n",
      "epoch:2200__cost:34.0755058254026\n",
      "epoch:2250__cost:33.857162897348005\n",
      "epoch:2300__cost:33.642899986063156\n",
      "epoch:2350__cost:33.43365920032465\n",
      "epoch:2400__cost:33.229636651056815\n",
      "epoch:2450__cost:33.03014362745655\n",
      "epoch:2500__cost:32.83403049532035\n",
      "epoch:2550__cost:32.642217001395444\n",
      "epoch:2600__cost:32.45445637571513\n",
      "epoch:2650__cost:32.269109375197544\n",
      "epoch:2700__cost:32.08590743994642\n",
      "epoch:2750__cost:31.905688956796265\n",
      "epoch:2800__cost:31.72824269315019\n",
      "epoch:2850__cost:31.553798077003968\n",
      "epoch:2900__cost:31.38227384410573\n",
      "epoch:2950__cost:31.21318191046709\n",
      "epoch:3000__cost:31.046044731380594\n",
      "epoch:3050__cost:30.882086921408387\n",
      "epoch:3100__cost:30.720590961756553\n",
      "epoch:3150__cost:30.561813442570656\n",
      "epoch:3200__cost:30.405174218825202\n",
      "epoch:3250__cost:30.25128710042425\n",
      "epoch:3300__cost:30.099176366086454\n",
      "epoch:3350__cost:29.94885115725769\n",
      "epoch:3400__cost:29.800966629128755\n",
      "epoch:3450__cost:29.655403737467637\n",
      "epoch:3500__cost:29.512398700144548\n",
      "epoch:3550__cost:29.371430053274402\n",
      "epoch:3600__cost:29.233068215168117\n",
      "epoch:3650__cost:29.096696368837186\n",
      "epoch:3700__cost:28.9618959970553\n",
      "epoch:3750__cost:28.828648766433368\n",
      "epoch:3800__cost:28.69693655784268\n",
      "epoch:3850__cost:28.566997604499257\n",
      "epoch:3900__cost:28.44007948569215\n",
      "epoch:3950__cost:28.31702376061341\n",
      "epoch:4000__cost:28.196802660927922\n",
      "epoch:4050__cost:28.079331238905027\n",
      "epoch:4100__cost:27.963209753790032\n",
      "epoch:4150__cost:27.84900460251188\n",
      "epoch:4200__cost:27.737222932992363\n",
      "epoch:4250__cost:27.626724519761186\n",
      "epoch:4300__cost:27.517494394263288\n",
      "epoch:4350__cost:27.40976584630988\n",
      "epoch:4400__cost:27.304637572364005\n",
      "epoch:4450__cost:27.202189065999402\n",
      "epoch:4500__cost:27.10145854095907\n",
      "epoch:4550__cost:27.0018819665023\n",
      "epoch:4600__cost:26.90358695774167\n",
      "epoch:4650__cost:26.806870175312824\n",
      "epoch:4700__cost:26.711260433356156\n",
      "epoch:4750__cost:26.61727823794993\n",
      "epoch:4800__cost:26.52458738217529\n",
      "epoch:4850__cost:26.433070635020997\n",
      "epoch:4900__cost:26.343055072157743\n",
      "epoch:4950__cost:26.254068126255163\n",
      "epoch:5000__cost:26.166097800060246\n",
      "epoch:5050__cost:26.079132236300016\n",
      "epoch:5100__cost:25.993159716046723\n",
      "epoch:5150__cost:25.908168657102276\n",
      "epoch:5200__cost:25.82414761240187\n",
      "epoch:5250__cost:25.74225480315684\n",
      "epoch:5300__cost:25.662220281643336\n",
      "epoch:5350__cost:25.583539198741008\n",
      "epoch:5400__cost:25.505754271874128\n",
      "epoch:5450__cost:25.42889312122105\n",
      "epoch:5500__cost:25.353586734462183\n",
      "epoch:5550__cost:25.27963075776099\n",
      "epoch:5600__cost:25.206515312755066\n",
      "epoch:5650__cost:25.134230596771612\n",
      "epoch:5700__cost:25.062766921504156\n",
      "epoch:5750__cost:24.992155806552553\n",
      "epoch:5800__cost:24.922851552268654\n",
      "epoch:5850__cost:24.85592343696003\n",
      "epoch:5900__cost:24.789754056336655\n",
      "epoch:5950__cost:24.724334562001005\n",
      "epoch:6000__cost:24.661259041722793\n",
      "epoch:6050__cost:24.599502005426896\n",
      "epoch:6100__cost:24.538443532741184\n",
      "epoch:6150__cost:24.47807547723782\n",
      "epoch:6200__cost:24.418389787530838\n",
      "epoch:6250__cost:24.359581326957915\n",
      "epoch:6300__cost:24.301806212596357\n",
      "epoch:6350__cost:24.244959260187702\n",
      "epoch:6400__cost:24.188775932301525\n",
      "epoch:6450__cost:24.134637872703497\n",
      "epoch:6500__cost:24.081325344771024\n",
      "epoch:6550__cost:24.028806509703788\n",
      "epoch:6600__cost:23.97727332365693\n",
      "epoch:6650__cost:23.926365098353433\n",
      "epoch:6700__cost:23.876028553772482\n",
      "epoch:6750__cost:23.82625702383173\n",
      "epoch:6800__cost:23.77704392021961\n",
      "epoch:6850__cost:23.72838273148807\n",
      "epoch:6900__cost:23.68063362242527\n",
      "epoch:6950__cost:23.633871568843173\n",
      "epoch:7000__cost:23.58763261230609\n",
      "epoch:7050__cost:23.542324114352905\n",
      "epoch:7100__cost:23.4975909781227\n",
      "epoch:7150__cost:23.453449495191993\n",
      "epoch:7200__cost:23.409965760267706\n",
      "epoch:7250__cost:23.367285571426116\n",
      "epoch:7300__cost:23.325080731283666\n",
      "epoch:7350__cost:23.283345697696795\n",
      "epoch:7400__cost:23.242074993180033\n",
      "epoch:7450__cost:23.202281229935007\n",
      "epoch:7500__cost:23.163018952846105\n",
      "epoch:7550__cost:23.124220574017187\n",
      "epoch:7600__cost:23.08609986157471\n",
      "epoch:7650__cost:23.048645551183153\n",
      "epoch:7700__cost:23.01176169018243\n",
      "epoch:7750__cost:22.975285379238365\n",
      "epoch:7800__cost:22.939259738074096\n",
      "epoch:7850__cost:22.904026874318458\n",
      "epoch:7900__cost:22.869373617821225\n",
      "epoch:7950__cost:22.835397162497877\n",
      "epoch:8000__cost:22.80191446680087\n",
      "epoch:8050__cost:22.76891790763031\n",
      "epoch:8100__cost:22.736390599033616\n",
      "epoch:8150__cost:22.704219468150438\n",
      "epoch:8200__cost:22.67279313595073\n",
      "epoch:8250__cost:22.64232496975136\n",
      "epoch:8300__cost:22.612668611797023\n",
      "epoch:8350__cost:22.58333481530478\n",
      "epoch:8400__cost:22.554319820854634\n",
      "epoch:8450__cost:22.52561991288603\n",
      "epoch:8500__cost:22.49723141918616\n",
      "epoch:8550__cost:22.46927335176482\n",
      "epoch:8600__cost:22.441744907425083\n",
      "epoch:8650__cost:22.414514105376238\n",
      "epoch:8700__cost:22.387577476952774\n",
      "epoch:8750__cost:22.36112944825093\n",
      "epoch:8800__cost:22.335530163851104\n",
      "epoch:8850__cost:22.310355449686035\n",
      "epoch:8900__cost:22.285617297869642\n",
      "epoch:8950__cost:22.261199313942022\n",
      "epoch:9000__cost:22.237042542117067\n",
      "epoch:9050__cost:22.21314393877341\n",
      "epoch:9100__cost:22.189529613942472\n",
      "epoch:9150__cost:22.166564531723566\n",
      "epoch:9200__cost:22.143922109463606\n",
      "epoch:9250__cost:22.12198365024783\n",
      "epoch:9300__cost:22.100404214380717\n",
      "epoch:9350__cost:22.07905307737178\n",
      "epoch:9400__cost:22.05792757955041\n",
      "epoch:9450__cost:22.03702509227497\n",
      "epoch:9500__cost:22.01634301757079\n",
      "epoch:9550__cost:21.996073938449452\n",
      "epoch:9600__cost:21.97604731778877\n",
      "epoch:9650__cost:21.95641535944159\n",
      "epoch:9700__cost:21.93749352479532\n",
      "epoch:9750__cost:21.918768976911966\n",
      "epoch:9800__cost:21.900239417950218\n",
      "epoch:9850__cost:21.881902576876374\n",
      "epoch:9900__cost:21.86375620915154\n",
      "epoch:9950__cost:21.84579809642259\n"
     ]
    },
    {
     "data": {
      "image/png": "[encoded data removed]",
      "text/plain": [
       "<Figure size 1008x360 with 1 Axes>"
      ]
     },
     "metadata": {
      "needs_background": "light"
     },
     "output_type": "display_data"
    }
   ],
   "source": [
    "w_,b_ = nn_regression(eta = 0.000000005, iterations= 10000).fit(X,y)"
   ]
  },
  {
   "cell_type": "code",
   "execution_count": 5,
   "metadata": {},
   "outputs": [
    {
     "data": {
      "text/plain": [
       "(array([[-7.73732116e-01],\n",
       "        [ 1.21367230e+00],\n",
       "        [ 1.75120374e+00],\n",
       "        [-5.64170304e-01],\n",
       "        [ 1.57485809e+00],\n",
       "        [ 2.18983563e+00],\n",
       "        [ 7.16159019e-01],\n",
       "        [-5.32812580e-01],\n",
       "        [ 2.17508442e+00],\n",
       "        [-1.48728572e-01],\n",
       "        [-2.28935256e+00],\n",
       "        [ 1.10355199e-04],\n",
       "        [ 9.38935907e-01]]),\n",
       " 0.0002637745604067884)"
      ]
     },
     "execution_count": 5,
     "metadata": {},
     "output_type": "execute_result"
    }
   ],
   "source": [
    "w_, b_"
   ]
  },
  {
   "cell_type": "code",
   "execution_count": 6,
   "metadata": {},
   "outputs": [
    {
     "data": {
      "text/plain": [
       "(506, 13)"
      ]
     },
     "execution_count": 6,
     "metadata": {},
     "output_type": "execute_result"
    }
   ],
   "source": [
    "X.shape"
   ]
  },
  {
   "cell_type": "code",
   "execution_count": 7,
   "metadata": {},
   "outputs": [
    {
     "data": {
      "text/plain": [
       "(1, 506)"
      ]
     },
     "execution_count": 7,
     "metadata": {},
     "output_type": "execute_result"
    }
   ],
   "source": [
    "y.T.shape"
   ]
  },
  {
   "cell_type": "code",
   "execution_count": 8,
   "metadata": {},
   "outputs": [],
   "source": [
    "class nn_regression_hidden(object):\n",
    "    def __init__(self, eta = 0.0005, iterations = 1000, hidden = 50):\n",
    "        self.hidden = hidden\n",
    "        self.eta = eta\n",
    "        self.iterations = iterations\n",
    "    \n",
    "    def fit(self,X,y):\n",
    "        X_ = X.T # 13x506\n",
    "        y_ = y.T # 1x506\n",
    "        w2_ = np.random.randn(1, self.hidden) * 0.01\n",
    "        b2_ = np.zeros((1, 1))\n",
    "        w1_ = np.random.randn(self.hidden, X.shape[1])  * 0.01\n",
    "        b1_ = np.zeros((self.hidden,1))\n",
    "        cost_ = []\n",
    "        m_ = len(y)\n",
    "        i = 1\n",
    "        print('estimation starts now')\n",
    "        while(i != self.iterations):\n",
    "            Z1 = np.dot(w1_,X_) + b1_ # 50x13  13x 506 => 50x 506 + 50x1\n",
    "            A1 = self.tanh(Z1)  # 50x 506\n",
    "            Z2 =  np.dot(w2_,A1) + b2_  # 1x50 50x506 => 1x506 + 1x1\n",
    "            A2 = Z2  # 1x506\n",
    "            #print(Z.shape)\n",
    "            mse_ = self.mse(Z2,y,m_) #used mae\n",
    "            cost_.append(mse_)\n",
    "            ## derivatives\n",
    "            dZ2 = (2/m_) * (A2-y_)  # 1x506\n",
    "            dW2 = (2/m_) * np.dot(dZ2, A1.T) # 1x506 506x50 => 1x50\n",
    "            db2 = (2/m_) * np.sum(dZ2, axis =1, keepdims=True) # \n",
    "            dZ1 = np.dot(w2_.T,dZ2) * (1 - np.power(A1,2)) #  \n",
    "            dW1 =  (2/m_) * np.dot(dZ1,X_.T) # \n",
    "            db1 = (2/m_) * np.sum(dZ1, axis =1, keepdims=True) #\n",
    "            ## updates\n",
    "            w2_ -= self.eta* dW2 #  \n",
    "            b2_ -= self.eta *db2 #  \n",
    "            w1_ -= self.eta* dW1\n",
    "            b1_ -= self.eta *db1\n",
    "            if i % 100 ==0:\n",
    "                print(f'epoch:{i}__cost:{mse_}')     \n",
    "            i += 1\n",
    "        history = pd.DataFrame(cost_, columns=['cost'])\n",
    "        history.plot(figsize = (14,5))\n",
    "        return w2_,b2_,w1_,b1_\n",
    "    \n",
    "    def mse(self,y_true, y_pred,m):\n",
    "        return np.sum(np.abs(y_pred-y_true))/m\n",
    "    \n",
    "    def sigmoid(self,z):\n",
    "        return 1/(1 + np.exp(-z))\n",
    "    \n",
    "    def tanh(self,z):\n",
    "        return (np.exp(z)-np.exp(-z))/ (np.exp(z)+np.exp(-z))"
   ]
  },
  {
   "cell_type": "code",
   "execution_count": 13,
   "metadata": {},
   "outputs": [
    {
     "name": "stdout",
     "output_type": "stream",
     "text": [
      "estimation starts now\n",
      "epoch:100__cost:6023.981831706192\n",
      "epoch:200__cost:3979.921798646452\n",
      "epoch:300__cost:3593.9161878629247\n",
      "epoch:400__cost:3323.893974337836\n",
      "epoch:500__cost:3813.0306879554482\n",
      "epoch:600__cost:3360.7267287696345\n",
      "epoch:700__cost:3304.711556215266\n",
      "epoch:800__cost:3317.2568073575776\n",
      "epoch:900__cost:3335.887797533026\n",
      "epoch:1000__cost:3348.7162048607465\n",
      "epoch:1100__cost:3355.759586953062\n",
      "epoch:1200__cost:3313.5489582286436\n",
      "epoch:1300__cost:3308.595403690943\n",
      "epoch:1400__cost:3326.8930205528936\n",
      "epoch:1500__cost:3343.131405050887\n",
      "epoch:1600__cost:3352.7332539753443\n",
      "epoch:1700__cost:3357.9106895463246\n",
      "epoch:1800__cost:3360.5488165404936\n",
      "epoch:1900__cost:3361.9750261505887\n",
      "epoch:2000__cost:3320.356783413057\n",
      "epoch:2100__cost:3306.969190469258\n",
      "epoch:2200__cost:3324.2547579903344\n",
      "epoch:2300__cost:3341.465619903889\n",
      "epoch:2400__cost:3351.8223179470433\n",
      "epoch:2500__cost:3357.4314648060636\n",
      "epoch:2600__cost:3360.304766806481\n",
      "epoch:2700__cost:3361.854420103897\n",
      "epoch:2800__cost:3362.655071866094\n",
      "epoch:2900__cost:3363.06305337485\n",
      "epoch:3000__cost:3363.2709451693067\n",
      "epoch:3100__cost:3363.376878913516\n",
      "epoch:3200__cost:3363.4308587433165\n",
      "epoch:3300__cost:3363.4583648501043\n",
      "epoch:3400__cost:3363.4723809628226\n",
      "epoch:3500__cost:3363.4795230919904\n",
      "epoch:3600__cost:3363.483162502829\n",
      "epoch:3700__cost:3363.485017062729\n",
      "epoch:3800__cost:3363.485962130919\n",
      "epoch:3900__cost:3363.48644375679\n"
     ]
    },
    {
     "data": {
      "image/png": "[encoded data removed]",
      "text/plain": [
       "<Figure size 1008x360 with 1 Axes>"
      ]
     },
     "metadata": {
      "needs_background": "light"
     },
     "output_type": "display_data"
    }
   ],
   "source": [
    "w2_,b2_,w1_,b1_ = nn_regression_hidden(eta = 0.05, iterations= 4000, hidden= 16).fit(X,y)"
   ]
  },
  {
   "cell_type": "code",
   "execution_count": 10,
   "metadata": {},
   "outputs": [
    {
     "data": {
      "text/plain": [
       "(506, 13)"
      ]
     },
     "execution_count": 10,
     "metadata": {},
     "output_type": "execute_result"
    }
   ],
   "source": [
    "X.shape"
   ]
  },
  {
   "cell_type": "code",
   "execution_count": null,
   "metadata": {},
   "outputs": [],
   "source": []
  }
 ],
 "metadata": {
  "kernelspec": {
   "display_name": "Python 3",
   "language": "python",
   "name": "python3"
  },
  "language_info": {
   "codemirror_mode": {
    "name": "ipython",
    "version": 3
   },
   "file_extension": ".py",
   "mimetype": "text/x-python",
   "name": "python",
   "nbconvert_exporter": "python",
   "pygments_lexer": "ipython3",
   "version": "3.8.3"
  }
 },
 "nbformat": 4,
 "nbformat_minor": 4
}
