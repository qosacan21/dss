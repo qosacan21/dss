{
 "cells": [
  {
   "cell_type": "code",
   "execution_count": 59,
   "metadata": {},
   "outputs": [],
   "source": [
    "import numpy as np\n",
    "import pandas as pd\n",
    "import matplotlib.pyplot as plt\n",
    "from sklearn.datasets import load_boston\n",
    "from sklearn.model_selection import train_test_split"
   ]
  },
  {
   "cell_type": "code",
   "execution_count": 2,
   "metadata": {},
   "outputs": [],
   "source": [
    "X, y = load_boston().data, load_boston().target.reshape(-1,1)"
   ]
  },
  {
   "cell_type": "code",
   "execution_count": 3,
   "metadata": {},
   "outputs": [
    {
     "data": {
      "text/plain": [
       "((506, 13), (506, 1))"
      ]
     },
     "execution_count": 3,
     "metadata": {},
     "output_type": "execute_result"
    }
   ],
   "source": [
    "X.shape, y.shape"
   ]
  },
  {
   "cell_type": "code",
   "execution_count": 66,
   "metadata": {},
   "outputs": [],
   "source": [
    "class NN_build(object):\n",
    "    def __init__(self, eta = 0.005, iterations = 1000, dims = [X.shape[1],50,50,1], lamb_ = 0.9, activation = 'relu'):\n",
    "        self.eta = eta\n",
    "        self.iterations = iterations\n",
    "        self.dims = dims\n",
    "        self.layers = len(dims)\n",
    "        self.lamb_ = lamb_\n",
    "        self.activation = activation\n",
    "    \n",
    "    def fit(self,X,y,X_test,y_test):\n",
    "        X_ = X.T\n",
    "        y_ = y.T\n",
    "        X_test_ = X_test.T\n",
    "        y_test_ = y_test.T\n",
    "        A0 = X_\n",
    "        m_ = len(y)\n",
    "        i = 1\n",
    "        cost_ =[]\n",
    "        cost_mae_ = []\n",
    "        val_cost = []\n",
    "        parameters = {}\n",
    "        \n",
    "        for l in range(1,self.layers):  #he_init\n",
    "            parameters['W'+str(l)] = np.random.randn(self.dims[l],self.dims[l-1]) * np.sqrt(2/self.dims[l-1])\n",
    "            parameters['b'+str(l)] = np.zeros((self.dims[l],1))\n",
    "            \n",
    "            \n",
    "        while(i != self.iterations+1):\n",
    "            #forward prop\n",
    "            Z1 =  np.dot(parameters['W1'],A0) + parameters['b1']\n",
    "            if self.activation == 'relu':\n",
    "                A1 =  self.relu(Z1)\n",
    "            else:\n",
    "                A1 = self.sigmoid(Z1)\n",
    "            Z2 =  np.dot(parameters['W2'],A1) + parameters['b2']\n",
    "            if self.activation == \"relu\":\n",
    "                A2 =  self.relu(Z2)\n",
    "            else:\n",
    "                A2 = self.sigmoid(Z2)\n",
    "            Z3 =  np.dot(parameters['W3'],A2) + parameters['b3']\n",
    "            A3 =  Z3\n",
    "            #cost\n",
    "            pred = self.predict(X_test_, parameters)\n",
    "            l2_reg = (self.lamb_/(m_*2)) * (np.sum(np.square(parameters['W1'])) +  np.sum(np.square(parameters['W2'])) + np.sum(np.square(parameters['W3'])) )\n",
    "            cost = self.MSE(y_,A3,m_) + l2_reg\n",
    "            cost_.append(cost)\n",
    "            mae = self.MAE(y_,A3,m_) + l2_reg\n",
    "            mae_val = self.MAE(y_test_,pred,len(y_test))\n",
    "            val_cost.append(mae_val)\n",
    "            cost_mae_.append(mae) \n",
    "            #derivative\n",
    "            dZ3 = A3 - y_\n",
    "            dW3 = (1/m_) * np.dot(dZ3, A2.T) + (self.lamb_/m_) * parameters['W3']\n",
    "            db3 = (1/m_) * np.sum(dZ3, axis = 1, keepdims= True)\n",
    "            if self.activation == 'relu':\n",
    "                dZ2 = np.dot(parameters['W3'].T,dZ3) * np.where(A2>=0,1,0)  #(A2 * (1-A2))\n",
    "            else:\n",
    "                dZ2 = np.dot(parameters['W3'].T,dZ3) * (A2 * (1-A2))\n",
    "            dW2 = (1/m_) * np.dot(dZ2, A1.T) + (self.lamb_/m_) * parameters['W2']\n",
    "            db2 = (1/m_) * np.sum(dZ2, axis = 1, keepdims= True)\n",
    "            if self.activation == 'relu':\n",
    "                dZ1 = np.dot(parameters['W2'].T,dZ2) * np.where(A1>=0,1,0) # (A1 * (1-A1))\n",
    "            else:\n",
    "                dZ1 = np.dot(parameters['W2'].T,dZ2) *  (A1 * (1-A1))\n",
    "            dW1 = (1/m_) * np.dot(dZ1, A0.T) + (self.lamb_/m_) * parameters['W1']\n",
    "            db1 = (1/m_) * np.sum(dZ1, axis = 1, keepdims= True)          \n",
    "            #updates\n",
    "            parameters['W1'] -= self.eta * dW1\n",
    "            parameters['W2'] -= self.eta * dW2\n",
    "            parameters['W3'] -= self.eta * dW3\n",
    "            parameters['b1'] -= self.eta * db1\n",
    "            parameters['b2'] -= self.eta * db2\n",
    "            parameters['b3'] -= self.eta * db3\n",
    "            if i % 500 ==0:\n",
    "                print('Epoch:{}: cost:{} MAE:{} val_MAE:{}'.format(i,cost,mae,mae_val))\n",
    "            \n",
    "            i += 1\n",
    "        history = pd.DataFrame(cost_, columns= ['cost'])\n",
    "        history['mae'] = cost_mae_\n",
    "        history['val'] = val_cost\n",
    "        plt.figure(figsize = (14,4))\n",
    "        plt.subplot(1,2,1)\n",
    "        plt.plot(history.cost)\n",
    "        plt.subplot(1,2,2)\n",
    "        plt.plot(history.mae,'b')\n",
    "        plt.plot(history.val,'r')\n",
    "        plt.show()\n",
    "        return parameters\n",
    "    \n",
    "    \n",
    "    def MAE(self,y_true,y_pred,m_):\n",
    "        return (1/m_) * np.sum(np.abs(y_true - y_pred))\n",
    "    \n",
    "    def MSE(self,y_true,y_pred,m_):\n",
    "        return (1/m_) * np.sum(np.square(y_true - y_pred))\n",
    "    \n",
    "    def sigmoid(self,z):\n",
    "        return 1 / (1+ np.exp(-z))\n",
    "    \n",
    "    def relu(self,z):\n",
    "        return z * (z>0).astype(int)\n",
    "    \n",
    "    def predict(self,X_test, parameters):\n",
    "        if self.activation == 'relu':\n",
    "            res = np.dot(parameters['W3'],self.relu(np.dot(parameters['W2'] ,  self.relu(np.dot(parameters['W1'],X_test) + parameters['b1']))) + parameters['b2']) + parameters['b3']\n",
    "        else:\n",
    "            res = np.dot(parameters['W3'],self.sigmoid(np.dot(parameters['W2'] ,  self.sigmoid(np.dot(parameters['W1'],X_test) + parameters['b1']))) + parameters['b2']) + parameters['b3']\n",
    "        return res\n",
    "    "
   ]
  },
  {
   "cell_type": "code",
   "execution_count": 67,
   "metadata": {},
   "outputs": [],
   "source": [
    "X_train,X_test, y_train, y_test = train_test_split(X, y , test_size = 0.2)"
   ]
  },
  {
   "cell_type": "code",
   "execution_count": 68,
   "metadata": {},
   "outputs": [
    {
     "name": "stdout",
     "output_type": "stream",
     "text": [
      "Epoch:500: cost:117.0078138292179 MAE:8.621612594240512 val_MAE:8.78274027348689\n",
      "Epoch:1000: cost:95.63892216976157 MAE:7.718602270716761 val_MAE:7.637700378122549\n",
      "Epoch:1500: cost:87.95746545448542 MAE:7.33079435121528 val_MAE:7.122108232980667\n",
      "Epoch:2000: cost:83.71565691892087 MAE:7.087226662448374 val_MAE:6.798836049039441\n",
      "Epoch:2500: cost:80.75166926229501 MAE:6.905865471689694 val_MAE:6.600595337046535\n",
      "Epoch:3000: cost:78.30354238942537 MAE:6.760851454431687 val_MAE:6.471978700754973\n",
      "Epoch:3500: cost:76.16280179999751 MAE:6.637814804441646 val_MAE:6.375934540602485\n",
      "Epoch:4000: cost:74.27757051325538 MAE:6.533387491288789 val_MAE:6.294251181140686\n",
      "Epoch:4500: cost:72.59464678067171 MAE:6.444124501912029 val_MAE:6.2257302924934415\n",
      "Epoch:5000: cost:71.09349153591239 MAE:6.365622897840332 val_MAE:6.166254552536243\n",
      "Epoch:5500: cost:69.78165809945051 MAE:6.2938905444528315 val_MAE:6.117844152432584\n",
      "Epoch:6000: cost:68.6432192579304 MAE:6.228487081566466 val_MAE:6.083012225910338\n",
      "Epoch:6500: cost:67.64470989528827 MAE:6.171550749192146 val_MAE:6.049596749816016\n",
      "Epoch:7000: cost:66.7809893585245 MAE:6.120191255626859 val_MAE:6.019228692361129\n",
      "Epoch:7500: cost:66.00697401391352 MAE:6.072515855006465 val_MAE:5.992059401143929\n",
      "Epoch:8000: cost:65.32503899828751 MAE:6.032482825230387 val_MAE:5.969020642590449\n"
     ]
    },
    {
     "data": {
      "image/png": "[encoded data removed]",
      "text/plain": [
       "<Figure size 1008x288 with 2 Axes>"
      ]
     },
     "metadata": {
      "needs_background": "light"
     },
     "output_type": "display_data"
    }
   ],
   "source": [
    "parameters = NN_build(eta = 0.0000005, iterations = 8000, dims = [X.shape[1],32,32,1], lamb_ = 0.9, activation='relu').fit(X_train,y_train,X_test,y_test)"
   ]
  },
  {
   "cell_type": "code",
   "execution_count": 70,
   "metadata": {},
   "outputs": [
    {
     "name": "stderr",
     "output_type": "stream",
     "text": [
      "<ipython-input-66-6a0392d99ab3>:98: RuntimeWarning: overflow encountered in exp\n",
      "  return 1 / (1+ np.exp(-z))\n"
     ]
    },
    {
     "name": "stdout",
     "output_type": "stream",
     "text": [
      "Epoch:500: cost:74.16098876510328 MAE:6.330443647701674 val_MAE:6.745188344906823\n",
      "Epoch:1000: cost:68.99563650827562 MAE:6.078362543103605 val_MAE:6.336893249432299\n",
      "Epoch:1500: cost:65.62318488696164 MAE:5.9155954093323535 val_MAE:6.092157268186428\n",
      "Epoch:2000: cost:62.165680476882635 MAE:5.792200184480683 val_MAE:5.869818704781266\n",
      "Epoch:2500: cost:60.3227483265612 MAE:5.682712027064057 val_MAE:5.747070228110922\n",
      "Epoch:3000: cost:61.78994507520757 MAE:5.638693319580347 val_MAE:5.6749676573470555\n",
      "Epoch:3500: cost:58.502068665767496 MAE:5.745011186287949 val_MAE:5.745167043521985\n",
      "Epoch:4000: cost:63.06219820742477 MAE:5.900435422608755 val_MAE:5.77010621408852\n",
      "Epoch:4500: cost:62.68142370179915 MAE:5.888753529494046 val_MAE:5.779772077932881\n",
      "Epoch:5000: cost:62.27722498977516 MAE:5.885271020890085 val_MAE:5.792341036753005\n",
      "Epoch:5500: cost:61.96780044301978 MAE:5.847918275690068 val_MAE:5.771783371183462\n",
      "Epoch:6000: cost:61.444776521223 MAE:5.845356032183213 val_MAE:5.788297601834802\n",
      "Epoch:6500: cost:61.360846197065186 MAE:5.849747247651609 val_MAE:5.787163220473624\n",
      "Epoch:7000: cost:61.17365869275371 MAE:5.844777715911647 val_MAE:5.780839430096982\n",
      "Epoch:7500: cost:60.858147620291206 MAE:5.817460334919122 val_MAE:5.756230199544072\n",
      "Epoch:8000: cost:60.75457185637691 MAE:5.812752633386931 val_MAE:5.747091571358842\n"
     ]
    },
    {
     "data": {
      "image/png": "[encoded data removed]",
      "text/plain": [
       "<Figure size 1008x288 with 2 Axes>"
      ]
     },
     "metadata": {
      "needs_background": "light"
     },
     "output_type": "display_data"
    }
   ],
   "source": [
    "parameters = NN_build(eta = 0.0005, iterations = 8000, dims = [X.shape[1],32,32,1], lamb_ = 0.9, activation='sigmoid').fit(X_train,y_train,X_test,y_test)"
   ]
  },
  {
   "cell_type": "code",
   "execution_count": null,
   "metadata": {},
   "outputs": [],
   "source": []
  }
 ],
 "metadata": {
  "kernelspec": {
   "display_name": "Python 3",
   "language": "python",
   "name": "python3"
  },
  "language_info": {
   "codemirror_mode": {
    "name": "ipython",
    "version": 3
   },
   "file_extension": ".py",
   "mimetype": "text/x-python",
   "name": "python",
   "nbconvert_exporter": "python",
   "pygments_lexer": "ipython3",
   "version": "3.8.5"
  }
 },
 "nbformat": 4,
 "nbformat_minor": 4
}
