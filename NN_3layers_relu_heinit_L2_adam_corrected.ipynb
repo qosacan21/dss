{
 "cells": [
  {
   "cell_type": "code",
   "execution_count": 1,
   "metadata": {},
   "outputs": [],
   "source": [
    "import numpy as np\n",
    "import pandas as pd\n",
    "from sklearn.datasets import load_boston\n",
    "import matplotlib.pyplot as plt"
   ]
  },
  {
   "cell_type": "code",
   "execution_count": 2,
   "metadata": {},
   "outputs": [],
   "source": [
    "X, y = load_boston().data, load_boston().target.reshape(-1,1)"
   ]
  },
  {
   "cell_type": "code",
   "execution_count": 3,
   "metadata": {},
   "outputs": [
    {
     "data": {
      "text/plain": [
       "((506, 13), (506, 1))"
      ]
     },
     "execution_count": 3,
     "metadata": {},
     "output_type": "execute_result"
    }
   ],
   "source": [
    "X.shape, y.shape"
   ]
  },
  {
   "cell_type": "code",
   "execution_count": 4,
   "metadata": {},
   "outputs": [],
   "source": [
    "class NN_Build(object):\n",
    "    def __init__(self, eta = 0.0005, iterations = 1000, activation = \"relu\", epsilon = 0.01, kernel_init = 'he_init', \n",
    "                 dims = [X.shape[1],30,5,1], lam = 0.9, beta = 0.9, beta2 = 0.9, epsilon_beta = 0.0000000001):\n",
    "        self.eta = eta\n",
    "        self.iterations = iterations\n",
    "        self.activation = activation\n",
    "        self.epsilon = epsilon\n",
    "        self.kernel_init = kernel_init\n",
    "        self.dims = dims\n",
    "        self.layer = len(dims)\n",
    "        self.lam = lam\n",
    "        self.beta = beta\n",
    "        self.beta2 = beta2\n",
    "        self.epsilon_beta = epsilon_beta\n",
    "        \n",
    "    def fit(self,X,y):\n",
    "        X_ = X.T\n",
    "        y_ = y.T\n",
    "        A0 = X_\n",
    "        i = 1\n",
    "        m_ = len(y)\n",
    "        parameters = {}\n",
    "        cost_ = []\n",
    "        cost_mae_ = []\n",
    "        sdW3 = 0\n",
    "        sdb3 = 0\n",
    "        sdW2 = 0\n",
    "        sdb2 = 0\n",
    "        sdW1 = 0\n",
    "        sdb1 = 0\n",
    "        vdW3 = 0\n",
    "        vdb3 = 0\n",
    "        vdW2 = 0\n",
    "        vdb2 = 0\n",
    "        vdW1 = 0\n",
    "        vdb1 = 0\n",
    "        \n",
    "        if self.kernel_init == \"he_init\":\n",
    "            for l in range(1,self.layer):\n",
    "                parameters['W'+str(l)] = np.random.randn(self.dims[l],self.dims[l-1])  * np.sqrt(2/self.dims[l-1]) \n",
    "                parameters['b' + str(l)] = np.zeros((self.dims[l],1)) \n",
    "            print('kernel_init is he_init')\n",
    "        else:\n",
    "            for l in range(1,self.layer):\n",
    "                parameters['W'+str(l)] = np.random.randn(self.dims[l],self.dims[l-1])  * self.epsilon\n",
    "                parameters['b' + str(l)] = np.zeros((self.dims[l],1)) \n",
    "            print('kernel_init is random nd')\n",
    "        \n",
    "        while(i !=self.iterations+1):\n",
    "            #forward prop\n",
    "            Z1 = np.dot(parameters['W1'],A0) + parameters['b1']\n",
    "            if self.activation == \"relu\":\n",
    "                A1 = self.relu(Z1)\n",
    "            else:\n",
    "                A1 = self.sigmoid(Z1)\n",
    "            Z2= np.dot(parameters['W2'],A1) + parameters['b2']\n",
    "            if self.activation == \"relu\":\n",
    "                A2 = self.relu(Z2)\n",
    "            else:\n",
    "                A2 = self.sigmoid(Z2)\n",
    "            Z3 = np.dot(parameters['W3'],A2) + parameters['b3']\n",
    "            A3 = Z3            \n",
    "            #cost\n",
    "            l2_reg = (self.lam/(2*m_)) * (np.sum(np.square(parameters['W1']))+np.sum(np.square(parameters['W2']))+np.sum(np.square(parameters['W3'])))\n",
    "            cost = self.MSE(y_true = y_, y_pred = A3 , n = m_) + l2_reg\n",
    "            cost_.append(cost)\n",
    "            cost_mae = self.MAE(y_true = y_, y_pred = A3 , n = m_) + l2_reg\n",
    "            cost_mae_.append(cost_mae)           \n",
    "            #derivative\n",
    "            dZ3 = A3 - y_\n",
    "            dW3 = (1/m_) * np.dot(dZ3,A2.T) + (self.lam/m_) * parameters['W3']\n",
    "            db3 = (1/m_) * np.sum(dZ3, axis = 1, keepdims= True)\n",
    "            if self.activation == 'relu':\n",
    "                dZ2 = np.dot(parameters['W3'].T,dZ3) * (np.where(A2>=0,1,0))\n",
    "            else:\n",
    "                dZ2 = np.dot(parameters['W3'].T,dZ3) * (A2 * (1-A2))\n",
    "            dW2 = (1/m_) * np.dot(dZ2,A1.T) + (self.lam/m_) * parameters['W2']\n",
    "            db2 = (1/m_) * np.sum(dZ2, axis = 1, keepdims= True)\n",
    "            if self.activation == 'relu':\n",
    "                dZ1 = np.dot(parameters['W2'].T,dZ2) * (np.where(A1>=0,1,0))\n",
    "            else:\n",
    "                dZ1 = np.dot(parameters['W2'].T,dZ2) * (A1 * (1-A1))\n",
    "            dW1 = (1/m_) * np.dot(dZ1,A0.T) + (self.lam/m_) * parameters['W1']\n",
    "            db1 = (1/m_) * np.sum(dZ1, axis = 1, keepdims= True)\n",
    "            #vdwb momentum  \n",
    "            vdW3 = self.beta2 * vdW3 + (1- self.beta2) * dW3 \n",
    "            vdb3 = self.beta2 * vdb3 + (1- self.beta2) * db3 \n",
    "            vdW2 = self.beta2 * vdW2 + (1- self.beta2) * dW2 \n",
    "            vdb2 = self.beta2 * vdb2 + (1- self.beta2) * db2\n",
    "            vdW1 = self.beta2 * vdW1 + (1- self.beta2) * dW1 \n",
    "            vdb1 = self.beta2 * vdb1 + (1- self.beta2) * db1 \n",
    "            #vdwb correction\n",
    "            vdW3 = vdW3 / (1 - self.beta2 **i)\n",
    "            vdW2 = vdW2 / (1 - self.beta2 **i)\n",
    "            vdW1 = vdW1 / (1 - self.beta2 **i)\n",
    "            vdb3 = vdb3 / (1 - self.beta2 **i)\n",
    "            vdb2 = vdb2 / (1 - self.beta2 **i)\n",
    "            vdb1 = vdb1 / (1 - self.beta2 **i)\n",
    "            #sdwb rmsprop\n",
    "            sdW3 = self.beta * sdW3 + (1- self.beta) * dW3 **2\n",
    "            sdb3 = self.beta * sdb3 + (1- self.beta) * db3 **2\n",
    "            sdW2 = self.beta * sdW2 + (1- self.beta) * dW2 **2\n",
    "            sdb2 = self.beta * sdb2 + (1- self.beta) * db2 **2\n",
    "            sdW1 = self.beta * sdW1 + (1- self.beta) * dW1 **2\n",
    "            sdb1 = self.beta * sdb1 + (1- self.beta) * db1 **2\n",
    "            #sdwb correction\n",
    "            sdW3 = sdW3 / (1 - self.beta **i)\n",
    "            sdW2 = sdW2 / (1 - self.beta **i)\n",
    "            sdW1 = sdW1 / (1 - self.beta **i)\n",
    "            sdb3 = sdb3 / (1 - self.beta **i)\n",
    "            sdb2 = sdb2 / (1 - self.beta **i)\n",
    "            sdb1 = sdb1 / (1 - self.beta **i)            \n",
    "            #update\n",
    "            parameters['W3'] -= self.eta * vdW3 / np.sqrt(sdW3 + self.epsilon_beta)\n",
    "            parameters['W2'] -= self.eta * vdW2 / np.sqrt(sdW2+ self.epsilon_beta)\n",
    "            parameters['W1'] -= self.eta * vdW1 / np.sqrt(sdW1+ self.epsilon_beta)\n",
    "            parameters['b3'] -= self.eta * vdb3 / np.sqrt(sdb3+ self.epsilon_beta)\n",
    "            parameters['b2'] -= self.eta * vdb2 / np.sqrt(sdb2+ self.epsilon_beta)\n",
    "            parameters['b1'] -= self.eta * vdb1 / np.sqrt(sdb1+ self.epsilon_beta)\n",
    "            #inform\n",
    "            if i % 200 == 0:\n",
    "                print('epoch_{} cost: {}  mae: {}'.format(i,cost,cost_mae))\n",
    "            \n",
    "            i += 1\n",
    "            \n",
    "        history = pd.DataFrame(cost_, columns = ['cost'])\n",
    "        history['mae'] = cost_mae_\n",
    "        plt.figure(figsize = (14,4))\n",
    "        plt.subplot(1,2,1)\n",
    "        plt.plot(history.cost)\n",
    "        plt.subplot(1,2,2)\n",
    "        plt.plot(history.mae)\n",
    "        return parameters,A3,A2\n",
    "    \n",
    "    def sigmoid(self,z):\n",
    "        return 1 / (1+ np.exp(-z))\n",
    "    \n",
    "    def relu(self,z):\n",
    "        return np.where(z>=0,z,0)\n",
    "    \n",
    "    def MSE(self,y_true,y_pred,n):\n",
    "        return (1/n) * np.sum(np.square(y_true-y_pred))\n",
    "    \n",
    "    def MAE(self,y_true,y_pred,n):\n",
    "        return (1/n) * np.sum(np.abs(y_true-y_pred))\n",
    "        \n",
    "        "
   ]
  },
  {
   "cell_type": "code",
   "execution_count": 5,
   "metadata": {},
   "outputs": [
    {
     "name": "stdout",
     "output_type": "stream",
     "text": [
      "kernel_init is he_init\n",
      "epoch_200 cost: 222129.24048793092  mae: 459.68393781788916\n",
      "epoch_400 cost: 156575.18075353446  mae: 385.0450124125288\n",
      "epoch_600 cost: 105001.15881835442  mae: 314.1953197990011\n",
      "epoch_800 cost: 65588.3773374996  mae: 246.77975006632238\n",
      "epoch_1000 cost: 36660.5332484447  mae: 182.3461632871091\n",
      "epoch_1200 cost: 16875.013560655967  mae: 120.43751139124942\n",
      "epoch_1400 cost: 4707.886445929922  mae: 58.52109064132032\n",
      "epoch_1600 cost: 239.5431813411229  mae: 12.456686727370233\n",
      "epoch_1800 cost: 106.37681239754397  mae: 7.940027111253699\n",
      "epoch_2000 cost: 91.55018536710062  mae: 7.283233364372885\n",
      "epoch_2200 cost: 83.69815577044325  mae: 6.8880763136301\n",
      "epoch_2400 cost: 76.54819556100429  mae: 6.5416074960483765\n",
      "epoch_2600 cost: 69.58099747810279  mae: 6.20161961626511\n",
      "epoch_2800 cost: 63.579867431766715  mae: 5.920955477840389\n",
      "epoch_3000 cost: 58.38545678809651  mae: 5.67588208785606\n",
      "epoch_3200 cost: 54.026776504687504  mae: 5.443306768069685\n",
      "epoch_3400 cost: 50.65851073648749  mae: 5.2579561259346885\n",
      "epoch_3600 cost: 48.2885046495856  mae: 5.156709675801287\n",
      "epoch_3800 cost: 46.50704229388197  mae: 5.097369145601483\n",
      "epoch_4000 cost: 44.58206495652194  mae: 5.0218001762528885\n",
      "epoch_4200 cost: 42.46571073522567  mae: 4.92855543349628\n",
      "epoch_4400 cost: 40.6047970319414  mae: 4.83646867899165\n",
      "epoch_4600 cost: 39.153577213630534  mae: 4.764306398101683\n",
      "epoch_4800 cost: 37.93590295549217  mae: 4.699172272321463\n",
      "epoch_5000 cost: 36.627629684610135  mae: 4.616668544502877\n",
      "epoch_5200 cost: 35.16978604757279  mae: 4.51424500811214\n",
      "epoch_5400 cost: 33.92284906469742  mae: 4.413226535151474\n",
      "epoch_5600 cost: 32.80576241944006  mae: 4.3184270531985085\n",
      "epoch_5800 cost: 31.806741997403957  mae: 4.228293373545821\n",
      "epoch_6000 cost: 30.907101915748587  mae: 4.144564135402313\n",
      "epoch_6200 cost: 30.18046702993341  mae: 4.0733022962453616\n",
      "epoch_6400 cost: 29.55136185913174  mae: 4.0097492082405575\n",
      "epoch_6600 cost: 29.011032541114197  mae: 3.955707044599183\n",
      "epoch_6800 cost: 28.544579049296896  mae: 3.9124579606429286\n",
      "epoch_7000 cost: 28.10216182415287  mae: 3.8754273555902015\n",
      "epoch_7200 cost: 27.68510130946256  mae: 3.840310167974081\n",
      "epoch_7400 cost: 27.31224494811795  mae: 3.8069262041873433\n",
      "epoch_7600 cost: 26.982604933110714  mae: 3.779155203631039\n",
      "epoch_7800 cost: 26.678449382597734  mae: 3.754107049827304\n",
      "epoch_8000 cost: 26.37472847687538  mae: 3.727871119504823\n",
      "epoch_8200 cost: 26.075730337632976  mae: 3.6970263420099827\n",
      "epoch_8400 cost: 25.794257252647032  mae: 3.670084840290656\n",
      "epoch_8600 cost: 25.52885738024768  mae: 3.6522331871563654\n",
      "epoch_8800 cost: 25.26635035971638  mae: 3.6209945880780183\n",
      "epoch_9000 cost: 25.021383628610668  mae: 3.604790045595871\n",
      "epoch_9200 cost: 24.7843644146902  mae: 3.5774658031980513\n",
      "epoch_9400 cost: 24.563083658764366  mae: 3.5641605958645424\n",
      "epoch_9600 cost: 24.347669859075797  mae: 3.535613594896922\n",
      "epoch_9800 cost: 24.1470747268963  mae: 3.5227056854141354\n",
      "epoch_10000 cost: 23.949314124128957  mae: 3.5033040479600586\n"
     ]
    },
    {
     "data": {
      "image/png": "[encoded data removed]",
      "text/plain": [
       "<Figure size 1008x288 with 2 Axes>"
      ]
     },
     "metadata": {
      "needs_background": "light"
     },
     "output_type": "display_data"
    }
   ],
   "source": [
    "parameters, A3, A2 = NN_Build(eta=0.00005,\n",
    "    iterations=10000,\n",
    "    activation='relu',\n",
    "    epsilon=0.01,\n",
    "    kernel_init='he_init',\n",
    "    dims=[13, 30, 10, 1],\n",
    "    lam = 0.9).fit(X,y)"
   ]
  },
  {
   "cell_type": "code",
   "execution_count": 6,
   "metadata": {},
   "outputs": [
    {
     "data": {
      "text/plain": [
       "(10, 506)"
      ]
     },
     "execution_count": 6,
     "metadata": {},
     "output_type": "execute_result"
    }
   ],
   "source": [
    "A2.shape"
   ]
  },
  {
   "cell_type": "code",
   "execution_count": 7,
   "metadata": {},
   "outputs": [
    {
     "data": {
      "text/plain": [
       "(1, 506)"
      ]
     },
     "execution_count": 7,
     "metadata": {},
     "output_type": "execute_result"
    }
   ],
   "source": [
    "A3.shape"
   ]
  },
  {
   "cell_type": "code",
   "execution_count": 8,
   "metadata": {},
   "outputs": [
    {
     "data": {
      "text/plain": [
       "array([[  0.        , 400.1766146 ,   0.        , ...,   0.        ,\n",
       "          0.        ,   0.        ],\n",
       "       [  0.        , 374.74352261,   0.        , ...,   0.        ,\n",
       "          0.        ,   0.        ],\n",
       "       [  0.        , 373.31019351,   0.        , ...,   0.        ,\n",
       "          0.        ,   0.        ],\n",
       "       ...,\n",
       "       [  0.        , 387.02976918,   0.        , ...,   0.        ,\n",
       "          0.        ,   0.        ],\n",
       "       [  0.        , 385.41047859,   0.        , ...,   0.        ,\n",
       "          0.        ,   0.        ],\n",
       "       [  0.        , 390.42847111,   0.        , ...,   0.        ,\n",
       "          0.        ,   0.        ]])"
      ]
     },
     "execution_count": 8,
     "metadata": {},
     "output_type": "execute_result"
    }
   ],
   "source": [
    "A2.T"
   ]
  },
  {
   "cell_type": "code",
   "execution_count": 9,
   "metadata": {},
   "outputs": [
    {
     "data": {
      "text/plain": [
       "(-1.0, 1.0)"
      ]
     },
     "execution_count": 9,
     "metadata": {},
     "output_type": "execute_result"
    },
    {
     "data": {
      "image/png": "[encoded data removed]",
      "text/plain": [
       "<Figure size 432x288 with 1 Axes>"
      ]
     },
     "metadata": {
      "needs_background": "light"
     },
     "output_type": "display_data"
    }
   ],
   "source": [
    "pd.DataFrame(np.hstack([A2.T,y])).corr().fillna(0).iloc[10,:10].plot(kind = 'bar')\n",
    "plt.ylim(-1,1)"
   ]
  },
  {
   "cell_type": "code",
   "execution_count": 10,
   "metadata": {},
   "outputs": [],
   "source": [
    "b = np.array([[3,4],[1,2]])"
   ]
  },
  {
   "cell_type": "code",
   "execution_count": 11,
   "metadata": {},
   "outputs": [
    {
     "data": {
      "text/plain": [
       "array([[ 9, 16],\n",
       "       [ 1,  4]])"
      ]
     },
     "execution_count": 11,
     "metadata": {},
     "output_type": "execute_result"
    }
   ],
   "source": [
    "b ** 2"
   ]
  },
  {
   "cell_type": "code",
   "execution_count": null,
   "metadata": {},
   "outputs": [],
   "source": []
  }
 ],
 "metadata": {
  "kernelspec": {
   "display_name": "Python 3",
   "language": "python",
   "name": "python3"
  },
  "language_info": {
   "codemirror_mode": {
    "name": "ipython",
    "version": 3
   },
   "file_extension": ".py",
   "mimetype": "text/x-python",
   "name": "python",
   "nbconvert_exporter": "python",
   "pygments_lexer": "ipython3",
   "version": "3.8.5"
  }
 },
 "nbformat": 4,
 "nbformat_minor": 4
}
