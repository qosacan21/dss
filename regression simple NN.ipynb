{
 "cells": [
  {
   "cell_type": "code",
   "execution_count": 1,
   "metadata": {},
   "outputs": [],
   "source": [
    "import numpy as np\n",
    "import pandas as pd\n",
    "import matplotlib.pyplot as plt\n",
    "from sklearn.datasets import load_boston"
   ]
  },
  {
   "cell_type": "code",
   "execution_count": 2,
   "metadata": {},
   "outputs": [],
   "source": [
    "X, y = load_boston().data, load_boston().target.reshape(-1,1)"
   ]
  },
  {
   "cell_type": "code",
   "execution_count": 3,
   "metadata": {},
   "outputs": [
    {
     "data": {
      "text/plain": [
       "((506, 13), (506, 1))"
      ]
     },
     "execution_count": 3,
     "metadata": {},
     "output_type": "execute_result"
    }
   ],
   "source": [
    "X.shape, y.shape"
   ]
  },
  {
   "cell_type": "code",
   "execution_count": 106,
   "metadata": {},
   "outputs": [],
   "source": [
    "class regression_nn_simple(object):\n",
    "    def __init__ (self, learning_rate = 0.001, n_iterations = 1000):\n",
    "        self.learning_rate  = learning_rate\n",
    "        self.n_iterations  = n_iterations\n",
    "    \n",
    "    def fit(self, X, y):\n",
    "        w_ = np.random.randn(X.shape[1],1)\n",
    "        #print(f'initial:{w_}')\n",
    "        b_ = 0.0\n",
    "        m_ = len(y)\n",
    "        cost_ = []\n",
    "        mae_ = []\n",
    "        i = 1\n",
    "        while(i<self.n_iterations):\n",
    "            z = np.dot(X,w_) + b_\n",
    "            mae_value = self.mae(y,z, m_)\n",
    "            cost_.append(mae_value)\n",
    "            err = y-z\n",
    "            dw = -(2/m_) * np.dot(X.T, err)\n",
    "            db = -(2/m_) * np.sum(err)\n",
    "            w_ -= self.learning_rate * dw\n",
    "            b_ -= self.learning_rate * db\n",
    "            if i % 100 == 0:\n",
    "                print(f'{i} epoch:: cost: {mae_value}')            \n",
    "            i += 1\n",
    "        history_df = pd.DataFrame(cost_, columns=['cost'])\n",
    "        history_df.plot(figsize = (16,6))\n",
    "        plt.title('Cost function monitoring')\n",
    "        return w_,b_,cost_\n",
    "    \n",
    "    def mae(self, y_true, y_pred, m):\n",
    "        return np.sum(np.abs(y_true -  y_pred))/m\n"
   ]
  },
  {
   "cell_type": "code",
   "execution_count": 107,
   "metadata": {
    "scrolled": false
   },
   "outputs": [
    {
     "name": "stdout",
     "output_type": "stream",
     "text": [
      "100 epoch:: cost: 564.6967171718538\n",
      "200 epoch:: cost: 410.1733554721965\n",
      "300 epoch:: cost: 297.29342475349614\n",
      "400 epoch:: cost: 214.84840607409558\n",
      "500 epoch:: cost: 154.7157458893881\n",
      "600 epoch:: cost: 112.24544439275564\n",
      "700 epoch:: cost: 84.16421159203094\n",
      "800 epoch:: cost: 69.07541379430596\n",
      "900 epoch:: cost: 61.20475009493331\n",
      "1000 epoch:: cost: 56.50344306453649\n",
      "1100 epoch:: cost: 54.091176693176635\n",
      "1200 epoch:: cost: 52.912563147848296\n",
      "1300 epoch:: cost: 52.11058750049984\n",
      "1400 epoch:: cost: 51.34989837981718\n",
      "1500 epoch:: cost: 50.604507844331636\n",
      "1600 epoch:: cost: 49.85549068438631\n",
      "1700 epoch:: cost: 49.11199374106579\n",
      "1800 epoch:: cost: 48.3713547252771\n",
      "1900 epoch:: cost: 47.62796762763136\n",
      "2000 epoch:: cost: 46.88928171684897\n",
      "2100 epoch:: cost: 46.161858661440064\n",
      "2200 epoch:: cost: 45.44510302780363\n",
      "2300 epoch:: cost: 44.73989446232146\n",
      "2400 epoch:: cost: 44.04976785865194\n",
      "2500 epoch:: cost: 43.37916849894547\n",
      "2600 epoch:: cost: 42.723881001258434\n",
      "2700 epoch:: cost: 42.08550428087881\n",
      "2800 epoch:: cost: 41.46025225076949\n",
      "2900 epoch:: cost: 40.848217657719246\n",
      "3000 epoch:: cost: 40.25062223260177\n",
      "3100 epoch:: cost: 39.67055057859219\n",
      "3200 epoch:: cost: 39.10578764767627\n",
      "3300 epoch:: cost: 38.55545134989249\n",
      "3400 epoch:: cost: 38.01810760875301\n",
      "3500 epoch:: cost: 37.49286457511688\n",
      "3600 epoch:: cost: 36.98084445190389\n",
      "3700 epoch:: cost: 36.483532953144625\n",
      "3800 epoch:: cost: 35.99749120161176\n",
      "3900 epoch:: cost: 35.526227536219764\n",
      "4000 epoch:: cost: 35.06875230623502\n",
      "4100 epoch:: cost: 34.62361411721878\n",
      "4200 epoch:: cost: 34.19140851300016\n",
      "4300 epoch:: cost: 33.77078997744292\n",
      "4400 epoch:: cost: 33.35999838729417\n",
      "4500 epoch:: cost: 32.959216480100885\n",
      "4600 epoch:: cost: 32.57200295215984\n",
      "4700 epoch:: cost: 32.1947671123\n",
      "4800 epoch:: cost: 31.826065071268918\n",
      "4900 epoch:: cost: 31.46652524707266\n",
      "5000 epoch:: cost: 31.116070293269026\n",
      "5100 epoch:: cost: 30.77461936154484\n",
      "5200 epoch:: cost: 30.44231365698508\n",
      "5300 epoch:: cost: 30.11948474088772\n",
      "5400 epoch:: cost: 29.806221844398035\n",
      "5500 epoch:: cost: 29.500901462280456\n",
      "5600 epoch:: cost: 29.204242319484756\n",
      "5700 epoch:: cost: 28.914294394510545\n",
      "5800 epoch:: cost: 28.63084822951246\n",
      "5900 epoch:: cost: 28.35476145304105\n",
      "6000 epoch:: cost: 28.08830282394064\n",
      "6100 epoch:: cost: 27.82978242503801\n",
      "6200 epoch:: cost: 27.5784145643869\n",
      "6300 epoch:: cost: 27.33462817699848\n",
      "6400 epoch:: cost: 27.097707483054172\n",
      "6500 epoch:: cost: 26.86780732078534\n",
      "6600 epoch:: cost: 26.644711788995956\n",
      "6700 epoch:: cost: 26.428934569602617\n",
      "6800 epoch:: cost: 26.218468043592015\n",
      "6900 epoch:: cost: 26.014869131124193\n",
      "7000 epoch:: cost: 25.8160148146457\n",
      "7100 epoch:: cost: 25.622833447146917\n",
      "7200 epoch:: cost: 25.437054571333718\n",
      "7300 epoch:: cost: 25.25582536176848\n",
      "7400 epoch:: cost: 25.07927395440156\n",
      "7500 epoch:: cost: 24.9071339917839\n",
      "7600 epoch:: cost: 24.742178330766716\n",
      "7700 epoch:: cost: 24.583324742067195\n",
      "7800 epoch:: cost: 24.428829976064566\n",
      "7900 epoch:: cost: 24.27864898260559\n",
      "8000 epoch:: cost: 24.132283850264272\n",
      "8100 epoch:: cost: 23.989078084082582\n",
      "8200 epoch:: cost: 23.851767768035888\n",
      "8300 epoch:: cost: 23.717875500487466\n",
      "8400 epoch:: cost: 23.58745734125573\n",
      "8500 epoch:: cost: 23.463031088678513\n",
      "8600 epoch:: cost: 23.34454275048367\n",
      "8700 epoch:: cost: 23.230434682973836\n",
      "8800 epoch:: cost: 23.120364712349307\n",
      "8900 epoch:: cost: 23.01396541843809\n",
      "9000 epoch:: cost: 22.91027104745104\n",
      "9100 epoch:: cost: 22.80901134608751\n",
      "9200 epoch:: cost: 22.71134105701274\n",
      "9300 epoch:: cost: 22.615747276649767\n",
      "9400 epoch:: cost: 22.52213656056683\n",
      "9500 epoch:: cost: 22.43046308984019\n",
      "9600 epoch:: cost: 22.34068210827555\n",
      "9700 epoch:: cost: 22.25274989775561\n",
      "9800 epoch:: cost: 22.167522327588618\n",
      "9900 epoch:: cost: 22.084426861329177\n"
     ]
    },
    {
     "data": {
      "image/png": "[encoded data removed]",
      "text/plain": [
       "<Figure size 1152x432 with 1 Axes>"
      ]
     },
     "metadata": {
      "needs_background": "light"
     },
     "output_type": "display_data"
    }
   ],
   "source": [
    "w_,b_, cost = regression_nn_simple(learning_rate= 0.000000005, n_iterations= 10000).fit(X,y)"
   ]
  },
  {
   "cell_type": "code",
   "execution_count": 108,
   "metadata": {},
   "outputs": [
    {
     "data": {
      "text/plain": [
       "array([[-0.55395964],\n",
       "       [ 1.06651772],\n",
       "       [-1.40949999],\n",
       "       [-0.31907317],\n",
       "       [-0.0223888 ],\n",
       "       [-2.81785873],\n",
       "       [-0.08064986],\n",
       "       [ 0.2444956 ],\n",
       "       [ 0.74860451],\n",
       "       [ 0.06343837],\n",
       "       [ 0.61281594],\n",
       "       [-0.01837498],\n",
       "       [ 0.90394545]])"
      ]
     },
     "execution_count": 108,
     "metadata": {},
     "output_type": "execute_result"
    }
   ],
   "source": [
    "w_"
   ]
  },
  {
   "cell_type": "code",
   "execution_count": null,
   "metadata": {},
   "outputs": [],
   "source": []
  }
 ],
 "metadata": {
  "kernelspec": {
   "display_name": "Python 3",
   "language": "python",
   "name": "python3"
  },
  "language_info": {
   "codemirror_mode": {
    "name": "ipython",
    "version": 3
   },
   "file_extension": ".py",
   "mimetype": "text/x-python",
   "name": "python",
   "nbconvert_exporter": "python",
   "pygments_lexer": "ipython3",
   "version": "3.8.3"
  }
 },
 "nbformat": 4,
 "nbformat_minor": 4
}
