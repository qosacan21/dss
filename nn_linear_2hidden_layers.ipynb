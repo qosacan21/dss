{
 "cells": [
  {
   "cell_type": "code",
   "execution_count": 6,
   "metadata": {},
   "outputs": [],
   "source": [
    "import numpy as np\n",
    "import pandas as pd\n",
    "from sklearn.datasets import load_boston\n",
    "import matplotlib.pyplot as plt\n",
    "from datetime import datetime, time"
   ]
  },
  {
   "cell_type": "code",
   "execution_count": 11,
   "metadata": {},
   "outputs": [
    {
     "data": {
      "text/plain": [
       "datetime.datetime(2023, 4, 8, 16, 48, 18, 223246)"
      ]
     },
     "execution_count": 11,
     "metadata": {},
     "output_type": "execute_result"
    }
   ],
   "source": [
    "time1 = datetime.now()\n",
    "time1\n"
   ]
  },
  {
   "cell_type": "code",
   "execution_count": 16,
   "metadata": {},
   "outputs": [],
   "source": [
    "X,y = load_boston().data, load_boston().target.reshape(-1,1)"
   ]
  },
  {
   "cell_type": "code",
   "execution_count": 21,
   "metadata": {},
   "outputs": [],
   "source": [
    "class nn_build(object):\n",
    "    def __init__(self, eta =0.005, iterations = 1000, epsilon = 0.01, layers_dim = [13,30,30,1]):\n",
    "        self.eta = eta\n",
    "        self.iterations = iterations\n",
    "        self.epsilon = epsilon\n",
    "        self.layers = len(layers_dim)\n",
    "        self.layers_dim = layers_dim\n",
    "        \n",
    "    def fit(self,X,y):\n",
    "        X_ = X.T\n",
    "        A0 = X_\n",
    "        y_ = y.T\n",
    "        m_ = len(y)\n",
    "        i = 1 \n",
    "        cost_ = []\n",
    "        parameters = {}\n",
    "        \n",
    "        for l in range(1,self.layers):\n",
    "            parameters['W'+str(l)] = np.random.randn(self.layers_dim[l],self.layers_dim[l-1]) * self.epsilon\n",
    "            parameters['b'+str(l)] = np.zeros((self.layers_dim[l],1))\n",
    "\n",
    "        while(i != self.iterations):\n",
    "            #fp\n",
    "            Z1 =  np.dot(parameters['W1'],A0) + parameters['b1']\n",
    "            A1 =  self.sigmoid(Z1)\n",
    "            Z2 =  np.dot(parameters['W2'],A1) + parameters['b2']\n",
    "            A2 =  self.sigmoid(Z2)\n",
    "            Z3 =  np.dot(parameters['W3'],A2) + parameters['b3']\n",
    "            A3 =  Z3\n",
    "            #cost\n",
    "            cost = self.mae(y_,A3,m_)\n",
    "            #derivatives\n",
    "            dZ3 = A3 - y_\n",
    "            dW3 = (1/m_) * np.dot(dZ3, A2.T)\n",
    "            db3 = (1/m_) * np.sum(dZ3, axis =1 , keepdims= True)\n",
    "            dZ2 = np.dot(parameters['W3'].T,dZ3) * (A2 * (1-A2))\n",
    "            dW2 = (1/m_) * np.dot(dZ2, A1.T)\n",
    "            db2 = (1/m_) * np.sum(dZ2, axis =1 , keepdims= True)\n",
    "            dZ1 = np.dot(parameters['W2'].T,dZ2) * (A1 * (1-A1))\n",
    "            dW1 = (1/m_) * np.dot(dZ1, A0.T)\n",
    "            db1 = (1/m_) * np.sum(dZ1, axis =1 , keepdims= True)\n",
    "            #updates\n",
    "            parameters['W3'] -= self.eta * dW3\n",
    "            parameters['b3'] -= self.eta * db3\n",
    "            parameters['W2'] -= self.eta * dW2\n",
    "            parameters['b2'] -= self.eta * db2\n",
    "            parameters['W1'] -= self.eta * dW1\n",
    "            parameters['b1'] -= self.eta * db1\n",
    "            if i % 100 ==0:\n",
    "                print(f'epoch:{i}: cost:{cost}:')\n",
    "            i += 1\n",
    "        return parameters\n",
    "    \n",
    "    def sigmoid(self,z):\n",
    "        return 1 / (1+ np.exp(-z))\n",
    "    \n",
    "    def mae(self,y_true,y_pred,m_):\n",
    "        return np.sum(np.abs(y_true - y_pred))/m_\n",
    "            "
   ]
  },
  {
   "cell_type": "code",
   "execution_count": 23,
   "metadata": {},
   "outputs": [
    {
     "name": "stdout",
     "output_type": "stream",
     "text": [
      "epoch:100: cost:11.509517679831596:\n",
      "epoch:200: cost:6.509680203298439:\n",
      "epoch:300: cost:5.9935429587468265:\n",
      "epoch:400: cost:5.949493944445378:\n",
      "epoch:500: cost:5.762987472546678:\n",
      "epoch:600: cost:5.933324316399397:\n",
      "epoch:700: cost:5.578784494290316:\n",
      "epoch:800: cost:5.956409094003602:\n",
      "epoch:900: cost:5.474225607430682:\n",
      "epoch:1000: cost:5.95603577526138:\n",
      "epoch:1100: cost:5.339685066727046:\n",
      "epoch:1200: cost:5.252370392788228:\n",
      "epoch:1300: cost:6.069354002656398:\n",
      "epoch:1400: cost:5.426982544535124:\n",
      "epoch:1500: cost:5.1592440050781345:\n",
      "epoch:1600: cost:5.194580843235878:\n",
      "epoch:1700: cost:5.033310210036319:\n",
      "epoch:1800: cost:5.020160683334399:\n",
      "epoch:1900: cost:6.312760015466606:\n",
      "epoch:2000: cost:5.573485742709068:\n",
      "epoch:2100: cost:5.752580925824401:\n",
      "epoch:2200: cost:5.853899974006021:\n",
      "epoch:2300: cost:5.389987623247212:\n",
      "epoch:2400: cost:4.933926483631619:\n",
      "epoch:2500: cost:5.654266616955214:\n",
      "epoch:2600: cost:5.274789048316749:\n",
      "epoch:2700: cost:5.602773489448431:\n",
      "epoch:2800: cost:4.738855053980402:\n",
      "epoch:2900: cost:4.931898614419712:\n",
      "epoch:3000: cost:4.657714472687744:\n",
      "epoch:3100: cost:5.50409190775129:\n",
      "epoch:3200: cost:4.550129214827851:\n",
      "epoch:3300: cost:5.127684186799693:\n",
      "epoch:3400: cost:5.1010339373710725:\n",
      "epoch:3500: cost:4.7200651924322825:\n",
      "epoch:3600: cost:4.947923999965735:\n",
      "epoch:3700: cost:4.622333250691499:\n",
      "epoch:3800: cost:4.591043812160486:\n",
      "epoch:3900: cost:5.061248986018158:\n",
      "epoch:4000: cost:4.91037764272305:\n",
      "epoch:4100: cost:4.870475822531772:\n",
      "epoch:4200: cost:4.726926258445186:\n",
      "epoch:4300: cost:5.102689565853012:\n",
      "epoch:4400: cost:5.101549674393937:\n",
      "epoch:4500: cost:5.5570721410809645:\n",
      "epoch:4600: cost:4.704364653803216:\n",
      "epoch:4700: cost:5.344088586549277:\n",
      "epoch:4800: cost:4.794428897133425:\n",
      "epoch:4900: cost:4.955544174549131:\n",
      "epoch:5000: cost:5.259830818830199:\n",
      "epoch:5100: cost:4.648769508410073:\n",
      "epoch:5200: cost:4.992473131124976:\n",
      "epoch:5300: cost:5.669281865114332:\n",
      "epoch:5400: cost:4.665297804295555:\n",
      "epoch:5500: cost:5.083500012038667:\n",
      "epoch:5600: cost:4.942890065576176:\n",
      "epoch:5700: cost:6.011531158605275:\n",
      "epoch:5800: cost:5.603262550442715:\n",
      "epoch:5900: cost:5.901371814505128:\n",
      "epoch:6000: cost:4.615557672852927:\n",
      "epoch:6100: cost:5.726466080703922:\n",
      "epoch:6200: cost:5.106614306386795:\n",
      "epoch:6300: cost:4.455958913331127:\n",
      "epoch:6400: cost:6.034059819821432:\n",
      "epoch:6500: cost:4.595776620045897:\n",
      "epoch:6600: cost:4.781858692476159:\n",
      "epoch:6700: cost:5.068135238172171:\n",
      "epoch:6800: cost:4.7117911451957815:\n",
      "epoch:6900: cost:4.748204711109521:\n",
      "epoch:7000: cost:4.661923686859764:\n",
      "epoch:7100: cost:4.361869066833891:\n",
      "epoch:7200: cost:4.80353144519043:\n",
      "epoch:7300: cost:5.3144067545160345:\n",
      "epoch:7400: cost:4.833457347264977:\n",
      "epoch:7500: cost:4.825943870922473:\n",
      "epoch:7600: cost:4.726639741387624:\n",
      "epoch:7700: cost:4.691175039854136:\n",
      "epoch:7800: cost:4.542680739553432:\n",
      "epoch:7900: cost:4.762847135680288:\n",
      "epoch:8000: cost:5.1455751395251985:\n",
      "epoch:8100: cost:4.471526580099866:\n",
      "epoch:8200: cost:4.835658574427438:\n",
      "epoch:8300: cost:4.634474224655827:\n",
      "epoch:8400: cost:4.535742669590847:\n",
      "epoch:8500: cost:4.68683924880402:\n",
      "epoch:8600: cost:5.024313420314398:\n",
      "epoch:8700: cost:4.560314738383327:\n",
      "epoch:8800: cost:5.565521569938569:\n",
      "epoch:8900: cost:5.151561373993208:\n",
      "epoch:9000: cost:5.2587017031750865:\n",
      "epoch:9100: cost:5.2423919989869825:\n",
      "epoch:9200: cost:5.2637292747278766:\n",
      "epoch:9300: cost:5.058233007121677:\n",
      "epoch:9400: cost:4.994985403029002:\n",
      "epoch:9500: cost:5.117086413921158:\n",
      "epoch:9600: cost:4.944520708747185:\n",
      "epoch:9700: cost:4.6882088744034025:\n",
      "epoch:9800: cost:4.816953790904641:\n",
      "epoch:9900: cost:5.4860850221622375:\n"
     ]
    }
   ],
   "source": [
    "parameters = nn_build(eta =0.0005, iterations= 10000, epsilon= 0.01,  layers_dim= [13,30,30,1]).fit(X,y)"
   ]
  },
  {
   "cell_type": "code",
   "execution_count": 24,
   "metadata": {},
   "outputs": [
    {
     "data": {
      "text/plain": [
       "datetime.timedelta(seconds=1048, microseconds=959472)"
      ]
     },
     "execution_count": 24,
     "metadata": {},
     "output_type": "execute_result"
    }
   ],
   "source": [
    "time2 = datetime.now()\n",
    "time2 - time1"
   ]
  },
  {
   "cell_type": "code",
   "execution_count": 25,
   "metadata": {},
   "outputs": [
    {
     "data": {
      "text/plain": [
       "17.466666666666665"
      ]
     },
     "execution_count": 25,
     "metadata": {},
     "output_type": "execute_result"
    }
   ],
   "source": [
    "1048 /60"
   ]
  },
  {
   "cell_type": "code",
   "execution_count": null,
   "metadata": {},
   "outputs": [],
   "source": []
  }
 ],
 "metadata": {
  "kernelspec": {
   "display_name": "Python 3",
   "language": "python",
   "name": "python3"
  },
  "language_info": {
   "codemirror_mode": {
    "name": "ipython",
    "version": 3
   },
   "file_extension": ".py",
   "mimetype": "text/x-python",
   "name": "python",
   "nbconvert_exporter": "python",
   "pygments_lexer": "ipython3",
   "version": "3.8.3"
  }
 },
 "nbformat": 4,
 "nbformat_minor": 4
}
