{
 "cells": [
  {
   "cell_type": "code",
   "execution_count": 10,
   "metadata": {},
   "outputs": [],
   "source": [
    "import numpy as np\n",
    "import pandas as pd\n",
    "import matplotlib.pyplot as plt\n",
    "from sklearn.datasets import load_diabetes\n",
    "from datetime import datetime"
   ]
  },
  {
   "cell_type": "code",
   "execution_count": 4,
   "metadata": {},
   "outputs": [],
   "source": [
    "X, y = load_diabetes().data, load_diabetes().target.reshape(-1,1)"
   ]
  },
  {
   "cell_type": "code",
   "execution_count": 5,
   "metadata": {},
   "outputs": [
    {
     "data": {
      "text/plain": [
       "((442, 10), (442, 1))"
      ]
     },
     "execution_count": 5,
     "metadata": {},
     "output_type": "execute_result"
    }
   ],
   "source": [
    "X.shape, y.shape"
   ]
  },
  {
   "cell_type": "code",
   "execution_count": 24,
   "metadata": {},
   "outputs": [],
   "source": [
    "class NN_build(object):\n",
    "    def __init__(self, eta = 0.005, iterations = 1000, epsilon = 0.01, dims = [10,30,30,1]):\n",
    "        self.eta = eta\n",
    "        self.epsilon = epsilon\n",
    "        self.dims = dims\n",
    "        self.layer = len(dims)\n",
    "        self.iterations = iterations\n",
    "        \n",
    "    def fit(self, X,y):\n",
    "        X_ = X.T\n",
    "        y_ = y.T\n",
    "        A0 = X_\n",
    "        i = 1\n",
    "        m_ =len(y)\n",
    "        cost_ = []\n",
    "        parameters = {}\n",
    "        \n",
    "        \n",
    "        for l in range(1, self.layer):\n",
    "            parameters['W'+str(l)] = np.random.randn(self.dims[l], self.dims[l-1]) * self.epsilon\n",
    "            parameters['b'+str(l)] = np.zeros((self.dims[l],1))     \n",
    "        \n",
    "        \n",
    "        while(i != self.iterations):\n",
    "            time1 = datetime.now()\n",
    "            #forward prop\n",
    "            Z1 = np.dot(parameters['W1'],A0) + parameters['b1']\n",
    "            A1 = self.sigmoid(Z1)\n",
    "            Z2 =  np.dot(parameters['W2'],A1) + parameters['b2']\n",
    "            A2 = self.sigmoid(Z2)\n",
    "            Z3 =  np.dot(parameters['W3'],A2) + parameters['b3']\n",
    "            A3 = Z3\n",
    "            #cost\n",
    "            cost = self.cost(y_,A3,m_)\n",
    "            cost_.append(cost)          \n",
    "            #derivatives\n",
    "            dZ3 = A3 - y_\n",
    "            dW3 = (1/m_) * np.dot(dZ3,A2.T)\n",
    "            db3 = (1/m_) * np.sum(dZ3, axis =1 , keepdims=True)\n",
    "            dZ2 = np.dot(parameters['W3'].T, dZ3) * (A2 * (1-A2))\n",
    "            dW2 = (1/m_) * np.dot(dZ2,A1.T)\n",
    "            db2 = (1/m_) * np.sum(dZ2, axis =1 , keepdims=True)\n",
    "            dZ1 = np.dot(parameters['W2'].T, dZ2) * (A1 * (1-A1))\n",
    "            dW1 = (1/m_) * np.dot(dZ1,A0.T)\n",
    "            db1 = (1/m_) * np.sum(dZ1, axis =1 , keepdims=True)         \n",
    "            #updates\n",
    "            parameters['W3'] -= self.eta * dW3\n",
    "            parameters['W2'] -= self.eta * dW2\n",
    "            parameters['W1'] -= self.eta * dW1\n",
    "            parameters['b3'] -= self.eta * db3\n",
    "            parameters['b2'] -= self.eta * db2\n",
    "            parameters['b1'] -= self.eta * db1\n",
    "            #inform\n",
    "            time2 = datetime.now()\n",
    "            time_step = time2 - time1\n",
    "            if i % 200 == 0:\n",
    "                print('epochs_{}::cost:{}::time:{}'.format(i,cost,time_step))\n",
    "            \n",
    "            i += 1\n",
    "        history = pd.DataFrame(cost_ , columns=['cost'])\n",
    "        plt.figure(figsize = (14,4))\n",
    "        plt.subplot(1,1,1)\n",
    "        plt.plot(history.cost)\n",
    "        plt.show()           \n",
    "        \n",
    "        return parameters\n",
    "    \n",
    "    \n",
    "    def cost(self,y_true,y_pred,m_):\n",
    "        return (1/2*m_ ) * np.sum(np.square(y_true - y_pred))\n",
    "    \n",
    "    \n",
    "    def sigmoid(self,z):\n",
    "        return 1 / (1 + np.exp(-z))\n",
    "    \n",
    "\n",
    "        "
   ]
  },
  {
   "cell_type": "code",
   "execution_count": 27,
   "metadata": {},
   "outputs": [
    {
     "name": "stdout",
     "output_type": "stream",
     "text": [
      "epochs_200::cost:580085519.7096593::time:0:00:00.001505\n",
      "epochs_400::cost:579109449.9820828::time:0:00:00.001208\n",
      "epochs_600::cost:579038115.2906289::time:0:00:00.000999\n",
      "epochs_800::cost:578958107.5387619::time:0:00:00.000888\n",
      "epochs_1000::cost:578864548.5988165::time:0:00:00.001010\n",
      "epochs_1200::cost:578750774.3185841::time:0:00:00.000997\n",
      "epochs_1400::cost:578606671.0633941::time:0:00:00.000997\n",
      "epochs_1600::cost:578416034.9357253::time:0:00:00.001994\n",
      "epochs_1800::cost:578151485.2608949::time:0:00:00.001972\n"
     ]
    },
    {
     "data": {
      "image/png": "[encoded data removed]",
      "text/plain": [
       "<Figure size 1008x288 with 1 Axes>"
      ]
     },
     "metadata": {
      "needs_background": "light"
     },
     "output_type": "display_data"
    }
   ],
   "source": [
    "parameters = NN_build(eta = 0.0005, iterations= 2000, epsilon= 0.05, dims= [10,40,40,1]).fit(X,y)"
   ]
  },
  {
   "cell_type": "code",
   "execution_count": null,
   "metadata": {},
   "outputs": [],
   "source": []
  }
 ],
 "metadata": {
  "kernelspec": {
   "display_name": "Python 3",
   "language": "python",
   "name": "python3"
  },
  "language_info": {
   "codemirror_mode": {
    "name": "ipython",
    "version": 3
   },
   "file_extension": ".py",
   "mimetype": "text/x-python",
   "name": "python",
   "nbconvert_exporter": "python",
   "pygments_lexer": "ipython3",
   "version": "3.8.5"
  }
 },
 "nbformat": 4,
 "nbformat_minor": 4
}
