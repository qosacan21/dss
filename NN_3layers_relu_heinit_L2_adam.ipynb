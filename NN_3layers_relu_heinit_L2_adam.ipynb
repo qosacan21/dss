{
 "cells": [
  {
   "cell_type": "code",
   "execution_count": 1,
   "metadata": {},
   "outputs": [],
   "source": [
    "import numpy as np\n",
    "import pandas as pd\n",
    "from sklearn.datasets import load_boston\n",
    "import matplotlib.pyplot as plt"
   ]
  },
  {
   "cell_type": "code",
   "execution_count": 2,
   "metadata": {},
   "outputs": [],
   "source": [
    "X, y = load_boston().data, load_boston().target.reshape(-1,1)"
   ]
  },
  {
   "cell_type": "code",
   "execution_count": 3,
   "metadata": {},
   "outputs": [
    {
     "data": {
      "text/plain": [
       "((506, 13), (506, 1))"
      ]
     },
     "execution_count": 3,
     "metadata": {},
     "output_type": "execute_result"
    }
   ],
   "source": [
    "X.shape, y.shape"
   ]
  },
  {
   "cell_type": "code",
   "execution_count": 15,
   "metadata": {},
   "outputs": [],
   "source": [
    "class NN_Build(object):\n",
    "    def __init__(self, eta = 0.0005, iterations = 1000, activation = \"relu\", epsilon = 0.01, kernel_init = 'he_init', \n",
    "                 dims = [X.shape[1],30,5,1], lam = 0.9, beta = 0.9, beta2 = 0.9, epsilon_beta = 0.0000000001):\n",
    "        self.eta = eta\n",
    "        self.iterations = iterations\n",
    "        self.activation = activation\n",
    "        self.epsilon = epsilon\n",
    "        self.kernel_init = kernel_init\n",
    "        self.dims = dims\n",
    "        self.layer = len(dims)\n",
    "        self.lam = lam\n",
    "        self.beta = beta\n",
    "        self.beta2 = beta2\n",
    "        self.epsilon_beta = epsilon_beta\n",
    "        \n",
    "    def fit(self,X,y):\n",
    "        X_ = X.T\n",
    "        y_ = y.T\n",
    "        A0 = X_\n",
    "        i = 1\n",
    "        m_ = len(y)\n",
    "        parameters = {}\n",
    "        cost_ = []\n",
    "        cost_mae_ = []\n",
    "        sdW3 = 0\n",
    "        sdb3 = 0\n",
    "        sdW2 = 0\n",
    "        sdb2 = 0\n",
    "        sdW1 = 0\n",
    "        sdb1 = 0\n",
    "        vdW3 = 0\n",
    "        vdb3 = 0\n",
    "        vdW2 = 0\n",
    "        vdb2 = 0\n",
    "        vdW1 = 0\n",
    "        vdb1 = 0\n",
    "        \n",
    "        if self.kernel_init == \"he_init\":\n",
    "            for l in range(1,self.layer):\n",
    "                parameters['W'+str(l)] = np.random.randn(self.dims[l],self.dims[l-1])  * np.sqrt(2/self.dims[l-1]) \n",
    "                parameters['b' + str(l)] = np.zeros((self.dims[l],1)) \n",
    "            print('kernel_init is he_init')\n",
    "        else:\n",
    "            for l in range(1,self.layer):\n",
    "                parameters['W'+str(l)] = np.random.randn(self.dims[l],self.dims[l-1])  * self.epsilon\n",
    "                parameters['b' + str(l)] = np.zeros((self.dims[l],1)) \n",
    "            print('kernel_init is random nd')\n",
    "        \n",
    "        while(i !=self.iterations+1):\n",
    "            #forward prop\n",
    "            Z1 = np.dot(parameters['W1'],A0) + parameters['b1']\n",
    "            if self.activation == \"relu\":\n",
    "                A1 = self.relu(Z1)\n",
    "            else:\n",
    "                A1 = self.sigmoid(Z1)\n",
    "            Z2= np.dot(parameters['W2'],A1) + parameters['b2']\n",
    "            if self.activation == \"relu\":\n",
    "                A2 = self.relu(Z2)\n",
    "            else:\n",
    "                A2 = self.sigmoid(Z2)\n",
    "            Z3 = np.dot(parameters['W3'],A2) + parameters['b3']\n",
    "            A3 = Z3            \n",
    "            #cost\n",
    "            l2_reg = (self.lam/(2*m_)) * (np.sum(np.square(parameters['W1']))+np.sum(np.square(parameters['W2']))+np.sum(np.square(parameters['W3'])))\n",
    "            cost = self.MSE(y_true = y_, y_pred = A3 , n = m_) + l2_reg\n",
    "            cost_.append(cost)\n",
    "            cost_mae = self.MAE(y_true = y_, y_pred = A3 , n = m_) + l2_reg\n",
    "            cost_mae_.append(cost_mae)           \n",
    "            #derivative\n",
    "            dZ3 = A3 - y_\n",
    "            dW3 = (1/m_) * np.dot(dZ3,A2.T) + (self.lam/m_) * parameters['W3']\n",
    "            db3 = (1/m_) * np.sum(dZ3, axis = 1, keepdims= True)\n",
    "            if self.activation == 'relu':\n",
    "                dZ2 = np.dot(parameters['W3'].T,dZ3) * (np.where(A2>=0,1,0))\n",
    "            else:\n",
    "                dZ2 = np.dot(parameters['W3'].T,dZ3) * (A2 * (1-A2))\n",
    "            dW2 = (1/m_) * np.dot(dZ2,A1.T) + (self.lam/m_) * parameters['W2']\n",
    "            db2 = (1/m_) * np.sum(dZ2, axis = 1, keepdims= True)\n",
    "            if self.activation == 'relu':\n",
    "                dZ1 = np.dot(parameters['W2'].T,dZ2) * (np.where(A1>=0,1,0))\n",
    "            else:\n",
    "                dZ1 = np.dot(parameters['W2'].T,dZ2) * (A1 * (1-A1))\n",
    "            dW1 = (1/m_) * np.dot(dZ1,A0.T) + (self.lam/m_) * parameters['W1']\n",
    "            db1 = (1/m_) * np.sum(dZ1, axis = 1, keepdims= True)\n",
    "            #vdwb momentum  \n",
    "            vdW3 = self.beta2 * vdW3 + (1- self.beta2) * dW3 \n",
    "            vdb3 = self.beta2 * vdb3 + (1- self.beta2) * db3 \n",
    "            vdW2 = self.beta2 * vdW2 + (1- self.beta2) * dW2 \n",
    "            vdb2 = self.beta2 * vdb2 + (1- self.beta2) * db2\n",
    "            vdW1 = self.beta2 * vdW1 + (1- self.beta2) * dW1 \n",
    "            vdb1 = self.beta2 * vdb1 + (1- self.beta2) * db1 \n",
    "            #vdwb correction\n",
    "            vdW3 = vdW3 / (1 - self.beta2 **i)\n",
    "            vdW2 = vdW2 / (1 - self.beta2 **i)\n",
    "            vdW1 = vdW1 / (1 - self.beta2 **i)\n",
    "            vdb3 = vdb3 / (1 - self.beta2 **i)\n",
    "            vdb2 = vdb2 / (1 - self.beta2 **i)\n",
    "            vdb1 = vdb1 / (1 - self.beta2 **i)\n",
    "            #sdwb rmsprop\n",
    "            sdW3 = self.beta * sdW3 + (1- self.beta) * dW3 **2\n",
    "            sdb3 = self.beta * sdb3 + (1- self.beta) * db3 **2\n",
    "            sdW2 = self.beta * sdW2 + (1- self.beta) * dW2 **2\n",
    "            sdb2 = self.beta * sdb2 + (1- self.beta) * db2 **2\n",
    "            sdW1 = self.beta * sdW1 + (1- self.beta) * dW1 **2\n",
    "            sdb1 = self.beta * sdb1 + (1- self.beta) * db1 **2\n",
    "            #sdwb correction\n",
    "            sdW3 = sdW3 / (1 - self.beta2 **i)\n",
    "            sdW2 = sdW2 / (1 - self.beta2 **i)\n",
    "            sdW1 = sdW1 / (1 - self.beta2 **i)\n",
    "            sdb3 = sdb3 / (1 - self.beta2 **i)\n",
    "            sdb2 = sdb2 / (1 - self.beta2 **i)\n",
    "            sdb1 = sdb1 / (1 - self.beta2 **i)            \n",
    "            #update\n",
    "            parameters['W3'] -= self.eta * vdW3 / np.sqrt(sdW3 + self.epsilon_beta)\n",
    "            parameters['W2'] -= self.eta * vdW2 / np.sqrt(sdW2+ self.epsilon_beta)\n",
    "            parameters['W1'] -= self.eta * vdW1 / np.sqrt(sdW1+ self.epsilon_beta)\n",
    "            parameters['b3'] -= self.eta * vdb3 / np.sqrt(sdb3+ self.epsilon_beta)\n",
    "            parameters['b2'] -= self.eta * vdb2 / np.sqrt(sdb2+ self.epsilon_beta)\n",
    "            parameters['b1'] -= self.eta * vdb1 / np.sqrt(sdb1+ self.epsilon_beta)\n",
    "            #inform\n",
    "            if i % 200 == 0:\n",
    "                print('epoch_{} cost: {}  mae: {}'.format(i,cost,cost_mae))\n",
    "            \n",
    "            i += 1\n",
    "            \n",
    "        history = pd.DataFrame(cost_, columns = ['cost'])\n",
    "        history['mae'] = cost_mae_\n",
    "        plt.figure(figsize = (14,4))\n",
    "        plt.subplot(1,2,1)\n",
    "        plt.plot(history.cost)\n",
    "        plt.subplot(1,2,2)\n",
    "        plt.plot(history.mae)\n",
    "        return parameters,A3,A2\n",
    "    \n",
    "    def sigmoid(self,z):\n",
    "        return 1 / (1+ np.exp(-z))\n",
    "    \n",
    "    def relu(self,z):\n",
    "        return np.where(z>=0,z,0)\n",
    "    \n",
    "    def MSE(self,y_true,y_pred,n):\n",
    "        return (1/n) * np.sum(np.square(y_true-y_pred))\n",
    "    \n",
    "    def MAE(self,y_true,y_pred,n):\n",
    "        return (1/n) * np.sum(np.abs(y_true-y_pred))\n",
    "        \n",
    "        "
   ]
  },
  {
   "cell_type": "code",
   "execution_count": 16,
   "metadata": {},
   "outputs": [
    {
     "name": "stdout",
     "output_type": "stream",
     "text": [
      "kernel_init is he_init\n",
      "epoch_200 cost: 79127.92344694385  mae: 265.9999445288855\n",
      "epoch_400 cost: 56972.2023277716  mae: 222.314029440731\n",
      "epoch_600 cost: 39721.15259722163  mae: 180.44964595529612\n",
      "epoch_800 cost: 26287.254193734578  mae: 139.16923659641694\n",
      "epoch_1000 cost: 16081.292579423087  mae: 102.20054178501111\n",
      "epoch_1200 cost: 9765.533781604496  mae: 77.67460478634464\n",
      "epoch_1400 cost: 7090.3808238393285  mae: 73.12244041849262\n",
      "epoch_1600 cost: 5022.565172814401  mae: 62.073308238839765\n",
      "epoch_1800 cost: 3353.4807669794395  mae: 50.65011700962618\n",
      "epoch_2000 cost: 2124.8078971101268  mae: 40.12909852799985\n",
      "epoch_2200 cost: 1273.3205710087746  mae: 30.38782103243553\n",
      "epoch_2400 cost: 730.3650490232766  mae: 22.405401846740176\n",
      "epoch_2600 cost: 419.8851102329525  mae: 16.871575981194454\n",
      "epoch_2800 cost: 284.3865129343433  mae: 13.304088747830196\n",
      "epoch_3000 cost: 202.0278130170502  mae: 10.913124093201873\n",
      "epoch_3200 cost: 146.48565673731147  mae: 8.864684664807493\n",
      "epoch_3400 cost: 113.73701074338551  mae: 7.642007388279417\n",
      "epoch_3600 cost: 94.00189063644068  mae: 6.890991738107942\n",
      "epoch_3800 cost: 83.35253941749491  mae: 6.492092999441672\n",
      "epoch_4000 cost: 76.43578483831554  mae: 6.25307663755541\n",
      "epoch_4200 cost: 73.0672798475045  mae: 6.25204007907842\n",
      "epoch_4400 cost: 71.20690221871303  mae: 6.254400833509918\n",
      "epoch_4600 cost: 67.16733246831468  mae: 6.066315758550442\n",
      "epoch_4800 cost: 62.176496162851144  mae: 5.838714507470938\n",
      "epoch_5000 cost: 58.10101524571131  mae: 5.658551048893584\n",
      "epoch_5200 cost: 54.80632129755413  mae: 5.506228678545887\n",
      "epoch_5400 cost: 51.6707693713034  mae: 5.322383964061266\n",
      "epoch_5600 cost: 47.9156223827976  mae: 5.105795558976365\n",
      "epoch_5800 cost: 43.89830310619884  mae: 4.874053749729355\n",
      "epoch_6000 cost: 40.315512427154765  mae: 4.651734961860092\n",
      "epoch_6200 cost: 37.18022070790102  mae: 4.474502832777503\n",
      "epoch_6400 cost: 34.85198766776056  mae: 4.344553210589805\n",
      "epoch_6600 cost: 33.54853835440066  mae: 4.265487466462276\n",
      "epoch_6800 cost: 32.673799199835265  mae: 4.213016342530721\n",
      "epoch_7000 cost: 32.004090160410605  mae: 4.167586602242032\n",
      "epoch_7200 cost: 31.446293977889166  mae: 4.128844021155887\n",
      "epoch_7400 cost: 30.975359566547542  mae: 4.093305186190774\n",
      "epoch_7600 cost: 30.59115110268723  mae: 4.065831938671123\n",
      "epoch_7800 cost: 30.29045595379525  mae: 4.049630002285944\n",
      "epoch_8000 cost: 30.021376073856835  mae: 4.02811405223453\n",
      "epoch_8200 cost: 29.75021988963352  mae: 4.011771036581401\n",
      "epoch_8400 cost: 29.477209554541833  mae: 3.9869414013711792\n",
      "epoch_8600 cost: 29.22082713145284  mae: 3.97033014122061\n",
      "epoch_8800 cost: 28.999377785673083  mae: 3.9510511988009784\n",
      "epoch_9000 cost: 28.787518149388966  mae: 3.9381088680571645\n",
      "epoch_9200 cost: 28.562555509890487  mae: 3.9258560811515375\n",
      "epoch_9400 cost: 28.329472087823113  mae: 3.911000685935239\n",
      "epoch_9600 cost: 28.092241111778158  mae: 3.8945925506149313\n",
      "epoch_9800 cost: 27.850478772124948  mae: 3.877987539753361\n",
      "epoch_10000 cost: 27.60449550348771  mae: 3.8611806815821157\n"
     ]
    },
    {
     "data": {
      "image/png": "[encoded data removed]",
      "text/plain": [
       "<Figure size 1008x288 with 2 Axes>"
      ]
     },
     "metadata": {
      "needs_background": "light"
     },
     "output_type": "display_data"
    }
   ],
   "source": [
    "parameters, A3, A2 = NN_Build(eta=0.00005,\n",
    "    iterations=10000,\n",
    "    activation='relu',\n",
    "    epsilon=0.01,\n",
    "    kernel_init='he_init',\n",
    "    dims=[13, 30, 10, 1],\n",
    "    lam = 0.9).fit(X,y)"
   ]
  },
  {
   "cell_type": "code",
   "execution_count": 6,
   "metadata": {},
   "outputs": [
    {
     "data": {
      "text/plain": [
       "(10, 506)"
      ]
     },
     "execution_count": 6,
     "metadata": {},
     "output_type": "execute_result"
    }
   ],
   "source": [
    "A2.shape"
   ]
  },
  {
   "cell_type": "code",
   "execution_count": 7,
   "metadata": {},
   "outputs": [
    {
     "data": {
      "text/plain": [
       "(1, 506)"
      ]
     },
     "execution_count": 7,
     "metadata": {},
     "output_type": "execute_result"
    }
   ],
   "source": [
    "A3.shape"
   ]
  },
  {
   "cell_type": "code",
   "execution_count": 8,
   "metadata": {},
   "outputs": [
    {
     "data": {
      "text/plain": [
       "array([[294.64027854,   0.        , 102.51610299, ...,  48.8908941 ,\n",
       "          0.        ,  99.46518763],\n",
       "       [262.57160398,   0.        , 101.75612601, ...,  15.48614448,\n",
       "          0.        , 109.22114817],\n",
       "       [262.87398054,   0.        ,  94.64373152, ...,  18.1152225 ,\n",
       "          0.        ,  98.02365071],\n",
       "       ...,\n",
       "       [285.22999686,   0.        , 106.87621323, ...,  28.71380657,\n",
       "          0.        , 118.53939908],\n",
       "       [283.31421993,   0.        , 106.5610201 , ...,  31.02121129,\n",
       "          0.        , 116.35262761],\n",
       "       [283.25085287,   0.        , 106.91598078, ...,  33.1294509 ,\n",
       "          0.        , 110.86569887]])"
      ]
     },
     "execution_count": 8,
     "metadata": {},
     "output_type": "execute_result"
    }
   ],
   "source": [
    "A2.T"
   ]
  },
  {
   "cell_type": "code",
   "execution_count": 9,
   "metadata": {},
   "outputs": [
    {
     "data": {
      "text/plain": [
       "(-1.0, 1.0)"
      ]
     },
     "execution_count": 9,
     "metadata": {},
     "output_type": "execute_result"
    },
    {
     "data": {
      "image/png": "[encoded data removed]",
      "text/plain": [
       "<Figure size 432x288 with 1 Axes>"
      ]
     },
     "metadata": {
      "needs_background": "light"
     },
     "output_type": "display_data"
    }
   ],
   "source": [
    "pd.DataFrame(np.hstack([A2.T,y])).corr().fillna(0).iloc[10,:10].plot(kind = 'bar')\n",
    "plt.ylim(-1,1)"
   ]
  },
  {
   "cell_type": "code",
   "execution_count": 10,
   "metadata": {},
   "outputs": [],
   "source": [
    "b = np.array([[3,4],[1,2]])"
   ]
  },
  {
   "cell_type": "code",
   "execution_count": 11,
   "metadata": {},
   "outputs": [
    {
     "data": {
      "text/plain": [
       "array([[ 9, 16],\n",
       "       [ 1,  4]])"
      ]
     },
     "execution_count": 11,
     "metadata": {},
     "output_type": "execute_result"
    }
   ],
   "source": [
    "b ** 2"
   ]
  },
  {
   "cell_type": "code",
   "execution_count": null,
   "metadata": {},
   "outputs": [],
   "source": []
  }
 ],
 "metadata": {
  "kernelspec": {
   "display_name": "Python 3",
   "language": "python",
   "name": "python3"
  },
  "language_info": {
   "codemirror_mode": {
    "name": "ipython",
    "version": 3
   },
   "file_extension": ".py",
   "mimetype": "text/x-python",
   "name": "python",
   "nbconvert_exporter": "python",
   "pygments_lexer": "ipython3",
   "version": "3.8.5"
  }
 },
 "nbformat": 4,
 "nbformat_minor": 4
}
