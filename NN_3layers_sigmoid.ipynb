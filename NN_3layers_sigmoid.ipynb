{
 "cells": [
  {
   "cell_type": "code",
   "execution_count": 5,
   "metadata": {},
   "outputs": [
    {
     "name": "stderr",
     "output_type": "stream",
     "text": [
      "<frozen importlib._bootstrap>:219: RuntimeWarning: numpy.ufunc size changed, may indicate binary incompatibility. Expected 192 from C header, got 232 from PyObject\n"
     ]
    }
   ],
   "source": [
    "import numpy as np\n",
    "import pandas as pd\n",
    "import matplotlib.pyplot as plt\n",
    "from sklearn.datasets import load_breast_cancer"
   ]
  },
  {
   "cell_type": "code",
   "execution_count": 2,
   "metadata": {},
   "outputs": [],
   "source": [
    "X, y= load_breast_cancer().data, load_breast_cancer().target.reshape(-1,1)"
   ]
  },
  {
   "cell_type": "code",
   "execution_count": 3,
   "metadata": {},
   "outputs": [
    {
     "data": {
      "text/plain": [
       "((569, 30), (569, 1))"
      ]
     },
     "execution_count": 3,
     "metadata": {},
     "output_type": "execute_result"
    }
   ],
   "source": [
    "X.shape, y.shape"
   ]
  },
  {
   "cell_type": "code",
   "execution_count": 22,
   "metadata": {},
   "outputs": [],
   "source": [
    "class NN_Build(object):\n",
    "    def __init__(self, eta = 0.005, iterations = 1000, epsilon = 0.01, dims = [X.shape[1],50,50,1]):\n",
    "        self.eta = eta\n",
    "        self.iterations =  iterations\n",
    "        self.epsilon = epsilon\n",
    "        self.dims = dims\n",
    "        self.Layers = len(dims)\n",
    "        \n",
    "    def fit(self,X,y):\n",
    "        m_ = len(y)\n",
    "        y_ = y.T\n",
    "        X_ = X.T\n",
    "        A0 = X_\n",
    "        cost_ =[]\n",
    "        acc_ = []\n",
    "        i = 1\n",
    "        parameters = {}\n",
    "        \n",
    "        for l in range(1,self.Layers):\n",
    "            parameters['W'+str(l)] = np.random.randn(self.dims[l],self.dims[l-1]) * self.epsilon\n",
    "            parameters['b'+str(l)] = np.zeros((self.dims[l],1))\n",
    "        \n",
    "        while(i != self.iterations):\n",
    "            #fwrd prp\n",
    "            Z1 = np.dot(parameters['W1'],A0) + parameters['b1']\n",
    "            A1 = self.sigmoid(Z1)\n",
    "            Z2 = np.dot(parameters['W2'],A1) + parameters['b2']\n",
    "            A2 = self.sigmoid(Z2)\n",
    "            Z3 = np.dot(parameters['W3'],A2) + parameters['b3']\n",
    "            A3 = self.sigmoid(Z3)\n",
    "            #cost\n",
    "            cost = self.cost(m_,A3,y_)\n",
    "            cost_.append(cost)\n",
    "            acc = self.acc(y_,np.where(A3>0.5,1,0),m_)\n",
    "            acc_.append(acc)\n",
    "            #derivatives\n",
    "            dZ3 = A3 - y_\n",
    "            dW3 = (1/m_) *np.dot(dZ3, A2.T)\n",
    "            db3 = (1/m_) * np.sum(dZ3, axis= 1, keepdims= True)\n",
    "            dZ2 = np.dot(parameters['W3'].T,dZ3) * (A2 * (1-A2))\n",
    "            dW2 = (1/m_) *np.dot(dZ2, A1.T)\n",
    "            db2 = (1/m_) * np.sum(dZ2, axis= 1, keepdims= True)\n",
    "            dZ1 = np.dot(parameters['W2'].T,dZ2) * (A1 * (1-A1))\n",
    "            dW1 = (1/m_) *np.dot(dZ1, A0.T)\n",
    "            db1 = (1/m_) * np.sum(dZ1, axis= 1, keepdims= True)\n",
    "            #backprog\n",
    "            parameters['W3'] -= self.eta * dW3\n",
    "            parameters['W2'] -= self.eta * dW2\n",
    "            parameters['W1'] -= self.eta * dW1\n",
    "            parameters['b3'] -= self.eta * db3\n",
    "            parameters['b2'] -= self.eta * db2\n",
    "            parameters['b1'] -= self.eta * db1   \n",
    "            if i % 100 == 0:\n",
    "                print(f'epoch:{i}::cost:{cost}::acc:{acc}')\n",
    "            i += 1\n",
    "        plt.figure(figsize = (16,7))\n",
    "        history = pd.DataFrame(cost_, columns=['cost'])\n",
    "        history['acc'] = acc_\n",
    "        plt.subplot(1,2,1)\n",
    "        plt.plot(history.acc)\n",
    "        plt.ylim(0,1)\n",
    "        plt.subplot(1,2,2)\n",
    "        plt.plot(history.cost)\n",
    "        plt.show()      \n",
    "        \n",
    "        return parameters\n",
    "    \n",
    "    def sigmoid(self,z):\n",
    "        return 1 / (1 + np.exp(-z))\n",
    "    \n",
    "    def cost(self,m_,A3,y_):\n",
    "        return -(1/m_) * np.sum( y_ * np.log(A3) + (1-y_) * np.log(1-A3))\n",
    "    \n",
    "    \n",
    "    def acc(self,y_true,y_pred,m_):\n",
    "        return np.sum(y_true == y_pred)/ m_"
   ]
  },
  {
   "cell_type": "code",
   "execution_count": 25,
   "metadata": {
    "scrolled": true
   },
   "outputs": [
    {
     "name": "stdout",
     "output_type": "stream",
     "text": [
      "epoch:100::cost:0.6599643441937793::acc:0.6274165202108963\n",
      "epoch:200::cost:0.6591478768746379::acc:0.6274165202108963\n",
      "epoch:300::cost:0.6577174085798826::acc:0.6274165202108963\n",
      "epoch:400::cost:0.6545218741537087::acc:0.6274165202108963\n",
      "epoch:500::cost:0.6457850598654898::acc:0.6274165202108963\n",
      "epoch:600::cost:0.6242565542532095::acc:0.6274165202108963\n",
      "epoch:700::cost:0.5730178625304106::acc:0.6274165202108963\n",
      "epoch:800::cost:0.4727882745800796::acc:0.820738137082601\n",
      "epoch:900::cost:0.41234706421211875::acc:0.8998242530755711\n"
     ]
    },
    {
     "name": "stderr",
     "output_type": "stream",
     "text": [
      "<ipython-input-22-456f9d378c4d>:69: RuntimeWarning: overflow encountered in exp\n",
      "  return 1 / (1 + np.exp(-z))\n"
     ]
    },
    {
     "name": "stdout",
     "output_type": "stream",
     "text": [
      "epoch:1000::cost:0.534675022200652::acc:0.6977152899824253\n",
      "epoch:1100::cost:0.334493809923948::acc:0.9033391915641477\n",
      "epoch:1200::cost:0.34116647342641476::acc:0.8857644991212654\n",
      "epoch:1300::cost:0.2998756838306021::acc:0.9033391915641477\n",
      "epoch:1400::cost:0.3446247693171207::acc:0.875219683655536\n",
      "epoch:1500::cost:0.30059752797421535::acc:0.8857644991212654\n",
      "epoch:1600::cost:0.29494626367768273::acc:0.8963093145869947\n",
      "epoch:1700::cost:0.30343786907627207::acc:0.9121265377855887\n",
      "epoch:1800::cost:0.3447304183339778::acc:0.9121265377855887\n",
      "epoch:1900::cost:0.33117675125203205::acc:0.9068541300527241\n",
      "epoch:2000::cost:0.3391522174599336::acc:0.9068541300527241\n",
      "epoch:2100::cost:0.3889142143410674::acc:0.9086115992970123\n",
      "epoch:2200::cost:0.33083022934437145::acc:0.9156414762741653\n",
      "epoch:2300::cost:0.4777484923559088::acc:0.8014059753954306\n",
      "epoch:2400::cost:0.6805800835532694::acc:0.6660808435852372\n",
      "epoch:2500::cost:0.30805503823810165::acc:0.9173989455184535\n",
      "epoch:2600::cost:0.34551145490499413::acc:0.8295254833040422\n",
      "epoch:2700::cost:0.3610842281598493::acc:0.8998242530755711\n",
      "epoch:2800::cost:0.3205005747661205::acc:0.9156414762741653\n",
      "epoch:2900::cost:0.31576747289044815::acc:0.9103690685413005\n",
      "epoch:3000::cost:0.48341280454461755::acc:0.8224956063268892\n",
      "epoch:3100::cost:0.31223969618816827::acc:0.9103690685413005\n",
      "epoch:3200::cost:0.3095363558194821::acc:0.9068541300527241\n",
      "epoch:3300::cost:0.3018830755419318::acc:0.9156414762741653\n",
      "epoch:3400::cost:0.3043014344645935::acc:0.9103690685413005\n",
      "epoch:3500::cost:0.2906586102918764::acc:0.9173989455184535\n",
      "epoch:3600::cost:0.3734350324437261::acc:0.8664323374340949\n",
      "epoch:3700::cost:0.4128175990586648::acc:0.8558875219683656\n",
      "epoch:3800::cost:0.30778256817859806::acc:0.9138840070298769\n",
      "epoch:3900::cost:0.3761755928755383::acc:0.8664323374340949\n",
      "epoch:4000::cost:0.3693040919931737::acc:0.8664323374340949\n",
      "epoch:4100::cost:0.32432954923130447::acc:0.9103690685413005\n",
      "epoch:4200::cost:0.29339691977336113::acc:0.9138840070298769\n",
      "epoch:4300::cost:0.2900699388161906::acc:0.9173989455184535\n",
      "epoch:4400::cost:0.2791692625158188::acc:0.9209138840070299\n",
      "epoch:4500::cost:0.3365948961470932::acc:0.8892794376098418\n",
      "epoch:4600::cost:0.31129521855821296::acc:0.9033391915641477\n",
      "epoch:4700::cost:0.3500657789801673::acc:0.8875219683655536\n",
      "epoch:4800::cost:0.28447278761531536::acc:0.9209138840070299\n",
      "epoch:4900::cost:0.28569689885048183::acc:0.9156414762741653\n",
      "epoch:5000::cost:0.2907972454891359::acc:0.9156414762741653\n",
      "epoch:5100::cost:0.30874762100867825::acc:0.9033391915641477\n",
      "epoch:5200::cost:0.29996565322193014::acc:0.9050966608084359\n",
      "epoch:5300::cost:0.2984567868277308::acc:0.9050966608084359\n",
      "epoch:5400::cost:0.29731535271599535::acc:0.9050966608084359\n",
      "epoch:5500::cost:0.2963903185979403::acc:0.9050966608084359\n",
      "epoch:5600::cost:0.2956569374374044::acc:0.9050966608084359\n",
      "epoch:5700::cost:0.2950682163607304::acc:0.9050966608084359\n",
      "epoch:5800::cost:0.29459072267811215::acc:0.9050966608084359\n",
      "epoch:5900::cost:0.2941999005546874::acc:0.9050966608084359\n",
      "epoch:6000::cost:0.29387741366707754::acc:0.9050966608084359\n",
      "epoch:6100::cost:0.29360937580480767::acc:0.9050966608084359\n",
      "epoch:6200::cost:0.29338513693935303::acc:0.9050966608084359\n",
      "epoch:6300::cost:0.29319643443863186::acc:0.9050966608084359\n",
      "epoch:6400::cost:0.29303678999290217::acc:0.9050966608084359\n",
      "epoch:6500::cost:0.2929010748203216::acc:0.9050966608084359\n",
      "epoch:6600::cost:0.29278519184375534::acc:0.9050966608084359\n",
      "epoch:6700::cost:0.29268584011141124::acc:0.9050966608084359\n",
      "epoch:6800::cost:0.29260033716139777::acc:0.9050966608084359\n",
      "epoch:6900::cost:0.29252648048812796::acc:0.9050966608084359\n",
      "epoch:7000::cost:0.29246242542267487::acc:0.9050966608084359\n",
      "epoch:7100::cost:0.2924064872058279::acc:0.9050966608084359\n",
      "epoch:7200::cost:0.2923522358475621::acc:0.9050966608084359\n",
      "epoch:7300::cost:0.2923119792203549::acc:0.9050966608084359\n",
      "epoch:7400::cost:0.2921815707517674::acc:0.9050966608084359\n",
      "epoch:7500::cost:0.2921285138735939::acc:0.9050966608084359\n",
      "epoch:7600::cost:0.29223861218943753::acc:0.9050966608084359\n",
      "epoch:7700::cost:0.2922028594905879::acc:0.9050966608084359\n",
      "epoch:7800::cost:0.29217933347671404::acc:0.9050966608084359\n",
      "epoch:7900::cost:0.29215902266811655::acc:0.9050966608084359\n",
      "epoch:8000::cost:0.2921412080923606::acc:0.9050966608084359\n",
      "epoch:8100::cost:0.2921255034041683::acc:0.9050966608084359\n",
      "epoch:8200::cost:0.29211162108781247::acc:0.9050966608084359\n",
      "epoch:8300::cost:0.29209932650216625::acc:0.9050966608084359\n",
      "epoch:8400::cost:0.29208842166742016::acc:0.9050966608084359\n",
      "epoch:8500::cost:0.29207873701520476::acc:0.9050966608084359\n",
      "epoch:8600::cost:0.29207012612747724::acc:0.9050966608084359\n",
      "epoch:8700::cost:0.29206246192527824::acc:0.9050966608084359\n",
      "epoch:8800::cost:0.2920556337097282::acc:0.9050966608084359\n",
      "epoch:8900::cost:0.2920495447749157::acc:0.9050966608084359\n",
      "epoch:9000::cost:0.29204411043864287::acc:0.9050966608084359\n",
      "epoch:9100::cost:0.2920392563950807::acc:0.9050966608084359\n",
      "epoch:9200::cost:0.292034917323742::acc:0.9050966608084359\n",
      "epoch:9300::cost:0.2920310357069031::acc:0.9050966608084359\n",
      "epoch:9400::cost:0.2920275608189411::acc:0.9050966608084359\n",
      "epoch:9500::cost:0.2920244478588303::acc:0.9050966608084359\n",
      "epoch:9600::cost:0.292021657202659::acc:0.9050966608084359\n",
      "epoch:9700::cost:0.29201915375722587::acc:0.9050966608084359\n",
      "epoch:9800::cost:0.2920169063989798::acc:0.9050966608084359\n",
      "epoch:9900::cost:0.2920148874850095::acc:0.9050966608084359\n"
     ]
    },
    {
     "data": {
      "image/png": "[encoded data removed]",
      "text/plain": [
       "<Figure size 1152x504 with 2 Axes>"
      ]
     },
     "metadata": {
      "needs_background": "light"
     },
     "output_type": "display_data"
    }
   ],
   "source": [
    "parameters = NN_Build(eta = 0.05, iterations= 10000, epsilon= 0.01).fit(X,y)"
   ]
  },
  {
   "cell_type": "code",
   "execution_count": null,
   "metadata": {},
   "outputs": [],
   "source": []
  }
 ],
 "metadata": {
  "kernelspec": {
   "display_name": "Python 3",
   "language": "python",
   "name": "python3"
  },
  "language_info": {
   "codemirror_mode": {
    "name": "ipython",
    "version": 3
   },
   "file_extension": ".py",
   "mimetype": "text/x-python",
   "name": "python",
   "nbconvert_exporter": "python",
   "pygments_lexer": "ipython3",
   "version": "3.8.3"
  }
 },
 "nbformat": 4,
 "nbformat_minor": 4
}
