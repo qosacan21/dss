{
 "cells": [
  {
   "cell_type": "code",
   "execution_count": 1,
   "metadata": {},
   "outputs": [
    {
     "name": "stderr",
     "output_type": "stream",
     "text": [
      "<frozen importlib._bootstrap>:219: RuntimeWarning: numpy.ufunc size changed, may indicate binary incompatibility. Expected 192 from C header, got 232 from PyObject\n"
     ]
    }
   ],
   "source": [
    "import numpy as np\n",
    "import pandas as pd\n",
    "import matplotlib.pyplot as plt\n",
    "from sklearn.datasets import load_breast_cancer"
   ]
  },
  {
   "cell_type": "code",
   "execution_count": 2,
   "metadata": {},
   "outputs": [],
   "source": [
    "X, y  = load_breast_cancer().data, load_breast_cancer().target.reshape(-1,1)"
   ]
  },
  {
   "cell_type": "code",
   "execution_count": 3,
   "metadata": {},
   "outputs": [
    {
     "data": {
      "text/plain": [
       "((569, 30), (569, 1))"
      ]
     },
     "execution_count": 3,
     "metadata": {},
     "output_type": "execute_result"
    }
   ],
   "source": [
    "X.shape, y.shape"
   ]
  },
  {
   "cell_type": "code",
   "execution_count": 14,
   "metadata": {},
   "outputs": [],
   "source": [
    "class nn_sigmoid(object):\n",
    "    def __init__ (self, learning_rate = 0.005, n_iterations = 1000):\n",
    "        self.learning_rate = learning_rate\n",
    "        self.n_iterations = n_iterations\n",
    "    \n",
    "    def fit(self, X,y):\n",
    "        w_ = np.zeros(shape = (X.shape[1], 1))\n",
    "        b_ = 0.0\n",
    "        m_ = len(y)\n",
    "        cost_ = []\n",
    "        acc_ = []\n",
    "        i = 1\n",
    "        while(i != self.n_iterations):\n",
    "            z  = np.dot(X,w_) + b_\n",
    "            a = self.sigmoid(z)\n",
    "            acc = self.acc(y,np.where(a>0.5,1,0),m_)\n",
    "            acc_.append(acc)\n",
    "            cost = -np.sum((y * np.log(a)) + (1-y) * np.log(1-a)) \n",
    "            cost_.append(cost)\n",
    "            dw = (1/m_) * np.dot(X.T,(a-y)) \n",
    "            db = (1/m_) * np.sum(a-y)\n",
    "            w_ -= self.learning_rate * dw\n",
    "            b_ -= self.learning_rate * db\n",
    "            if i % 100 ==0 :\n",
    "                print(f'{i} epoch: cost {cost} and acc: {acc}')\n",
    "            i +=1\n",
    "        df = pd.DataFrame(cost_, columns=['cost'])\n",
    "        df['acc'] = acc_\n",
    "        df.plot(figsize = (14,6))\n",
    "        plt.title('Cost Function Monitoring')\n",
    "        plt.ylim(0,1)        \n",
    "        return w_,b_,cost_\n",
    "    \n",
    "    \n",
    "    def sigmoid(self,z):\n",
    "        return 1/(1+np.exp(-z))\n",
    "    \n",
    "    def acc(self, y_true, y_pred,  m):\n",
    "        return np.sum(y_true == y_pred)/m"
   ]
  },
  {
   "cell_type": "code",
   "execution_count": 23,
   "metadata": {},
   "outputs": [
    {
     "name": "stdout",
     "output_type": "stream",
     "text": [
      "100 epoch: cost 293.7774904810284 and acc: 0.8998242530755711\n",
      "200 epoch: cost 255.7198565098425 and acc: 0.9068541300527241\n",
      "300 epoch: cost 232.9102884629256 and acc: 0.9068541300527241\n",
      "400 epoch: cost 217.04355890736224 and acc: 0.9068541300527241\n",
      "500 epoch: cost 205.0911051769209 and acc: 0.9050966608084359\n",
      "600 epoch: cost 195.6416953178507 and acc: 0.9086115992970123\n",
      "700 epoch: cost 187.93362576467564 and acc: 0.9086115992970123\n",
      "800 epoch: cost 181.51050238890662 and acc: 0.9086115992970123\n",
      "900 epoch: cost 176.07498572645392 and acc: 0.9086115992970123\n"
     ]
    },
    {
     "data": {
      "image/png": "[encoded data removed]",
      "text/plain": [
       "<Figure size 1008x432 with 1 Axes>"
      ]
     },
     "metadata": {
      "needs_background": "light"
     },
     "output_type": "display_data"
    }
   ],
   "source": [
    "w_, b_ , cost_ = nn_sigmoid(learning_rate= 0.000005, n_iterations= 1000).fit(X,y)"
   ]
  },
  {
   "cell_type": "code",
   "execution_count": null,
   "metadata": {},
   "outputs": [],
   "source": []
  }
 ],
 "metadata": {
  "kernelspec": {
   "display_name": "Python 3",
   "language": "python",
   "name": "python3"
  },
  "language_info": {
   "codemirror_mode": {
    "name": "ipython",
    "version": 3
   },
   "file_extension": ".py",
   "mimetype": "text/x-python",
   "name": "python",
   "nbconvert_exporter": "python",
   "pygments_lexer": "ipython3",
   "version": "3.8.3"
  }
 },
 "nbformat": 4,
 "nbformat_minor": 4
}
