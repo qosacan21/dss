{
 "cells": [
  {
   "cell_type": "code",
   "execution_count": 1,
   "metadata": {},
   "outputs": [],
   "source": [
    "import numpy as np\n",
    "import pandas as pd\n",
    "from sklearn.datasets import load_boston\n",
    "import matplotlib.pyplot as plt"
   ]
  },
  {
   "cell_type": "code",
   "execution_count": 2,
   "metadata": {},
   "outputs": [],
   "source": [
    "X, y = load_boston().data, load_boston().target.reshape(-1,1)"
   ]
  },
  {
   "cell_type": "code",
   "execution_count": 3,
   "metadata": {},
   "outputs": [
    {
     "data": {
      "text/plain": [
       "((506, 13), (506, 1))"
      ]
     },
     "execution_count": 3,
     "metadata": {},
     "output_type": "execute_result"
    }
   ],
   "source": [
    "X.shape, y.shape"
   ]
  },
  {
   "cell_type": "code",
   "execution_count": 47,
   "metadata": {},
   "outputs": [],
   "source": [
    "class NN_Build(object):\n",
    "    def __init__(self, eta = 0.0005, iterations = 1000, activation = \"relu\", epsilon = 0.01, kernel_init = 'he_init', \n",
    "                 dims = [X.shape[1],30,5,1], lam = 0.9):\n",
    "        self.eta = eta\n",
    "        self.iterations = iterations\n",
    "        self.activation = activation\n",
    "        self.epsilon = epsilon\n",
    "        self.kernel_init = kernel_init\n",
    "        self.dims = dims\n",
    "        self.layer = len(dims)\n",
    "        self.lam = lam\n",
    "        \n",
    "    def fit(self,X,y):\n",
    "        X_ = X.T\n",
    "        y_ = y.T\n",
    "        A0 = X_\n",
    "        i = 1\n",
    "        m_ = len(y)\n",
    "        parameters = {}\n",
    "        cost_ = []\n",
    "        cost_mae_ = []\n",
    "        \n",
    "        if self.kernel_init == \"he_init\":\n",
    "            for l in range(1,self.layer):\n",
    "                parameters['W'+str(l)] = np.random.randn(self.dims[l],self.dims[l-1])  * np.sqrt(2/self.dims[l-1]) \n",
    "                parameters['b' + str(l)] = np.zeros((self.dims[l],1)) \n",
    "            print('kernel_init is he_init')\n",
    "        else:\n",
    "            for l in range(1,self.layer):\n",
    "                parameters['W'+str(l)] = np.random.randn(self.dims[l],self.dims[l-1])  * self.epsilon\n",
    "                parameters['b' + str(l)] = np.zeros((self.dims[l],1)) \n",
    "            print('kernel_init is random nd')\n",
    "        \n",
    "        while(i !=self.iterations+1):\n",
    "            #forward prop\n",
    "            Z1 = np.dot(parameters['W1'],A0) + parameters['b1']\n",
    "            if self.activation == \"relu\":\n",
    "                A1 = self.relu(Z1)\n",
    "            else:\n",
    "                A1 = self.sigmoid(Z1)\n",
    "            Z2= np.dot(parameters['W2'],A1) + parameters['b2']\n",
    "            if self.activation == \"relu\":\n",
    "                A2 = self.relu(Z2)\n",
    "            else:\n",
    "                A2 = self.sigmoid(Z2)\n",
    "            Z3 = np.dot(parameters['W3'],A2) + parameters['b3']\n",
    "            A3 = Z3            \n",
    "            #cost\n",
    "            l2_reg = (self.lam/(2*m_)) * (np.sum(np.square(parameters['W1']))+np.sum(np.square(parameters['W2']))+np.sum(np.square(parameters['W3'])))\n",
    "            cost = self.MSE(y_true = y_, y_pred = A3 , n = m_) + l2_reg\n",
    "            cost_.append(cost)\n",
    "            cost_mae = self.MAE(y_true = y_, y_pred = A3 , n = m_) + l2_reg\n",
    "            cost_mae_.append(cost_mae)           \n",
    "            #derivative\n",
    "            dZ3 = A3 - y_\n",
    "            dW3 = (1/m_) * np.dot(dZ3,A2.T) + (self.lam/m_) * parameters['W3']\n",
    "            db3 = (1/m_) * np.sum(dZ3, axis = 1, keepdims= True)\n",
    "            if self.activation == 'relu':\n",
    "                dZ2 = np.dot(parameters['W3'].T,dZ3) * (np.where(A2>=0,1,0))\n",
    "            else:\n",
    "                dZ2 = np.dot(parameters['W3'].T,dZ3) * (A2 * (1-A2))\n",
    "            dW2 = (1/m_) * np.dot(dZ2,A1.T) + (self.lam/m_) * parameters['W2']\n",
    "            db2 = (1/m_) * np.sum(dZ2, axis = 1, keepdims= True)\n",
    "            if self.activation == 'relu':\n",
    "                dZ1 = np.dot(parameters['W2'].T,dZ2) * (np.where(A1>=0,1,0))\n",
    "            else:\n",
    "                dZ1 = np.dot(parameters['W2'].T,dZ2) * (A1 * (1-A1))\n",
    "            dW1 = (1/m_) * np.dot(dZ1,A0.T) + (self.lam/m_) * parameters['W1']\n",
    "            db1 = (1/m_) * np.sum(dZ1, axis = 1, keepdims= True)\n",
    "            #update\n",
    "            parameters['W3'] -= self.eta * dW3\n",
    "            parameters['W2'] -= self.eta * dW2\n",
    "            parameters['W1'] -= self.eta * dW1\n",
    "            parameters['b3'] -= self.eta * db3\n",
    "            parameters['b2'] -= self.eta * db2\n",
    "            parameters['b1'] -= self.eta * db1\n",
    "            #inform\n",
    "            if i % 200 == 0:\n",
    "                print('epoch_{} cost: {}  mae: {}'.format(i,cost,cost_mae))\n",
    "            \n",
    "            i += 1\n",
    "            \n",
    "        history = pd.DataFrame(cost_, columns = ['cost'])\n",
    "        history['mae'] = cost_mae_\n",
    "        plt.figure(figsize = (14,4))\n",
    "        plt.subplot(1,2,1)\n",
    "        plt.plot(history.cost)\n",
    "        plt.subplot(1,2,2)\n",
    "        plt.plot(history.mae)\n",
    "        return parameters,A3,A2\n",
    "    \n",
    "    def sigmoid(self,z):\n",
    "        return 1 / (1+ np.exp(-z))\n",
    "    \n",
    "    def relu(self,z):\n",
    "        return np.where(z>=0,z,0)\n",
    "    \n",
    "    def MSE(self,y_true,y_pred,n):\n",
    "        return (1/n) * np.sum(np.square(y_true-y_pred))\n",
    "    \n",
    "    def MAE(self,y_true,y_pred,n):\n",
    "        return (1/n) * np.sum(np.abs(y_true-y_pred))\n",
    "        \n",
    "        "
   ]
  },
  {
   "cell_type": "code",
   "execution_count": 48,
   "metadata": {},
   "outputs": [
    {
     "name": "stdout",
     "output_type": "stream",
     "text": [
      "kernel_init is he_init\n",
      "epoch_200 cost: 224.04269100925904  mae: 11.761916253636162\n",
      "epoch_400 cost: 204.44715280378347  mae: 11.244533573846377\n",
      "epoch_600 cost: 192.40504109348032  mae: 10.909106727808615\n",
      "epoch_800 cost: 182.63152432814334  mae: 10.638204798673685\n",
      "epoch_1000 cost: 174.0226150825228  mae: 10.386446850585372\n",
      "epoch_1200 cost: 166.5172290796763  mae: 10.158577020578166\n",
      "epoch_1400 cost: 159.95209112376904  mae: 9.950039109929982\n",
      "epoch_1600 cost: 154.06873730870512  mae: 9.758174603387783\n",
      "epoch_1800 cost: 148.8252483121281  mae: 9.58764090637151\n",
      "epoch_2000 cost: 144.04157211337002  mae: 9.42964268172654\n",
      "epoch_2200 cost: 139.7112598216458  mae: 9.286152805130058\n",
      "epoch_2400 cost: 135.64941674063678  mae: 9.152321640690865\n",
      "epoch_2600 cost: 131.8801983369511  mae: 9.022506139354793\n",
      "epoch_2800 cost: 128.25200695149798  mae: 8.892930107620069\n",
      "epoch_3000 cost: 124.72993530873286  mae: 8.764346950458402\n",
      "epoch_3200 cost: 121.4652287038417  mae: 8.642703110581154\n",
      "epoch_3400 cost: 118.32765735958415  mae: 8.523593034999319\n",
      "epoch_3600 cost: 115.322441988191  mae: 8.407316822690479\n",
      "epoch_3800 cost: 112.50799434311486  mae: 8.297538010131769\n",
      "epoch_4000 cost: 109.8896606965483  mae: 8.193631953528635\n",
      "epoch_4200 cost: 107.42461741756651  mae: 8.092309485317982\n",
      "epoch_4400 cost: 105.0834181225295  mae: 7.992503356050482\n",
      "epoch_4600 cost: 102.88164974466596  mae: 7.897071593056443\n",
      "epoch_4800 cost: 100.82073549030886  mae: 7.805929771329149\n",
      "epoch_5000 cost: 98.86766444675315  mae: 7.717526556402459\n"
     ]
    },
    {
     "data": {
      "image/png": "[encoded data removed]",
      "text/plain": [
       "<Figure size 1008x288 with 2 Axes>"
      ]
     },
     "metadata": {
      "needs_background": "light"
     },
     "output_type": "display_data"
    }
   ],
   "source": [
    "parameters, A3, A2 = NN_Build(eta=0.0000005,\n",
    "    iterations=5000,\n",
    "    activation='relu',\n",
    "    epsilon=0.01,\n",
    "    kernel_init='he_init',\n",
    "    dims=[13, 30, 8, 1],\n",
    "    lam = 0.9).fit(X,y)"
   ]
  },
  {
   "cell_type": "code",
   "execution_count": 49,
   "metadata": {},
   "outputs": [
    {
     "data": {
      "text/plain": [
       "(8, 506)"
      ]
     },
     "execution_count": 49,
     "metadata": {},
     "output_type": "execute_result"
    }
   ],
   "source": [
    "A2.shape"
   ]
  },
  {
   "cell_type": "code",
   "execution_count": 50,
   "metadata": {},
   "outputs": [
    {
     "data": {
      "text/plain": [
       "(1, 506)"
      ]
     },
     "execution_count": 50,
     "metadata": {},
     "output_type": "execute_result"
    }
   ],
   "source": [
    "A3.shape"
   ]
  },
  {
   "cell_type": "code",
   "execution_count": 51,
   "metadata": {},
   "outputs": [
    {
     "data": {
      "text/plain": [
       "array([[  0.        , 127.67770464,  39.04111414, ...,  83.8379869 ,\n",
       "         30.10444435,   0.        ],\n",
       "       [  0.        , 131.0799327 ,  19.66264752, ...,  99.45280016,\n",
       "         21.09641792,   0.        ],\n",
       "       [  0.        , 133.47457454,  28.54848568, ...,  98.99930022,\n",
       "         14.82232004,   0.        ],\n",
       "       ...,\n",
       "       [  0.        , 121.91552359,  24.9546225 , ...,  80.96597985,\n",
       "         45.67567865,   0.        ],\n",
       "       [  0.        , 121.11623925,  26.00703946, ...,  79.89540951,\n",
       "         46.0680718 ,   0.        ],\n",
       "       [  0.        , 125.34869621,  30.55841207, ...,  83.89122246,\n",
       "         41.2614575 ,   0.        ]])"
      ]
     },
     "execution_count": 51,
     "metadata": {},
     "output_type": "execute_result"
    }
   ],
   "source": [
    "A2.T"
   ]
  },
  {
   "cell_type": "code",
   "execution_count": 54,
   "metadata": {},
   "outputs": [
    {
     "data": {
      "text/plain": [
       "<AxesSubplot:>"
      ]
     },
     "execution_count": 54,
     "metadata": {},
     "output_type": "execute_result"
    },
    {
     "data": {
      "image/png": "[encoded data removed]",
      "text/plain": [
       "<Figure size 432x288 with 1 Axes>"
      ]
     },
     "metadata": {
      "needs_background": "light"
     },
     "output_type": "display_data"
    }
   ],
   "source": [
    "pd.DataFrame(np.hstack([A2.T,y])).corr().fillna(0).iloc[8,:].plot(kind = 'bar')"
   ]
  },
  {
   "cell_type": "code",
   "execution_count": null,
   "metadata": {},
   "outputs": [],
   "source": []
  }
 ],
 "metadata": {
  "kernelspec": {
   "display_name": "Python 3",
   "language": "python",
   "name": "python3"
  },
  "language_info": {
   "codemirror_mode": {
    "name": "ipython",
    "version": 3
   },
   "file_extension": ".py",
   "mimetype": "text/x-python",
   "name": "python",
   "nbconvert_exporter": "python",
   "pygments_lexer": "ipython3",
   "version": "3.8.5"
  }
 },
 "nbformat": 4,
 "nbformat_minor": 4
}
